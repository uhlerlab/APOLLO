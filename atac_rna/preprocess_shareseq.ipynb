{
 "cells": [
  {
   "cell_type": "code",
   "execution_count": 1,
   "id": "55a28524",
   "metadata": {
    "scrolled": true
   },
   "outputs": [
    {
     "name": "stderr",
     "output_type": "stream",
     "text": [
      "Loading required package: stats4\n",
      "\n",
      "Loading required package: BiocGenerics\n",
      "\n",
      "\n",
      "Attaching package: ‘BiocGenerics’\n",
      "\n",
      "\n",
      "The following objects are masked from ‘package:stats’:\n",
      "\n",
      "    IQR, mad, sd, var, xtabs\n",
      "\n",
      "\n",
      "The following objects are masked from ‘package:base’:\n",
      "\n",
      "    anyDuplicated, aperm, append, as.data.frame, basename, cbind,\n",
      "    colnames, dirname, do.call, duplicated, eval, evalq, Filter, Find,\n",
      "    get, grep, grepl, intersect, is.unsorted, lapply, Map, mapply,\n",
      "    match, mget, order, paste, pmax, pmax.int, pmin, pmin.int,\n",
      "    Position, rank, rbind, Reduce, rownames, sapply, setdiff, sort,\n",
      "    table, tapply, union, unique, unsplit, which.max, which.min\n",
      "\n",
      "\n",
      "Loading required package: S4Vectors\n",
      "\n",
      "\n",
      "Attaching package: ‘S4Vectors’\n",
      "\n",
      "\n",
      "The following objects are masked from ‘package:Matrix’:\n",
      "\n",
      "    expand, unname\n",
      "\n",
      "\n",
      "The following objects are masked from ‘package:base’:\n",
      "\n",
      "    expand.grid, I, unname\n",
      "\n",
      "\n",
      "Loading required package: IRanges\n",
      "\n",
      "Loading required package: GenomeInfoDb\n",
      "\n",
      "The legacy packages maptools, rgdal, and rgeos, underpinning this package\n",
      "will retire shortly. Please refer to R-spatial evolution reports on\n",
      "https://r-spatial.org/r/2023/05/15/evolution4.html for details.\n",
      "This package is now running under evolution status 0 \n",
      "\n",
      "Attaching SeuratObject\n",
      "\n",
      "Registered S3 method overwritten by 'SeuratDisk':\n",
      "  method            from  \n",
      "  as.sparse.H5Group Seurat\n",
      "\n",
      "\n",
      "\n",
      "ChIPseeker v1.34.1  For help: https://guangchuangyu.github.io/software/ChIPseeker\n",
      "\n",
      "If you use ChIPseeker in published research, please cite:\n",
      "Qianwen Wang, Ming Li, Tianzhi Wu, Li Zhan, Lin Li, Meijun Chen, Wenqin Xie, Zijing Xie, Erqiang Hu, Shuangbin Xu, Guangchuang Yu. Exploring epigenomic datasets by ChIPseeker. Current Protocols 2022, 2(10): e585\n",
      "\n",
      "Loading required package: GenomicFeatures\n",
      "\n",
      "Loading required package: AnnotationDbi\n",
      "\n",
      "Loading required package: Biobase\n",
      "\n",
      "Welcome to Bioconductor\n",
      "\n",
      "    Vignettes contain introductory material; view with\n",
      "    'browseVignettes()'. To cite Bioconductor, see\n",
      "    'citation(\"Biobase\")', and for packages 'citation(\"pkgname\")'.\n",
      "\n",
      "\n"
     ]
    }
   ],
   "source": [
    "library(Matrix)\n",
    "library(GenomicRanges)\n",
    "library(Seurat)\n",
    "library(SeuratDisk)\n",
    "library(ChIPseeker)\n",
    "library(TxDb.Mmusculus.UCSC.mm10.knownGene)"
   ]
  },
  {
   "cell_type": "code",
   "execution_count": 2,
   "id": "65d0528e",
   "metadata": {},
   "outputs": [],
   "source": [
    "skin_atac=readMM('/data/xinyi/shareseq/GSM4156597_skin.late.anagen.counts.txt.gz')"
   ]
  },
  {
   "cell_type": "code",
   "execution_count": 3,
   "id": "e16562ab",
   "metadata": {},
   "outputs": [],
   "source": [
    "skin_barcode=read.csv('/data/xinyi/shareseq/GSM4156597_skin.late.anagen.barcodes.txt.gz',header = FALSE)"
   ]
  },
  {
   "cell_type": "code",
   "execution_count": 4,
   "id": "f1547b9b",
   "metadata": {},
   "outputs": [],
   "source": [
    "skin_peaks=read.csv('/data/xinyi/shareseq/GSM4156597_skin.late.anagen.peaks.bed.gz',header = FALSE,sep = '\\t')"
   ]
  },
  {
   "cell_type": "code",
   "execution_count": 5,
   "id": "f9511757",
   "metadata": {},
   "outputs": [],
   "source": [
    "skin_celltypes=read.csv('/data/xinyi/shareseq/GSM4156597_skin_celltype.txt.gz',header=TRUE,sep='\\t')"
   ]
  },
  {
   "cell_type": "code",
   "execution_count": 7,
   "id": "074bd769",
   "metadata": {},
   "outputs": [],
   "source": [
    "skin_rna=read.table('/data/xinyi/shareseq/GSM4156608_skin.late.anagen.rna.counts.txt.gz')"
   ]
  },
  {
   "cell_type": "code",
   "execution_count": 8,
   "id": "f74a9e69",
   "metadata": {},
   "outputs": [],
   "source": [
    "colnames(skin_rna)<-skin_rna[1,]"
   ]
  },
  {
   "cell_type": "code",
   "execution_count": 9,
   "id": "071217a4",
   "metadata": {},
   "outputs": [],
   "source": [
    "skin_rna=skin_rna[-1,]"
   ]
  },
  {
   "cell_type": "code",
   "execution_count": 10,
   "id": "ddcd5531",
   "metadata": {},
   "outputs": [],
   "source": [
    "colnames(skin_rna)=gsub(',','.',colnames(skin_rna))"
   ]
  },
  {
   "cell_type": "code",
   "execution_count": 12,
   "id": "fcc1e902",
   "metadata": {},
   "outputs": [
    {
     "name": "stderr",
     "output_type": "stream",
     "text": [
      "Warning message in asMethod(object):\n",
      "“sparse->dense coercion: allocating vector of size 89.3 GiB”\n"
     ]
    }
   ],
   "source": [
    "skin_atac=as.matrix(skin_atac)"
   ]
  },
  {
   "cell_type": "code",
   "execution_count": 13,
   "id": "59a654b2",
   "metadata": {},
   "outputs": [],
   "source": [
    "skin_atac=as.data.frame(skin_atac)"
   ]
  },
  {
   "cell_type": "code",
   "execution_count": 14,
   "id": "335ef44b",
   "metadata": {},
   "outputs": [],
   "source": [
    "skin_atac=cbind(skin_peaks,skin_atac)"
   ]
  },
  {
   "cell_type": "code",
   "execution_count": 15,
   "id": "011aefd6",
   "metadata": {},
   "outputs": [],
   "source": [
    "colnames(skin_atac)=c('chr','start','end',skin_barcode$V1)"
   ]
  },
  {
   "cell_type": "code",
   "execution_count": 16,
   "id": "b70c159c",
   "metadata": {},
   "outputs": [
    {
     "data": {
      "text/html": [
       "<table class=\"dataframe\">\n",
       "<caption>A matrix: 2 × 6 of type dbl</caption>\n",
       "<thead>\n",
       "\t<tr><th></th><th scope=col>used</th><th scope=col>(Mb)</th><th scope=col>gc trigger</th><th scope=col>(Mb)</th><th scope=col>max used</th><th scope=col>(Mb)</th></tr>\n",
       "</thead>\n",
       "<tbody>\n",
       "\t<tr><th scope=row>Ncells</th><td>   10465366</td><td>  559.0</td><td>   18599114</td><td>   993.3</td><td>   18599114</td><td>   993.3</td></tr>\n",
       "\t<tr><th scope=row>Vcells</th><td>13002767108</td><td>99203.3</td><td>27545539043</td><td>210155.8</td><td>26080031404</td><td>198974.9</td></tr>\n",
       "</tbody>\n",
       "</table>\n"
      ],
      "text/latex": [
       "A matrix: 2 × 6 of type dbl\n",
       "\\begin{tabular}{r|llllll}\n",
       "  & used & (Mb) & gc trigger & (Mb) & max used & (Mb)\\\\\n",
       "\\hline\n",
       "\tNcells &    10465366 &   559.0 &    18599114 &    993.3 &    18599114 &    993.3\\\\\n",
       "\tVcells & 13002767108 & 99203.3 & 27545539043 & 210155.8 & 26080031404 & 198974.9\\\\\n",
       "\\end{tabular}\n"
      ],
      "text/markdown": [
       "\n",
       "A matrix: 2 × 6 of type dbl\n",
       "\n",
       "| <!--/--> | used | (Mb) | gc trigger | (Mb) | max used | (Mb) |\n",
       "|---|---|---|---|---|---|---|\n",
       "| Ncells |    10465366 |   559.0 |    18599114 |    993.3 |    18599114 |    993.3 |\n",
       "| Vcells | 13002767108 | 99203.3 | 27545539043 | 210155.8 | 26080031404 | 198974.9 |\n",
       "\n"
      ],
      "text/plain": [
       "       used        (Mb)    gc trigger  (Mb)     max used    (Mb)    \n",
       "Ncells    10465366   559.0    18599114    993.3    18599114    993.3\n",
       "Vcells 13002767108 99203.3 27545539043 210155.8 26080031404 198974.9"
      ]
     },
     "metadata": {},
     "output_type": "display_data"
    }
   ],
   "source": [
    "gc()"
   ]
  },
  {
   "cell_type": "code",
   "execution_count": 18,
   "id": "a6ccb369",
   "metadata": {},
   "outputs": [],
   "source": [
    "skin_atac=skin_atac[apply(skin_atac[,4:ncol(skin_atac)], 1, max) > 2,]"
   ]
  },
  {
   "cell_type": "code",
   "execution_count": 20,
   "id": "490a43cb",
   "metadata": {},
   "outputs": [
    {
     "data": {
      "text/html": [
       "<style>\n",
       ".list-inline {list-style: none; margin:0; padding: 0}\n",
       ".list-inline>li {display: inline-block}\n",
       ".list-inline>li:not(:last-child)::after {content: \"\\00b7\"; padding: 0 .5ex}\n",
       "</style>\n",
       "<ol class=list-inline><li>70284</li><li>34777</li></ol>\n"
      ],
      "text/latex": [
       "\\begin{enumerate*}\n",
       "\\item 70284\n",
       "\\item 34777\n",
       "\\end{enumerate*}\n"
      ],
      "text/markdown": [
       "1. 70284\n",
       "2. 34777\n",
       "\n",
       "\n"
      ],
      "text/plain": [
       "[1] 70284 34777"
      ]
     },
     "metadata": {},
     "output_type": "display_data"
    }
   ],
   "source": [
    "dim(skin_atac)"
   ]
  },
  {
   "cell_type": "code",
   "execution_count": 21,
   "id": "39e1b6c7",
   "metadata": {},
   "outputs": [],
   "source": [
    "skin_rna=skin_rna[apply(skin_rna, 1, max) > 4,]"
   ]
  },
  {
   "cell_type": "code",
   "execution_count": 23,
   "id": "e604610b",
   "metadata": {},
   "outputs": [
    {
     "data": {
      "text/html": [
       "<style>\n",
       ".list-inline {list-style: none; margin:0; padding: 0}\n",
       ".list-inline>li {display: inline-block}\n",
       ".list-inline>li:not(:last-child)::after {content: \"\\00b7\"; padding: 0 .5ex}\n",
       "</style>\n",
       "<ol class=list-inline><li>22666</li><li>42949</li></ol>\n"
      ],
      "text/latex": [
       "\\begin{enumerate*}\n",
       "\\item 22666\n",
       "\\item 42949\n",
       "\\end{enumerate*}\n"
      ],
      "text/markdown": [
       "1. 22666\n",
       "2. 42949\n",
       "\n",
       "\n"
      ],
      "text/plain": [
       "[1] 22666 42949"
      ]
     },
     "metadata": {},
     "output_type": "display_data"
    }
   ],
   "source": [
    "dim(skin_rna)"
   ]
  },
  {
   "cell_type": "code",
   "execution_count": 24,
   "id": "004e68ee",
   "metadata": {},
   "outputs": [],
   "source": [
    "sharedCells=intersect(colnames(skin_rna),colnames(skin_atac))"
   ]
  },
  {
   "cell_type": "code",
   "execution_count": 25,
   "id": "2c59177e",
   "metadata": {},
   "outputs": [
    {
     "data": {
      "text/html": [
       "34774"
      ],
      "text/latex": [
       "34774"
      ],
      "text/markdown": [
       "34774"
      ],
      "text/plain": [
       "[1] 34774"
      ]
     },
     "metadata": {},
     "output_type": "display_data"
    }
   ],
   "source": [
    "length(sharedCells)"
   ]
  },
  {
   "cell_type": "code",
   "execution_count": 26,
   "id": "42d222d7",
   "metadata": {},
   "outputs": [],
   "source": [
    "skin_rna=skin_rna[,c('gene',sharedCells)]"
   ]
  },
  {
   "cell_type": "code",
   "execution_count": 27,
   "id": "9205a316",
   "metadata": {},
   "outputs": [
    {
     "data": {
      "text/html": [
       "<style>\n",
       ".list-inline {list-style: none; margin:0; padding: 0}\n",
       ".list-inline>li {display: inline-block}\n",
       ".list-inline>li:not(:last-child)::after {content: \"\\00b7\"; padding: 0 .5ex}\n",
       "</style>\n",
       "<ol class=list-inline><li>22666</li><li>34775</li></ol>\n"
      ],
      "text/latex": [
       "\\begin{enumerate*}\n",
       "\\item 22666\n",
       "\\item 34775\n",
       "\\end{enumerate*}\n"
      ],
      "text/markdown": [
       "1. 22666\n",
       "2. 34775\n",
       "\n",
       "\n"
      ],
      "text/plain": [
       "[1] 22666 34775"
      ]
     },
     "metadata": {},
     "output_type": "display_data"
    }
   ],
   "source": [
    "dim(skin_rna)"
   ]
  },
  {
   "cell_type": "code",
   "execution_count": 25,
   "id": "bc72325e",
   "metadata": {},
   "outputs": [],
   "source": [
    "# store as h5ad\n",
    "skin_rna=CreateSeuratObject(skin_rna[,2:ncol(skin_rna)],row.names = skin_rna$gene)"
   ]
  },
  {
   "cell_type": "code",
   "execution_count": 27,
   "id": "5e30baf8",
   "metadata": {},
   "outputs": [
    {
     "name": "stderr",
     "output_type": "stream",
     "text": [
      "Creating h5Seurat file for version 3.1.5.9900\n",
      "\n",
      "Adding counts for RNA\n",
      "\n",
      "Adding data for RNA\n",
      "\n",
      "No variable features found for RNA\n",
      "\n",
      "No feature-level metadata found for RNA\n",
      "\n"
     ]
    }
   ],
   "source": [
    "SaveH5Seurat(skin_rna,filename = '/data/xinyi/shareseq/skin_rna.h5Seurat')"
   ]
  },
  {
   "cell_type": "code",
   "execution_count": 28,
   "id": "99d26cd7",
   "metadata": {},
   "outputs": [
    {
     "name": "stderr",
     "output_type": "stream",
     "text": [
      "Validating h5Seurat file\n",
      "\n",
      "Adding data from RNA as X\n",
      "\n",
      "Adding counts from RNA as raw\n",
      "\n",
      "Transfering meta.data to obs\n",
      "\n"
     ]
    }
   ],
   "source": [
    "Convert('/data/xinyi/shareseq/skin_rna.h5Seurat',dest='h5ad')"
   ]
  },
  {
   "cell_type": "code",
   "execution_count": 29,
   "id": "f853d106",
   "metadata": {},
   "outputs": [
    {
     "name": "stderr",
     "output_type": "stream",
     "text": [
      "Warning message:\n",
      "“Feature names cannot have underscores ('_'), replacing with dashes ('-')”\n"
     ]
    }
   ],
   "source": [
    "# store as h5ad\n",
    "skin_atac_seurat=CreateSeuratObject(skin_atac[,4:ncol(skin_atac)],row.names = paste0(skin_atac$chr, '_', skin_atac$start, '_', skin_atac$end))\n"
   ]
  },
  {
   "cell_type": "code",
   "execution_count": 36,
   "id": "48da0182",
   "metadata": {},
   "outputs": [
    {
     "data": {
      "text/html": [
       "<table class=\"dataframe\">\n",
       "<caption>A matrix: 2 × 6 of type dbl</caption>\n",
       "<thead>\n",
       "\t<tr><th></th><th scope=col>used</th><th scope=col>(Mb)</th><th scope=col>gc trigger</th><th scope=col>(Mb)</th><th scope=col>max used</th><th scope=col>(Mb)</th></tr>\n",
       "</thead>\n",
       "<tbody>\n",
       "\t<tr><th scope=row>Ncells</th><td>   5615390</td><td>  299.9</td><td>   9804137</td><td>  523.6</td><td>    9804137</td><td>   523.6</td></tr>\n",
       "\t<tr><th scope=row>Vcells</th><td>2620920553</td><td>19996.1</td><td>7143751939</td><td>54502.6</td><td>52176593497</td><td>398075.9</td></tr>\n",
       "</tbody>\n",
       "</table>\n"
      ],
      "text/latex": [
       "A matrix: 2 × 6 of type dbl\n",
       "\\begin{tabular}{r|llllll}\n",
       "  & used & (Mb) & gc trigger & (Mb) & max used & (Mb)\\\\\n",
       "\\hline\n",
       "\tNcells &    5615390 &   299.9 &    9804137 &   523.6 &     9804137 &    523.6\\\\\n",
       "\tVcells & 2620920553 & 19996.1 & 7143751939 & 54502.6 & 52176593497 & 398075.9\\\\\n",
       "\\end{tabular}\n"
      ],
      "text/markdown": [
       "\n",
       "A matrix: 2 × 6 of type dbl\n",
       "\n",
       "| <!--/--> | used | (Mb) | gc trigger | (Mb) | max used | (Mb) |\n",
       "|---|---|---|---|---|---|---|\n",
       "| Ncells |    5615390 |   299.9 |    9804137 |   523.6 |     9804137 |    523.6 |\n",
       "| Vcells | 2620920553 | 19996.1 | 7143751939 | 54502.6 | 52176593497 | 398075.9 |\n",
       "\n"
      ],
      "text/plain": [
       "       used       (Mb)    gc trigger (Mb)    max used    (Mb)    \n",
       "Ncells    5615390   299.9    9804137   523.6     9804137    523.6\n",
       "Vcells 2620920553 19996.1 7143751939 54502.6 52176593497 398075.9"
      ]
     },
     "metadata": {},
     "output_type": "display_data"
    }
   ],
   "source": [
    "gc()"
   ]
  },
  {
   "cell_type": "code",
   "execution_count": null,
   "id": "dad43bde",
   "metadata": {},
   "outputs": [],
   "source": [
    "skin_atac_seurat$celltype=skin_celltypes$celltype"
   ]
  },
  {
   "cell_type": "code",
   "execution_count": 34,
   "id": "116801e2",
   "metadata": {},
   "outputs": [
    {
     "name": "stderr",
     "output_type": "stream",
     "text": [
      "Creating h5Seurat file for version 3.1.5.9900\n",
      "\n",
      "Adding counts for RNA\n",
      "\n",
      "Adding data for RNA\n",
      "\n",
      "No variable features found for RNA\n",
      "\n",
      "No feature-level metadata found for RNA\n",
      "\n"
     ]
    }
   ],
   "source": [
    "SaveH5Seurat(skin_atac_seurat,filename = '/data/xinyi/shareseq/skin_atac.h5Seurat')"
   ]
  },
  {
   "cell_type": "code",
   "execution_count": 35,
   "id": "3fb67d53",
   "metadata": {},
   "outputs": [
    {
     "name": "stderr",
     "output_type": "stream",
     "text": [
      "Validating h5Seurat file\n",
      "\n",
      "Adding data from RNA as X\n",
      "\n",
      "Adding counts from RNA as raw\n",
      "\n",
      "Transfering meta.data to obs\n",
      "\n"
     ]
    }
   ],
   "source": [
    "Convert('/data/xinyi/shareseq/skin_atac.h5Seurat',dest='h5ad')"
   ]
  },
  {
   "cell_type": "code",
   "execution_count": 2,
   "id": "09356940",
   "metadata": {},
   "outputs": [
    {
     "name": "stderr",
     "output_type": "stream",
     "text": [
      "Validating h5Seurat file\n",
      "\n",
      "Initializing RNA with data\n",
      "\n",
      "Adding counts for RNA\n",
      "\n",
      "Adding miscellaneous information for RNA\n",
      "\n",
      "Adding command information\n",
      "\n",
      "Adding cell-level metadata\n",
      "\n",
      "Adding miscellaneous information\n",
      "\n",
      "Adding tool-specific results\n",
      "\n"
     ]
    }
   ],
   "source": [
    "skin_atac=LoadH5Seurat('/data/xinyi/shareseq/skin_atac.h5Seurat')"
   ]
  },
  {
   "cell_type": "code",
   "execution_count": 29,
   "id": "3c0678dc",
   "metadata": {},
   "outputs": [],
   "source": [
    "#annotate\n",
    "gr = makeGRangesFromDataFrame(skin_atac, keep.extra.columns=T)"
   ]
  },
  {
   "cell_type": "code",
   "execution_count": 30,
   "id": "371d40c4",
   "metadata": {},
   "outputs": [
    {
     "name": "stdout",
     "output_type": "stream",
     "text": [
      ">> preparing features information...\t\t 2023-08-30 01:58:54 PM \n",
      ">> identifying nearest features...\t\t 2023-08-30 01:58:54 PM \n",
      ">> calculating distance from peak to TSS...\t 2023-08-30 01:59:10 PM \n",
      ">> assigning genomic annotation...\t\t 2023-08-30 01:59:10 PM \n",
      ">> adding gene annotation...\t\t\t 2023-08-30 01:59:25 PM \n"
     ]
    },
    {
     "name": "stderr",
     "output_type": "stream",
     "text": [
      "Loading required package: org.Mm.eg.db\n",
      "\n",
      "\n",
      "\n",
      "'select()' returned 1:many mapping between keys and columns\n",
      "\n"
     ]
    },
    {
     "name": "stdout",
     "output_type": "stream",
     "text": [
      ">> assigning chromosome lengths\t\t\t 2023-08-30 01:59:25 PM \n",
      ">> done...\t\t\t\t\t 2023-08-30 01:59:25 PM \n"
     ]
    }
   ],
   "source": [
    "peakAnno = annotatePeak(gr, tssRegion=c(-1000, 1000), TxDb=TxDb.Mmusculus.UCSC.mm10.knownGene, annoDb=\"org.Mm.eg.db\")\n"
   ]
  },
  {
   "cell_type": "code",
   "execution_count": 31,
   "id": "a8cf18dd",
   "metadata": {},
   "outputs": [
    {
     "data": {
      "image/png": "[encoded data removed]",
      "text/plain": [
       "plot without title"
      ]
     },
     "metadata": {
      "image/png": {
       "height": 420,
       "width": 420
      }
     },
     "output_type": "display_data"
    }
   ],
   "source": [
    "plotAnnoPie(peakAnno)"
   ]
  },
  {
   "cell_type": "code",
   "execution_count": 32,
   "id": "5e1b2247",
   "metadata": {},
   "outputs": [
    {
     "data": {
      "text/plain": [
       "Annotated peaks generated by ChIPseeker\n",
       "70284/70284  peaks were annotated\n",
       "Genomic Annotation Summary:\n",
       "             Feature  Frequency\n",
       "9           Promoter 39.2237209\n",
       "4             5' UTR  0.2162654\n",
       "3             3' UTR  1.3858062\n",
       "1           1st Exon  1.4171077\n",
       "7         Other Exon  2.4970121\n",
       "2         1st Intron 12.7383188\n",
       "8       Other Intron 17.1461499\n",
       "6 Downstream (<=300)  0.1223607\n",
       "5  Distal Intergenic 25.2532582"
      ]
     },
     "metadata": {},
     "output_type": "display_data"
    }
   ],
   "source": [
    "peakAnno"
   ]
  },
  {
   "cell_type": "code",
   "execution_count": 34,
   "id": "7e745c82",
   "metadata": {},
   "outputs": [],
   "source": [
    "peakAnnoDF <- as.data.frame(peakAnno@anno)"
   ]
  },
  {
   "cell_type": "code",
   "execution_count": 49,
   "id": "4c9b0d42",
   "metadata": {},
   "outputs": [
    {
     "data": {
      "text/html": [
       "<table class=\"dataframe\">\n",
       "<caption>A data.frame: 70284 × 12</caption>\n",
       "<thead>\n",
       "\t<tr><th></th><th scope=col>annotation</th><th scope=col>geneChr</th><th scope=col>geneStart</th><th scope=col>geneEnd</th><th scope=col>geneLength</th><th scope=col>geneStrand</th><th scope=col>geneId</th><th scope=col>transcriptId</th><th scope=col>distanceToTSS</th><th scope=col>ENSEMBL</th><th scope=col>SYMBOL</th><th scope=col>GENENAME</th></tr>\n",
       "\t<tr><th></th><th scope=col>&lt;chr&gt;</th><th scope=col>&lt;int&gt;</th><th scope=col>&lt;int&gt;</th><th scope=col>&lt;int&gt;</th><th scope=col>&lt;int&gt;</th><th scope=col>&lt;int&gt;</th><th scope=col>&lt;chr&gt;</th><th scope=col>&lt;chr&gt;</th><th scope=col>&lt;dbl&gt;</th><th scope=col>&lt;chr&gt;</th><th scope=col>&lt;chr&gt;</th><th scope=col>&lt;chr&gt;</th></tr>\n",
       "</thead>\n",
       "<tbody>\n",
       "\t<tr><th scope=row>1</th><td>Distal Intergenic                                            </td><td>20</td><td>143518591</td><td>143797792</td><td>279202</td><td>1</td><td>18481    </td><td>ENSMUST00000033640.13</td><td> -35385</td><td>ENSMUSG00000031284</td><td>Pak3   </td><td>p21 (RAC1) activated kinase 3                                          </td></tr>\n",
       "\t<tr><th scope=row>2</th><td>Distal Intergenic                                            </td><td> 6</td><td>  3288519</td><td>  3317019</td><td> 28501</td><td>1</td><td>667335   </td><td>ENSMUST00000201943.1 </td><td> -87243</td><td>ENSMUSG00000106779</td><td>Gm8579 </td><td>spermatogenesis associated glutamate (E)-rich protein 4a pseudogene    </td></tr>\n",
       "\t<tr><th scope=row>3</th><td>3' UTR                                                       </td><td> 9</td><td>123454790</td><td>123461899</td><td>  7110</td><td>1</td><td>102436   </td><td>ENSMUST00000215087.1 </td><td>   7060</td><td>ENSMUSG00000035202</td><td>Lars2  </td><td>leucyl-tRNA synthetase, mitochondrial                                  </td></tr>\n",
       "\t<tr><th scope=row>4</th><td>Distal Intergenic                                            </td><td> 1</td><td> 56636044</td><td> 56637435</td><td>  1392</td><td>2</td><td>71066    </td><td>ENSMUST00000062085.5 </td><td>-144660</td><td>ENSMUSG00000045336</td><td>Hsfy2  </td><td>heat shock transcription factor, Y-linked 2                            </td></tr>\n",
       "\t<tr><th scope=row>5</th><td>Exon (ENSMUST00000102326.1/ENSMUST00000102326.1, exon 1 of 1)</td><td> 9</td><td> 56201126</td><td> 56244065</td><td> 42940</td><td>2</td><td>244895   </td><td>ENSMUST00000188142.6 </td><td>  20097</td><td>ENSMUSG00000074305</td><td>Peak1  </td><td>pseudopodium-enriched atypical kinase 1                                </td></tr>\n",
       "\t<tr><th scope=row>6</th><td>Promoter                                                     </td><td> 1</td><td> 88277661</td><td> 88308073</td><td> 30413</td><td>1</td><td>171382   </td><td>ENSMUST00000148138.7 </td><td>      0</td><td>ENSMUSG00000036251</td><td>Trpm8  </td><td>transient receptor potential cation channel, subfamily M, member 8     </td></tr>\n",
       "\t<tr><th scope=row>7</th><td>Promoter                                                     </td><td>18</td><td> 31635085</td><td> 31647275</td><td> 12191</td><td>1</td><td>269003   </td><td>ENSMUST00000234846.1 </td><td>      0</td><td>ENSMUSG00000024260</td><td>Sap130 </td><td>Sin3A associated protein                                               </td></tr>\n",
       "\t<tr><th scope=row>8</th><td>Intron (ENSMUST00000231621.1/13972, intron 2 of 7)           </td><td>16</td><td> 18548743</td><td> 18552584</td><td>  3842</td><td>1</td><td>13972    </td><td>ENSMUST00000151253.1 </td><td> -15320</td><td>ENSMUSG00000000884</td><td>Gnb1l  </td><td>guanine nucleotide binding protein (G protein), beta polypeptide 1-like</td></tr>\n",
       "\t<tr><th scope=row>9</th><td>Promoter                                                     </td><td> 1</td><td>165461037</td><td>165481214</td><td> 20178</td><td>1</td><td>70456    </td><td>ENSMUST00000027853.5 </td><td>      0</td><td>ENSMUSG00000026568</td><td>Mpc2   </td><td>mitochondrial pyruvate carrier 2                                       </td></tr>\n",
       "\t<tr><th scope=row>10</th><td>Promoter                                                     </td><td> 1</td><td> 75307896</td><td> 75317637</td><td>  9742</td><td>2</td><td>13437    </td><td>ENSMUST00000066668.13</td><td>      0</td><td>ENSMUSG00000026209</td><td>Dnpep  </td><td>aspartyl aminopeptidase                                                </td></tr>\n",
       "\t<tr><th scope=row>11</th><td>Promoter                                                     </td><td>18</td><td> 46501746</td><td> 46525971</td><td> 24226</td><td>2</td><td>240263   </td><td>ENSMUST00000036226.5 </td><td>      0</td><td>ENSMUSG00000033319</td><td>Fem1c  </td><td>fem 1 homolog c                                                        </td></tr>\n",
       "\t<tr><th scope=row>12</th><td>Promoter                                                     </td><td> 4</td><td>  3938888</td><td>  3943523</td><td>  4636</td><td>1</td><td>66433    </td><td>ENSMUST00000108386.7 </td><td>    -30</td><td>ENSMUSG00000042198</td><td>Chchd7 </td><td>coiled-coil-helix-coiled-coil-helix domain containing 7                </td></tr>\n",
       "\t<tr><th scope=row>13</th><td>Promoter                                                     </td><td> 6</td><td> 71388634</td><td> 71440637</td><td> 52004</td><td>2</td><td>68477    </td><td>ENSMUST00000002292.14</td><td>      0</td><td>ENSMUSG00000002222</td><td>Rmnd5a </td><td>required for meiotic nuclear division 5 homolog A                      </td></tr>\n",
       "\t<tr><th scope=row>14</th><td>Promoter                                                     </td><td> 7</td><td>105371211</td><td>105400054</td><td> 28844</td><td>2</td><td>74349    </td><td>ENSMUST00000179474.8 </td><td>      0</td><td>ENSMUSG00000044465</td><td>Fhip1b </td><td>FHF complex subunit HOOK interacting protein 1B                        </td></tr>\n",
       "\t<tr><th scope=row>15</th><td>Promoter                                                     </td><td> 1</td><td>161816114</td><td>161876682</td><td> 60569</td><td>2</td><td>226551   </td><td>ENSMUST00000048377.10</td><td>    -22</td><td>ENSMUSG00000040297</td><td>Suco   </td><td>SUN domain containing ossification factor                              </td></tr>\n",
       "\t<tr><th scope=row>16</th><td>Promoter                                                     </td><td> 6</td><td>113307137</td><td>113324857</td><td> 17721</td><td>1</td><td>78783    </td><td>ENSMUST00000113122.7 </td><td>   -312</td><td>ENSMUSG00000001632</td><td>Brpf1  </td><td>bromodomain and PHD finger containing, 1                               </td></tr>\n",
       "\t<tr><th scope=row>17</th><td>Promoter                                                     </td><td> 1</td><td>177762962</td><td>177796511</td><td> 33550</td><td>2</td><td>11566    </td><td>ENSMUST00000016105.8 </td><td>     -5</td><td>ENSMUSG00000015961</td><td>Adss   </td><td>adenylosuccinate synthetase, non muscle                                </td></tr>\n",
       "\t<tr><th scope=row>18</th><td>Promoter                                                     </td><td> 4</td><td>139574720</td><td>139620382</td><td> 45663</td><td>1</td><td>212632   </td><td>ENSMUST00000174078.1 </td><td>    -95</td><td>ENSMUSG00000041025</td><td>Iffo2  </td><td>intermediate filament family orphan 2                                  </td></tr>\n",
       "\t<tr><th scope=row>19</th><td>Promoter                                                     </td><td>18</td><td> 21127201</td><td> 21300138</td><td>172938</td><td>2</td><td>381126   </td><td>ENSMUST00000049260.6 </td><td>    -85</td><td>ENSMUSG00000042680</td><td>Garem1 </td><td>GRB2 associated regulator of MAPK1 subtype 1                           </td></tr>\n",
       "\t<tr><th scope=row>20</th><td>Promoter                                                     </td><td> 3</td><td> 40949828</td><td> 40977782</td><td> 27955</td><td>1</td><td>214048   </td><td>ENSMUST00000048490.12</td><td>    -43</td><td>ENSMUSG00000025762</td><td>Larp1b </td><td>La ribonucleoprotein 1B                                                </td></tr>\n",
       "\t<tr><th scope=row>21</th><td>Promoter                                                     </td><td> 3</td><td>135438149</td><td>135465237</td><td> 27089</td><td>1</td><td>66105    </td><td>ENSMUST00000196446.4 </td><td>      0</td><td>ENSMUSG00000078578</td><td>Ube2d3 </td><td>ubiquitin-conjugating enzyme E2D 3                                     </td></tr>\n",
       "\t<tr><th scope=row>22</th><td>Promoter                                                     </td><td>13</td><td>119690379</td><td>119699726</td><td>  9348</td><td>1</td><td>208715   </td><td>ENSMUST00000225543.1 </td><td>      0</td><td>ENSMUSG00000093930</td><td>Hmgcs1 </td><td>3-hydroxy-3-methylglutaryl-Coenzyme A synthase 1                       </td></tr>\n",
       "\t<tr><th scope=row>23</th><td>Promoter                                                     </td><td> 5</td><td>110770949</td><td>110779260</td><td>  8312</td><td>1</td><td>100504049</td><td>ENSMUST00000132267.1 </td><td>      0</td><td>ENSMUSG00000086401</td><td>Gm15559</td><td>predicted gene 15559                                                   </td></tr>\n",
       "\t<tr><th scope=row>24</th><td>Promoter                                                     </td><td> 3</td><td> 38449259</td><td> 38484844</td><td> 35586</td><td>2</td><td>99696    </td><td>ENSMUST00000120875.7 </td><td>      0</td><td>ENSMUSG00000044864</td><td>Ankrd50</td><td>ankyrin repeat domain 50                                               </td></tr>\n",
       "\t<tr><th scope=row>25</th><td>Promoter                                                     </td><td> 7</td><td> 92643543</td><td> 92669934</td><td> 26392</td><td>2</td><td>74737    </td><td>ENSMUST00000119954.8 </td><td>      0</td><td>ENSMUSG00000041328</td><td>Pcf11  </td><td>PCF11 cleavage and polyadenylation factor subunit                      </td></tr>\n",
       "\t<tr><th scope=row>26</th><td>Promoter                                                     </td><td> 2</td><td>143947395</td><td>144011263</td><td> 63869</td><td>2</td><td>81910    </td><td>ENSMUST00000016072.11</td><td>      0</td><td>ENSMUSG00000027422</td><td>Rrbp1  </td><td>ribosome binding protein 1                                             </td></tr>\n",
       "\t<tr><th scope=row>27</th><td>Promoter                                                     </td><td> 2</td><td>121449195</td><td>121453420</td><td>  4226</td><td>1</td><td>378702   </td><td>ENSMUST00000139253.7 </td><td>      0</td><td>ENSMUSG00000074884</td><td>Serf2  </td><td>small EDRK-rich factor 2                                               </td></tr>\n",
       "\t<tr><th scope=row>28</th><td>Promoter                                                     </td><td>14</td><td> 20929398</td><td> 20998781</td><td> 69384</td><td>1</td><td>22330    </td><td>ENSMUST00000226113.1 </td><td>      0</td><td>ENSMUSG00000021823</td><td>Vcl    </td><td>vinculin                                                               </td></tr>\n",
       "\t<tr><th scope=row>29</th><td>Promoter                                                     </td><td>13</td><td> 47043499</td><td> 47085279</td><td> 41781</td><td>1</td><td>218214   </td><td>ENSMUST00000037025.15</td><td>      0</td><td>ENSMUSG00000038080</td><td>Kdm1b  </td><td>lysine (K)-specific demethylase 1B                                     </td></tr>\n",
       "\t<tr><th scope=row>30</th><td>Promoter                                                     </td><td>13</td><td> 69573449</td><td> 69611442</td><td> 37994</td><td>2</td><td>78925    </td><td>ENSMUST00000091514.5 </td><td>      0</td><td>ENSMUSG00000021594</td><td>Srd5a1 </td><td>steroid 5 alpha-reductase 1                                            </td></tr>\n",
       "\t<tr><th scope=row>⋮</th><td>⋮</td><td>⋮</td><td>⋮</td><td>⋮</td><td>⋮</td><td>⋮</td><td>⋮</td><td>⋮</td><td>⋮</td><td>⋮</td><td>⋮</td><td>⋮</td></tr>\n",
       "\t<tr><th scope=row>342909</th><td>Distal Intergenic                                                </td><td>16</td><td> 44724301</td><td> 44737284</td><td> 12984</td><td>1</td><td>212547   </td><td>ENSMUST00000048788.13</td><td> -6678</td><td>ENSMUSG00000036208</td><td>Nepro        </td><td>nucleolus and neural progenitor protein                                     </td></tr>\n",
       "\t<tr><th scope=row>342936</th><td>Promoter                                                         </td><td>16</td><td> 33062521</td><td> 33127695</td><td> 65175</td><td>1</td><td>239833   </td><td>ENSMUST00000023497.2 </td><td>  -391</td><td>ENSMUSG00000022802</td><td>Lmln         </td><td>leishmanolysin-like (metallopeptidase M8 family)                            </td></tr>\n",
       "\t<tr><th scope=row>342985</th><td>Intron (ENSMUST00000177106.1/ENSMUST00000177106.1, intron 2 of 4)</td><td>16</td><td> 20331303</td><td> 20426394</td><td> 95092</td><td>2</td><td>27416    </td><td>ENSMUST00000079158.12</td><td>-12278</td><td>ENSMUSG00000022822</td><td>Abcc5        </td><td>ATP-binding cassette, sub-family C (CFTR/MRP), member 5                     </td></tr>\n",
       "\t<tr><th scope=row>343032</th><td>Intron (ENSMUST00000088649.10/66871, intron 9 of 18)             </td><td>15</td><td> 90643329</td><td> 90649438</td><td>  6110</td><td>2</td><td>66871    </td><td>ENSMUST00000140171.7 </td><td> 88527</td><td>ENSMUSG00000052560</td><td>Cpne8        </td><td>copine VIII                                                                 </td></tr>\n",
       "\t<tr><th scope=row>343094</th><td>Distal Intergenic                                                </td><td>15</td><td> 70011623</td><td> 70077841</td><td> 66219</td><td>1</td><td>100503580</td><td>ENSMUST00000230802.1 </td><td>339064</td><td>ENSMUSG00000116483</td><td>Gm19782      </td><td>predicted gene, 19782                                                       </td></tr>\n",
       "\t<tr><th scope=row>343100</th><td>Intron (ENSMUST00000005255.8/22402, intron 1 of 4)               </td><td>15</td><td> 66891508</td><td> 66919455</td><td> 27948</td><td>1</td><td>22402    </td><td>ENSMUST00000118823.1 </td><td>  4522</td><td>ENSMUSG00000005124</td><td>Ccn4         </td><td>cellular communication network factor 4                                     </td></tr>\n",
       "\t<tr><th scope=row>343145</th><td>Distal Intergenic                                                </td><td>15</td><td> 51786682</td><td> 51790549</td><td>  3868</td><td>2</td><td>68135    </td><td>ENSMUST00000226756.1 </td><td> 59021</td><td>ENSMUSG00000022312</td><td>Eif3h        </td><td>eukaryotic translation initiation factor 3, subunit H                       </td></tr>\n",
       "\t<tr><th scope=row>343171</th><td>Distal Intergenic                                                </td><td>15</td><td> 37945048</td><td> 37955138</td><td> 10091</td><td>2</td><td>382985   </td><td>ENSMUST00000127362.1 </td><td> 49198</td><td>ENSMUSG00000022292</td><td>Rrm2b        </td><td>ribonucleotide reductase M2 B (TP53 inducible)                              </td></tr>\n",
       "\t<tr><th scope=row>343177</th><td>Intron (ENSMUST00000069451.10/14600, intron 1 of 10)             </td><td>15</td><td>  3327539</td><td>  3471644</td><td>144106</td><td>2</td><td>14600    </td><td>ENSMUST00000110697.8 </td><td>-36519</td><td>ENSMUSG00000055737</td><td>Ghr          </td><td>growth hormone receptor                                                     </td></tr>\n",
       "\t<tr><th scope=row>343179</th><td>Intron (ENSMUST00000069451.10/14600, intron 1 of 10)             </td><td>15</td><td>  3327539</td><td>  3471644</td><td>144106</td><td>2</td><td>14600    </td><td>ENSMUST00000110697.8 </td><td>-21504</td><td>ENSMUSG00000055737</td><td>Ghr          </td><td>growth hormone receptor                                                     </td></tr>\n",
       "\t<tr><th scope=row>343205</th><td>Intron (ENSMUST00000227439.1/ENSMUST00000227439.1, intron 1 of 1)</td><td>15</td><td> 20665214</td><td> 20666750</td><td>  1537</td><td>2</td><td>64833    </td><td>ENSMUST00000052910.5 </td><td>202811</td><td>ENSMUSG00000047565</td><td>Acot10       </td><td>acyl-CoA thioesterase 10                                                    </td></tr>\n",
       "\t<tr><th scope=row>343253</th><td>Distal Intergenic                                                </td><td>14</td><td> 76539980</td><td> 76556889</td><td> 16910</td><td>2</td><td>72661    </td><td>ENSMUST00000228524.1 </td><td>-59220</td><td>ENSMUSG00000052584</td><td>Serp2        </td><td>stress-associated endoplasmic reticulum protein family member 2             </td></tr>\n",
       "\t<tr><th scope=row>343280</th><td>Intron (ENSMUST00000027131.5/227059, intron 1 of 9)              </td><td> 1</td><td> 46817602</td><td> 46835899</td><td> 18298</td><td>2</td><td>227059   </td><td>ENSMUST00000141226.2 </td><td> -7628</td><td>ENSMUSG00000025986</td><td>Slc39a10     </td><td>solute carrier family 39 (zinc transporter), member 10                      </td></tr>\n",
       "\t<tr><th scope=row>343532</th><td>Intron (ENSMUST00000091560.10/72061, intron 4 of 14)             </td><td>13</td><td> 63107522</td><td> 63190551</td><td> 83030</td><td>1</td><td>72061    </td><td>ENSMUST00000222907.1 </td><td> 13193</td><td>ENSMUSG00000021458</td><td>Aopep        </td><td>aminopeptidase O                                                            </td></tr>\n",
       "\t<tr><th scope=row>343634</th><td>Distal Intergenic                                                </td><td>13</td><td> 26305750</td><td> 26312347</td><td>  6598</td><td>2</td><td>73576    </td><td>ENSMUST00000123438.1 </td><td>148110</td><td>ENSMUSG00000084811</td><td>1700092E19Rik</td><td>RIKEN cDNA 1700092E19 gene                                                  </td></tr>\n",
       "\t<tr><th scope=row>343671</th><td>Intron (ENSMUST00000224961.1/74909, intron 1 of 1)               </td><td>13</td><td>114586513</td><td>114607084</td><td> 20572</td><td>2</td><td>74909    </td><td>ENSMUST00000224961.1 </td><td>  4007</td><td>ENSMUSG00000114879</td><td>4930467J12Rik</td><td>RIKEN cDNA 4930467J12 gene                                                  </td></tr>\n",
       "\t<tr><th scope=row>343698</th><td>Intron (ENSMUST00000046859.11/71375, intron 3 of 5)              </td><td>12</td><td> 99196670</td><td> 99330063</td><td>133394</td><td>2</td><td>71375    </td><td>ENSMUST00000222261.1 </td><td>  9855</td><td>ENSMUSG00000033713</td><td>Foxn3        </td><td>forkhead box N3                                                             </td></tr>\n",
       "\t<tr><th scope=row>343726</th><td>Exon (ENSMUST00000221505.1/ENSMUST00000221505.1, exon 3 of 3)    </td><td>12</td><td> 85473890</td><td> 85477273</td><td>  3384</td><td>1</td><td>14281    </td><td>ENSMUST00000021674.6 </td><td>-44039</td><td>ENSMUSG00000021250</td><td>Fos          </td><td>FBJ osteosarcoma oncogene                                                   </td></tr>\n",
       "\t<tr><th scope=row>343827</th><td>Distal Intergenic                                                </td><td>12</td><td> 21390071</td><td> 21417637</td><td> 27567</td><td>2</td><td>22630    </td><td>ENSMUST00000135088.8 </td><td> -8226</td><td>ENSMUSG00000076432</td><td>Ywhaq        </td><td>tyrosine 3-monooxygenase/tryptophan 5-monooxygenase activation protein theta</td></tr>\n",
       "\t<tr><th scope=row>343880</th><td>Distal Intergenic                                                </td><td>12</td><td>105513480</td><td>105515246</td><td>  1767</td><td>1</td><td>104932   </td><td>ENSMUST00000223443.1 </td><td> 21396</td><td>NA                </td><td>AU015791     </td><td>expressed sequence AU015791                                                 </td></tr>\n",
       "\t<tr><th scope=row>343917</th><td>Distal Intergenic                                                </td><td>11</td><td> 97551890</td><td> 97575226</td><td> 23337</td><td>2</td><td>56013    </td><td>ENSMUST00000142123.1 </td><td> -9137</td><td>ENSMUSG00000038453</td><td>Srcin1       </td><td>SRC kinase signaling inhibitor 1                                            </td></tr>\n",
       "\t<tr><th scope=row>344005</th><td>Distal Intergenic                                                </td><td> 1</td><td>181836058</td><td>181843046</td><td>  6989</td><td>2</td><td>98386    </td><td>ENSMUST00000193030.5 </td><td>-17212</td><td>ENSMUSG00000004880</td><td>Lbr          </td><td>lamin B receptor                                                            </td></tr>\n",
       "\t<tr><th scope=row>344072</th><td>Distal Intergenic                                                </td><td>11</td><td> 68985697</td><td> 69008460</td><td> 22764</td><td>2</td><td>237823   </td><td>ENSMUST00000021282.11</td><td> -3020</td><td>ENSMUSG00000020899</td><td>Pfas         </td><td>phosphoribosylformylglycinamidine synthase (FGAR amidotransferase)          </td></tr>\n",
       "\t<tr><th scope=row>344208</th><td>Distal Intergenic                                                </td><td> 1</td><td>134075170</td><td>134079120</td><td>  3951</td><td>2</td><td>12227    </td><td>ENSMUST00000020692.6 </td><td> 16403</td><td>ENSMUSG00000020423</td><td>Btg2         </td><td>BTG anti-proliferation factor 2                                             </td></tr>\n",
       "\t<tr><th scope=row>344229</th><td>Exon (ENSMUST00000187522.1/ENSMUST00000187522.1, exon 1 of 1)    </td><td> 1</td><td>130670261</td><td>130684071</td><td> 13811</td><td>2</td><td>12270    </td><td>ENSMUST00000189393.1 </td><td> -7291</td><td>NA                </td><td>C4bp-ps1     </td><td>complement component 4 binding protein, pseudogene 1                        </td></tr>\n",
       "\t<tr><th scope=row>344302</th><td>Intron (ENSMUST00000041627.13/237979, intron 1 of 44)            </td><td>11</td><td>113848562</td><td>114065975</td><td>217414</td><td>2</td><td>237979   </td><td>ENSMUST00000141943.1 </td><td>  3918</td><td>ENSMUSG00000041592</td><td>Sdk2         </td><td>sidekick cell adhesion molecule 2                                           </td></tr>\n",
       "\t<tr><th scope=row>344344</th><td>Intron (ENSMUST00000132973.1/ENSMUST00000132973.1, intron 1 of 3)</td><td>11</td><td>100262887</td><td>100269871</td><td>  6985</td><td>2</td><td>68239    </td><td>ENSMUST00000017270.7 </td><td>-18343</td><td>ENSMUSG00000053654</td><td>Krt42        </td><td>keratin 42                                                                  </td></tr>\n",
       "\t<tr><th scope=row>344375</th><td>Distal Intergenic                                                </td><td>10</td><td> 93160875</td><td> 93225368</td><td> 64494</td><td>1</td><td>237459   </td><td>ENSMUST00000215495.1 </td><td> -5117</td><td>ENSMUSG00000020015</td><td>Cdk17        </td><td>cyclin-dependent kinase 17                                                  </td></tr>\n",
       "\t<tr><th scope=row>344486</th><td>Distal Intergenic                                                </td><td>10</td><td> 42678966</td><td> 42699991</td><td> 21026</td><td>1</td><td>14628    </td><td>ENSMUST00000154048.1 </td><td> 36223</td><td>ENSMUSG00000038280</td><td>Ostm1        </td><td>osteopetrosis associated transmembrane protein 1                            </td></tr>\n",
       "\t<tr><th scope=row>344578</th><td>Distal Intergenic                                                </td><td>10</td><td>116729253</td><td>116739760</td><td> 10508</td><td>1</td><td>75878    </td><td>ENSMUST00000218193.1 </td><td> 32574</td><td>ENSMUSG00000112924</td><td>4930579P08Rik</td><td>RIKEN cDNA 4930579P08 gene                                                  </td></tr>\n",
       "</tbody>\n",
       "</table>\n"
      ],
      "text/latex": [
       "A data.frame: 70284 × 12\n",
       "\\begin{tabular}{r|llllllllllll}\n",
       "  & annotation & geneChr & geneStart & geneEnd & geneLength & geneStrand & geneId & transcriptId & distanceToTSS & ENSEMBL & SYMBOL & GENENAME\\\\\n",
       "  & <chr> & <int> & <int> & <int> & <int> & <int> & <chr> & <chr> & <dbl> & <chr> & <chr> & <chr>\\\\\n",
       "\\hline\n",
       "\t1 & Distal Intergenic                                             & 20 & 143518591 & 143797792 & 279202 & 1 & 18481     & ENSMUST00000033640.13 &  -35385 & ENSMUSG00000031284 & Pak3    & p21 (RAC1) activated kinase 3                                          \\\\\n",
       "\t2 & Distal Intergenic                                             &  6 &   3288519 &   3317019 &  28501 & 1 & 667335    & ENSMUST00000201943.1  &  -87243 & ENSMUSG00000106779 & Gm8579  & spermatogenesis associated glutamate (E)-rich protein 4a pseudogene    \\\\\n",
       "\t3 & 3' UTR                                                        &  9 & 123454790 & 123461899 &   7110 & 1 & 102436    & ENSMUST00000215087.1  &    7060 & ENSMUSG00000035202 & Lars2   & leucyl-tRNA synthetase, mitochondrial                                  \\\\\n",
       "\t4 & Distal Intergenic                                             &  1 &  56636044 &  56637435 &   1392 & 2 & 71066     & ENSMUST00000062085.5  & -144660 & ENSMUSG00000045336 & Hsfy2   & heat shock transcription factor, Y-linked 2                            \\\\\n",
       "\t5 & Exon (ENSMUST00000102326.1/ENSMUST00000102326.1, exon 1 of 1) &  9 &  56201126 &  56244065 &  42940 & 2 & 244895    & ENSMUST00000188142.6  &   20097 & ENSMUSG00000074305 & Peak1   & pseudopodium-enriched atypical kinase 1                                \\\\\n",
       "\t6 & Promoter                                                      &  1 &  88277661 &  88308073 &  30413 & 1 & 171382    & ENSMUST00000148138.7  &       0 & ENSMUSG00000036251 & Trpm8   & transient receptor potential cation channel, subfamily M, member 8     \\\\\n",
       "\t7 & Promoter                                                      & 18 &  31635085 &  31647275 &  12191 & 1 & 269003    & ENSMUST00000234846.1  &       0 & ENSMUSG00000024260 & Sap130  & Sin3A associated protein                                               \\\\\n",
       "\t8 & Intron (ENSMUST00000231621.1/13972, intron 2 of 7)            & 16 &  18548743 &  18552584 &   3842 & 1 & 13972     & ENSMUST00000151253.1  &  -15320 & ENSMUSG00000000884 & Gnb1l   & guanine nucleotide binding protein (G protein), beta polypeptide 1-like\\\\\n",
       "\t9 & Promoter                                                      &  1 & 165461037 & 165481214 &  20178 & 1 & 70456     & ENSMUST00000027853.5  &       0 & ENSMUSG00000026568 & Mpc2    & mitochondrial pyruvate carrier 2                                       \\\\\n",
       "\t10 & Promoter                                                      &  1 &  75307896 &  75317637 &   9742 & 2 & 13437     & ENSMUST00000066668.13 &       0 & ENSMUSG00000026209 & Dnpep   & aspartyl aminopeptidase                                                \\\\\n",
       "\t11 & Promoter                                                      & 18 &  46501746 &  46525971 &  24226 & 2 & 240263    & ENSMUST00000036226.5  &       0 & ENSMUSG00000033319 & Fem1c   & fem 1 homolog c                                                        \\\\\n",
       "\t12 & Promoter                                                      &  4 &   3938888 &   3943523 &   4636 & 1 & 66433     & ENSMUST00000108386.7  &     -30 & ENSMUSG00000042198 & Chchd7  & coiled-coil-helix-coiled-coil-helix domain containing 7                \\\\\n",
       "\t13 & Promoter                                                      &  6 &  71388634 &  71440637 &  52004 & 2 & 68477     & ENSMUST00000002292.14 &       0 & ENSMUSG00000002222 & Rmnd5a  & required for meiotic nuclear division 5 homolog A                      \\\\\n",
       "\t14 & Promoter                                                      &  7 & 105371211 & 105400054 &  28844 & 2 & 74349     & ENSMUST00000179474.8  &       0 & ENSMUSG00000044465 & Fhip1b  & FHF complex subunit HOOK interacting protein 1B                        \\\\\n",
       "\t15 & Promoter                                                      &  1 & 161816114 & 161876682 &  60569 & 2 & 226551    & ENSMUST00000048377.10 &     -22 & ENSMUSG00000040297 & Suco    & SUN domain containing ossification factor                              \\\\\n",
       "\t16 & Promoter                                                      &  6 & 113307137 & 113324857 &  17721 & 1 & 78783     & ENSMUST00000113122.7  &    -312 & ENSMUSG00000001632 & Brpf1   & bromodomain and PHD finger containing, 1                               \\\\\n",
       "\t17 & Promoter                                                      &  1 & 177762962 & 177796511 &  33550 & 2 & 11566     & ENSMUST00000016105.8  &      -5 & ENSMUSG00000015961 & Adss    & adenylosuccinate synthetase, non muscle                                \\\\\n",
       "\t18 & Promoter                                                      &  4 & 139574720 & 139620382 &  45663 & 1 & 212632    & ENSMUST00000174078.1  &     -95 & ENSMUSG00000041025 & Iffo2   & intermediate filament family orphan 2                                  \\\\\n",
       "\t19 & Promoter                                                      & 18 &  21127201 &  21300138 & 172938 & 2 & 381126    & ENSMUST00000049260.6  &     -85 & ENSMUSG00000042680 & Garem1  & GRB2 associated regulator of MAPK1 subtype 1                           \\\\\n",
       "\t20 & Promoter                                                      &  3 &  40949828 &  40977782 &  27955 & 1 & 214048    & ENSMUST00000048490.12 &     -43 & ENSMUSG00000025762 & Larp1b  & La ribonucleoprotein 1B                                                \\\\\n",
       "\t21 & Promoter                                                      &  3 & 135438149 & 135465237 &  27089 & 1 & 66105     & ENSMUST00000196446.4  &       0 & ENSMUSG00000078578 & Ube2d3  & ubiquitin-conjugating enzyme E2D 3                                     \\\\\n",
       "\t22 & Promoter                                                      & 13 & 119690379 & 119699726 &   9348 & 1 & 208715    & ENSMUST00000225543.1  &       0 & ENSMUSG00000093930 & Hmgcs1  & 3-hydroxy-3-methylglutaryl-Coenzyme A synthase 1                       \\\\\n",
       "\t23 & Promoter                                                      &  5 & 110770949 & 110779260 &   8312 & 1 & 100504049 & ENSMUST00000132267.1  &       0 & ENSMUSG00000086401 & Gm15559 & predicted gene 15559                                                   \\\\\n",
       "\t24 & Promoter                                                      &  3 &  38449259 &  38484844 &  35586 & 2 & 99696     & ENSMUST00000120875.7  &       0 & ENSMUSG00000044864 & Ankrd50 & ankyrin repeat domain 50                                               \\\\\n",
       "\t25 & Promoter                                                      &  7 &  92643543 &  92669934 &  26392 & 2 & 74737     & ENSMUST00000119954.8  &       0 & ENSMUSG00000041328 & Pcf11   & PCF11 cleavage and polyadenylation factor subunit                      \\\\\n",
       "\t26 & Promoter                                                      &  2 & 143947395 & 144011263 &  63869 & 2 & 81910     & ENSMUST00000016072.11 &       0 & ENSMUSG00000027422 & Rrbp1   & ribosome binding protein 1                                             \\\\\n",
       "\t27 & Promoter                                                      &  2 & 121449195 & 121453420 &   4226 & 1 & 378702    & ENSMUST00000139253.7  &       0 & ENSMUSG00000074884 & Serf2   & small EDRK-rich factor 2                                               \\\\\n",
       "\t28 & Promoter                                                      & 14 &  20929398 &  20998781 &  69384 & 1 & 22330     & ENSMUST00000226113.1  &       0 & ENSMUSG00000021823 & Vcl     & vinculin                                                               \\\\\n",
       "\t29 & Promoter                                                      & 13 &  47043499 &  47085279 &  41781 & 1 & 218214    & ENSMUST00000037025.15 &       0 & ENSMUSG00000038080 & Kdm1b   & lysine (K)-specific demethylase 1B                                     \\\\\n",
       "\t30 & Promoter                                                      & 13 &  69573449 &  69611442 &  37994 & 2 & 78925     & ENSMUST00000091514.5  &       0 & ENSMUSG00000021594 & Srd5a1  & steroid 5 alpha-reductase 1                                            \\\\\n",
       "\t⋮ & ⋮ & ⋮ & ⋮ & ⋮ & ⋮ & ⋮ & ⋮ & ⋮ & ⋮ & ⋮ & ⋮ & ⋮\\\\\n",
       "\t342909 & Distal Intergenic                                                 & 16 &  44724301 &  44737284 &  12984 & 1 & 212547    & ENSMUST00000048788.13 &  -6678 & ENSMUSG00000036208 & Nepro         & nucleolus and neural progenitor protein                                     \\\\\n",
       "\t342936 & Promoter                                                          & 16 &  33062521 &  33127695 &  65175 & 1 & 239833    & ENSMUST00000023497.2  &   -391 & ENSMUSG00000022802 & Lmln          & leishmanolysin-like (metallopeptidase M8 family)                            \\\\\n",
       "\t342985 & Intron (ENSMUST00000177106.1/ENSMUST00000177106.1, intron 2 of 4) & 16 &  20331303 &  20426394 &  95092 & 2 & 27416     & ENSMUST00000079158.12 & -12278 & ENSMUSG00000022822 & Abcc5         & ATP-binding cassette, sub-family C (CFTR/MRP), member 5                     \\\\\n",
       "\t343032 & Intron (ENSMUST00000088649.10/66871, intron 9 of 18)              & 15 &  90643329 &  90649438 &   6110 & 2 & 66871     & ENSMUST00000140171.7  &  88527 & ENSMUSG00000052560 & Cpne8         & copine VIII                                                                 \\\\\n",
       "\t343094 & Distal Intergenic                                                 & 15 &  70011623 &  70077841 &  66219 & 1 & 100503580 & ENSMUST00000230802.1  & 339064 & ENSMUSG00000116483 & Gm19782       & predicted gene, 19782                                                       \\\\\n",
       "\t343100 & Intron (ENSMUST00000005255.8/22402, intron 1 of 4)                & 15 &  66891508 &  66919455 &  27948 & 1 & 22402     & ENSMUST00000118823.1  &   4522 & ENSMUSG00000005124 & Ccn4          & cellular communication network factor 4                                     \\\\\n",
       "\t343145 & Distal Intergenic                                                 & 15 &  51786682 &  51790549 &   3868 & 2 & 68135     & ENSMUST00000226756.1  &  59021 & ENSMUSG00000022312 & Eif3h         & eukaryotic translation initiation factor 3, subunit H                       \\\\\n",
       "\t343171 & Distal Intergenic                                                 & 15 &  37945048 &  37955138 &  10091 & 2 & 382985    & ENSMUST00000127362.1  &  49198 & ENSMUSG00000022292 & Rrm2b         & ribonucleotide reductase M2 B (TP53 inducible)                              \\\\\n",
       "\t343177 & Intron (ENSMUST00000069451.10/14600, intron 1 of 10)              & 15 &   3327539 &   3471644 & 144106 & 2 & 14600     & ENSMUST00000110697.8  & -36519 & ENSMUSG00000055737 & Ghr           & growth hormone receptor                                                     \\\\\n",
       "\t343179 & Intron (ENSMUST00000069451.10/14600, intron 1 of 10)              & 15 &   3327539 &   3471644 & 144106 & 2 & 14600     & ENSMUST00000110697.8  & -21504 & ENSMUSG00000055737 & Ghr           & growth hormone receptor                                                     \\\\\n",
       "\t343205 & Intron (ENSMUST00000227439.1/ENSMUST00000227439.1, intron 1 of 1) & 15 &  20665214 &  20666750 &   1537 & 2 & 64833     & ENSMUST00000052910.5  & 202811 & ENSMUSG00000047565 & Acot10        & acyl-CoA thioesterase 10                                                    \\\\\n",
       "\t343253 & Distal Intergenic                                                 & 14 &  76539980 &  76556889 &  16910 & 2 & 72661     & ENSMUST00000228524.1  & -59220 & ENSMUSG00000052584 & Serp2         & stress-associated endoplasmic reticulum protein family member 2             \\\\\n",
       "\t343280 & Intron (ENSMUST00000027131.5/227059, intron 1 of 9)               &  1 &  46817602 &  46835899 &  18298 & 2 & 227059    & ENSMUST00000141226.2  &  -7628 & ENSMUSG00000025986 & Slc39a10      & solute carrier family 39 (zinc transporter), member 10                      \\\\\n",
       "\t343532 & Intron (ENSMUST00000091560.10/72061, intron 4 of 14)              & 13 &  63107522 &  63190551 &  83030 & 1 & 72061     & ENSMUST00000222907.1  &  13193 & ENSMUSG00000021458 & Aopep         & aminopeptidase O                                                            \\\\\n",
       "\t343634 & Distal Intergenic                                                 & 13 &  26305750 &  26312347 &   6598 & 2 & 73576     & ENSMUST00000123438.1  & 148110 & ENSMUSG00000084811 & 1700092E19Rik & RIKEN cDNA 1700092E19 gene                                                  \\\\\n",
       "\t343671 & Intron (ENSMUST00000224961.1/74909, intron 1 of 1)                & 13 & 114586513 & 114607084 &  20572 & 2 & 74909     & ENSMUST00000224961.1  &   4007 & ENSMUSG00000114879 & 4930467J12Rik & RIKEN cDNA 4930467J12 gene                                                  \\\\\n",
       "\t343698 & Intron (ENSMUST00000046859.11/71375, intron 3 of 5)               & 12 &  99196670 &  99330063 & 133394 & 2 & 71375     & ENSMUST00000222261.1  &   9855 & ENSMUSG00000033713 & Foxn3         & forkhead box N3                                                             \\\\\n",
       "\t343726 & Exon (ENSMUST00000221505.1/ENSMUST00000221505.1, exon 3 of 3)     & 12 &  85473890 &  85477273 &   3384 & 1 & 14281     & ENSMUST00000021674.6  & -44039 & ENSMUSG00000021250 & Fos           & FBJ osteosarcoma oncogene                                                   \\\\\n",
       "\t343827 & Distal Intergenic                                                 & 12 &  21390071 &  21417637 &  27567 & 2 & 22630     & ENSMUST00000135088.8  &  -8226 & ENSMUSG00000076432 & Ywhaq         & tyrosine 3-monooxygenase/tryptophan 5-monooxygenase activation protein theta\\\\\n",
       "\t343880 & Distal Intergenic                                                 & 12 & 105513480 & 105515246 &   1767 & 1 & 104932    & ENSMUST00000223443.1  &  21396 & NA                 & AU015791      & expressed sequence AU015791                                                 \\\\\n",
       "\t343917 & Distal Intergenic                                                 & 11 &  97551890 &  97575226 &  23337 & 2 & 56013     & ENSMUST00000142123.1  &  -9137 & ENSMUSG00000038453 & Srcin1        & SRC kinase signaling inhibitor 1                                            \\\\\n",
       "\t344005 & Distal Intergenic                                                 &  1 & 181836058 & 181843046 &   6989 & 2 & 98386     & ENSMUST00000193030.5  & -17212 & ENSMUSG00000004880 & Lbr           & lamin B receptor                                                            \\\\\n",
       "\t344072 & Distal Intergenic                                                 & 11 &  68985697 &  69008460 &  22764 & 2 & 237823    & ENSMUST00000021282.11 &  -3020 & ENSMUSG00000020899 & Pfas          & phosphoribosylformylglycinamidine synthase (FGAR amidotransferase)          \\\\\n",
       "\t344208 & Distal Intergenic                                                 &  1 & 134075170 & 134079120 &   3951 & 2 & 12227     & ENSMUST00000020692.6  &  16403 & ENSMUSG00000020423 & Btg2          & BTG anti-proliferation factor 2                                             \\\\\n",
       "\t344229 & Exon (ENSMUST00000187522.1/ENSMUST00000187522.1, exon 1 of 1)     &  1 & 130670261 & 130684071 &  13811 & 2 & 12270     & ENSMUST00000189393.1  &  -7291 & NA                 & C4bp-ps1      & complement component 4 binding protein, pseudogene 1                        \\\\\n",
       "\t344302 & Intron (ENSMUST00000041627.13/237979, intron 1 of 44)             & 11 & 113848562 & 114065975 & 217414 & 2 & 237979    & ENSMUST00000141943.1  &   3918 & ENSMUSG00000041592 & Sdk2          & sidekick cell adhesion molecule 2                                           \\\\\n",
       "\t344344 & Intron (ENSMUST00000132973.1/ENSMUST00000132973.1, intron 1 of 3) & 11 & 100262887 & 100269871 &   6985 & 2 & 68239     & ENSMUST00000017270.7  & -18343 & ENSMUSG00000053654 & Krt42         & keratin 42                                                                  \\\\\n",
       "\t344375 & Distal Intergenic                                                 & 10 &  93160875 &  93225368 &  64494 & 1 & 237459    & ENSMUST00000215495.1  &  -5117 & ENSMUSG00000020015 & Cdk17         & cyclin-dependent kinase 17                                                  \\\\\n",
       "\t344486 & Distal Intergenic                                                 & 10 &  42678966 &  42699991 &  21026 & 1 & 14628     & ENSMUST00000154048.1  &  36223 & ENSMUSG00000038280 & Ostm1         & osteopetrosis associated transmembrane protein 1                            \\\\\n",
       "\t344578 & Distal Intergenic                                                 & 10 & 116729253 & 116739760 &  10508 & 1 & 75878     & ENSMUST00000218193.1  &  32574 & ENSMUSG00000112924 & 4930579P08Rik & RIKEN cDNA 4930579P08 gene                                                  \\\\\n",
       "\\end{tabular}\n"
      ],
      "text/markdown": [
       "\n",
       "A data.frame: 70284 × 12\n",
       "\n",
       "| <!--/--> | annotation &lt;chr&gt; | geneChr &lt;int&gt; | geneStart &lt;int&gt; | geneEnd &lt;int&gt; | geneLength &lt;int&gt; | geneStrand &lt;int&gt; | geneId &lt;chr&gt; | transcriptId &lt;chr&gt; | distanceToTSS &lt;dbl&gt; | ENSEMBL &lt;chr&gt; | SYMBOL &lt;chr&gt; | GENENAME &lt;chr&gt; |\n",
       "|---|---|---|---|---|---|---|---|---|---|---|---|---|\n",
       "| 1 | Distal Intergenic                                             | 20 | 143518591 | 143797792 | 279202 | 1 | 18481     | ENSMUST00000033640.13 |  -35385 | ENSMUSG00000031284 | Pak3    | p21 (RAC1) activated kinase 3                                           |\n",
       "| 2 | Distal Intergenic                                             |  6 |   3288519 |   3317019 |  28501 | 1 | 667335    | ENSMUST00000201943.1  |  -87243 | ENSMUSG00000106779 | Gm8579  | spermatogenesis associated glutamate (E)-rich protein 4a pseudogene     |\n",
       "| 3 | 3' UTR                                                        |  9 | 123454790 | 123461899 |   7110 | 1 | 102436    | ENSMUST00000215087.1  |    7060 | ENSMUSG00000035202 | Lars2   | leucyl-tRNA synthetase, mitochondrial                                   |\n",
       "| 4 | Distal Intergenic                                             |  1 |  56636044 |  56637435 |   1392 | 2 | 71066     | ENSMUST00000062085.5  | -144660 | ENSMUSG00000045336 | Hsfy2   | heat shock transcription factor, Y-linked 2                             |\n",
       "| 5 | Exon (ENSMUST00000102326.1/ENSMUST00000102326.1, exon 1 of 1) |  9 |  56201126 |  56244065 |  42940 | 2 | 244895    | ENSMUST00000188142.6  |   20097 | ENSMUSG00000074305 | Peak1   | pseudopodium-enriched atypical kinase 1                                 |\n",
       "| 6 | Promoter                                                      |  1 |  88277661 |  88308073 |  30413 | 1 | 171382    | ENSMUST00000148138.7  |       0 | ENSMUSG00000036251 | Trpm8   | transient receptor potential cation channel, subfamily M, member 8      |\n",
       "| 7 | Promoter                                                      | 18 |  31635085 |  31647275 |  12191 | 1 | 269003    | ENSMUST00000234846.1  |       0 | ENSMUSG00000024260 | Sap130  | Sin3A associated protein                                                |\n",
       "| 8 | Intron (ENSMUST00000231621.1/13972, intron 2 of 7)            | 16 |  18548743 |  18552584 |   3842 | 1 | 13972     | ENSMUST00000151253.1  |  -15320 | ENSMUSG00000000884 | Gnb1l   | guanine nucleotide binding protein (G protein), beta polypeptide 1-like |\n",
       "| 9 | Promoter                                                      |  1 | 165461037 | 165481214 |  20178 | 1 | 70456     | ENSMUST00000027853.5  |       0 | ENSMUSG00000026568 | Mpc2    | mitochondrial pyruvate carrier 2                                        |\n",
       "| 10 | Promoter                                                      |  1 |  75307896 |  75317637 |   9742 | 2 | 13437     | ENSMUST00000066668.13 |       0 | ENSMUSG00000026209 | Dnpep   | aspartyl aminopeptidase                                                 |\n",
       "| 11 | Promoter                                                      | 18 |  46501746 |  46525971 |  24226 | 2 | 240263    | ENSMUST00000036226.5  |       0 | ENSMUSG00000033319 | Fem1c   | fem 1 homolog c                                                         |\n",
       "| 12 | Promoter                                                      |  4 |   3938888 |   3943523 |   4636 | 1 | 66433     | ENSMUST00000108386.7  |     -30 | ENSMUSG00000042198 | Chchd7  | coiled-coil-helix-coiled-coil-helix domain containing 7                 |\n",
       "| 13 | Promoter                                                      |  6 |  71388634 |  71440637 |  52004 | 2 | 68477     | ENSMUST00000002292.14 |       0 | ENSMUSG00000002222 | Rmnd5a  | required for meiotic nuclear division 5 homolog A                       |\n",
       "| 14 | Promoter                                                      |  7 | 105371211 | 105400054 |  28844 | 2 | 74349     | ENSMUST00000179474.8  |       0 | ENSMUSG00000044465 | Fhip1b  | FHF complex subunit HOOK interacting protein 1B                         |\n",
       "| 15 | Promoter                                                      |  1 | 161816114 | 161876682 |  60569 | 2 | 226551    | ENSMUST00000048377.10 |     -22 | ENSMUSG00000040297 | Suco    | SUN domain containing ossification factor                               |\n",
       "| 16 | Promoter                                                      |  6 | 113307137 | 113324857 |  17721 | 1 | 78783     | ENSMUST00000113122.7  |    -312 | ENSMUSG00000001632 | Brpf1   | bromodomain and PHD finger containing, 1                                |\n",
       "| 17 | Promoter                                                      |  1 | 177762962 | 177796511 |  33550 | 2 | 11566     | ENSMUST00000016105.8  |      -5 | ENSMUSG00000015961 | Adss    | adenylosuccinate synthetase, non muscle                                 |\n",
       "| 18 | Promoter                                                      |  4 | 139574720 | 139620382 |  45663 | 1 | 212632    | ENSMUST00000174078.1  |     -95 | ENSMUSG00000041025 | Iffo2   | intermediate filament family orphan 2                                   |\n",
       "| 19 | Promoter                                                      | 18 |  21127201 |  21300138 | 172938 | 2 | 381126    | ENSMUST00000049260.6  |     -85 | ENSMUSG00000042680 | Garem1  | GRB2 associated regulator of MAPK1 subtype 1                            |\n",
       "| 20 | Promoter                                                      |  3 |  40949828 |  40977782 |  27955 | 1 | 214048    | ENSMUST00000048490.12 |     -43 | ENSMUSG00000025762 | Larp1b  | La ribonucleoprotein 1B                                                 |\n",
       "| 21 | Promoter                                                      |  3 | 135438149 | 135465237 |  27089 | 1 | 66105     | ENSMUST00000196446.4  |       0 | ENSMUSG00000078578 | Ube2d3  | ubiquitin-conjugating enzyme E2D 3                                      |\n",
       "| 22 | Promoter                                                      | 13 | 119690379 | 119699726 |   9348 | 1 | 208715    | ENSMUST00000225543.1  |       0 | ENSMUSG00000093930 | Hmgcs1  | 3-hydroxy-3-methylglutaryl-Coenzyme A synthase 1                        |\n",
       "| 23 | Promoter                                                      |  5 | 110770949 | 110779260 |   8312 | 1 | 100504049 | ENSMUST00000132267.1  |       0 | ENSMUSG00000086401 | Gm15559 | predicted gene 15559                                                    |\n",
       "| 24 | Promoter                                                      |  3 |  38449259 |  38484844 |  35586 | 2 | 99696     | ENSMUST00000120875.7  |       0 | ENSMUSG00000044864 | Ankrd50 | ankyrin repeat domain 50                                                |\n",
       "| 25 | Promoter                                                      |  7 |  92643543 |  92669934 |  26392 | 2 | 74737     | ENSMUST00000119954.8  |       0 | ENSMUSG00000041328 | Pcf11   | PCF11 cleavage and polyadenylation factor subunit                       |\n",
       "| 26 | Promoter                                                      |  2 | 143947395 | 144011263 |  63869 | 2 | 81910     | ENSMUST00000016072.11 |       0 | ENSMUSG00000027422 | Rrbp1   | ribosome binding protein 1                                              |\n",
       "| 27 | Promoter                                                      |  2 | 121449195 | 121453420 |   4226 | 1 | 378702    | ENSMUST00000139253.7  |       0 | ENSMUSG00000074884 | Serf2   | small EDRK-rich factor 2                                                |\n",
       "| 28 | Promoter                                                      | 14 |  20929398 |  20998781 |  69384 | 1 | 22330     | ENSMUST00000226113.1  |       0 | ENSMUSG00000021823 | Vcl     | vinculin                                                                |\n",
       "| 29 | Promoter                                                      | 13 |  47043499 |  47085279 |  41781 | 1 | 218214    | ENSMUST00000037025.15 |       0 | ENSMUSG00000038080 | Kdm1b   | lysine (K)-specific demethylase 1B                                      |\n",
       "| 30 | Promoter                                                      | 13 |  69573449 |  69611442 |  37994 | 2 | 78925     | ENSMUST00000091514.5  |       0 | ENSMUSG00000021594 | Srd5a1  | steroid 5 alpha-reductase 1                                             |\n",
       "| ⋮ | ⋮ | ⋮ | ⋮ | ⋮ | ⋮ | ⋮ | ⋮ | ⋮ | ⋮ | ⋮ | ⋮ | ⋮ |\n",
       "| 342909 | Distal Intergenic                                                 | 16 |  44724301 |  44737284 |  12984 | 1 | 212547    | ENSMUST00000048788.13 |  -6678 | ENSMUSG00000036208 | Nepro         | nucleolus and neural progenitor protein                                      |\n",
       "| 342936 | Promoter                                                          | 16 |  33062521 |  33127695 |  65175 | 1 | 239833    | ENSMUST00000023497.2  |   -391 | ENSMUSG00000022802 | Lmln          | leishmanolysin-like (metallopeptidase M8 family)                             |\n",
       "| 342985 | Intron (ENSMUST00000177106.1/ENSMUST00000177106.1, intron 2 of 4) | 16 |  20331303 |  20426394 |  95092 | 2 | 27416     | ENSMUST00000079158.12 | -12278 | ENSMUSG00000022822 | Abcc5         | ATP-binding cassette, sub-family C (CFTR/MRP), member 5                      |\n",
       "| 343032 | Intron (ENSMUST00000088649.10/66871, intron 9 of 18)              | 15 |  90643329 |  90649438 |   6110 | 2 | 66871     | ENSMUST00000140171.7  |  88527 | ENSMUSG00000052560 | Cpne8         | copine VIII                                                                  |\n",
       "| 343094 | Distal Intergenic                                                 | 15 |  70011623 |  70077841 |  66219 | 1 | 100503580 | ENSMUST00000230802.1  | 339064 | ENSMUSG00000116483 | Gm19782       | predicted gene, 19782                                                        |\n",
       "| 343100 | Intron (ENSMUST00000005255.8/22402, intron 1 of 4)                | 15 |  66891508 |  66919455 |  27948 | 1 | 22402     | ENSMUST00000118823.1  |   4522 | ENSMUSG00000005124 | Ccn4          | cellular communication network factor 4                                      |\n",
       "| 343145 | Distal Intergenic                                                 | 15 |  51786682 |  51790549 |   3868 | 2 | 68135     | ENSMUST00000226756.1  |  59021 | ENSMUSG00000022312 | Eif3h         | eukaryotic translation initiation factor 3, subunit H                        |\n",
       "| 343171 | Distal Intergenic                                                 | 15 |  37945048 |  37955138 |  10091 | 2 | 382985    | ENSMUST00000127362.1  |  49198 | ENSMUSG00000022292 | Rrm2b         | ribonucleotide reductase M2 B (TP53 inducible)                               |\n",
       "| 343177 | Intron (ENSMUST00000069451.10/14600, intron 1 of 10)              | 15 |   3327539 |   3471644 | 144106 | 2 | 14600     | ENSMUST00000110697.8  | -36519 | ENSMUSG00000055737 | Ghr           | growth hormone receptor                                                      |\n",
       "| 343179 | Intron (ENSMUST00000069451.10/14600, intron 1 of 10)              | 15 |   3327539 |   3471644 | 144106 | 2 | 14600     | ENSMUST00000110697.8  | -21504 | ENSMUSG00000055737 | Ghr           | growth hormone receptor                                                      |\n",
       "| 343205 | Intron (ENSMUST00000227439.1/ENSMUST00000227439.1, intron 1 of 1) | 15 |  20665214 |  20666750 |   1537 | 2 | 64833     | ENSMUST00000052910.5  | 202811 | ENSMUSG00000047565 | Acot10        | acyl-CoA thioesterase 10                                                     |\n",
       "| 343253 | Distal Intergenic                                                 | 14 |  76539980 |  76556889 |  16910 | 2 | 72661     | ENSMUST00000228524.1  | -59220 | ENSMUSG00000052584 | Serp2         | stress-associated endoplasmic reticulum protein family member 2              |\n",
       "| 343280 | Intron (ENSMUST00000027131.5/227059, intron 1 of 9)               |  1 |  46817602 |  46835899 |  18298 | 2 | 227059    | ENSMUST00000141226.2  |  -7628 | ENSMUSG00000025986 | Slc39a10      | solute carrier family 39 (zinc transporter), member 10                       |\n",
       "| 343532 | Intron (ENSMUST00000091560.10/72061, intron 4 of 14)              | 13 |  63107522 |  63190551 |  83030 | 1 | 72061     | ENSMUST00000222907.1  |  13193 | ENSMUSG00000021458 | Aopep         | aminopeptidase O                                                             |\n",
       "| 343634 | Distal Intergenic                                                 | 13 |  26305750 |  26312347 |   6598 | 2 | 73576     | ENSMUST00000123438.1  | 148110 | ENSMUSG00000084811 | 1700092E19Rik | RIKEN cDNA 1700092E19 gene                                                   |\n",
       "| 343671 | Intron (ENSMUST00000224961.1/74909, intron 1 of 1)                | 13 | 114586513 | 114607084 |  20572 | 2 | 74909     | ENSMUST00000224961.1  |   4007 | ENSMUSG00000114879 | 4930467J12Rik | RIKEN cDNA 4930467J12 gene                                                   |\n",
       "| 343698 | Intron (ENSMUST00000046859.11/71375, intron 3 of 5)               | 12 |  99196670 |  99330063 | 133394 | 2 | 71375     | ENSMUST00000222261.1  |   9855 | ENSMUSG00000033713 | Foxn3         | forkhead box N3                                                              |\n",
       "| 343726 | Exon (ENSMUST00000221505.1/ENSMUST00000221505.1, exon 3 of 3)     | 12 |  85473890 |  85477273 |   3384 | 1 | 14281     | ENSMUST00000021674.6  | -44039 | ENSMUSG00000021250 | Fos           | FBJ osteosarcoma oncogene                                                    |\n",
       "| 343827 | Distal Intergenic                                                 | 12 |  21390071 |  21417637 |  27567 | 2 | 22630     | ENSMUST00000135088.8  |  -8226 | ENSMUSG00000076432 | Ywhaq         | tyrosine 3-monooxygenase/tryptophan 5-monooxygenase activation protein theta |\n",
       "| 343880 | Distal Intergenic                                                 | 12 | 105513480 | 105515246 |   1767 | 1 | 104932    | ENSMUST00000223443.1  |  21396 | NA                 | AU015791      | expressed sequence AU015791                                                  |\n",
       "| 343917 | Distal Intergenic                                                 | 11 |  97551890 |  97575226 |  23337 | 2 | 56013     | ENSMUST00000142123.1  |  -9137 | ENSMUSG00000038453 | Srcin1        | SRC kinase signaling inhibitor 1                                             |\n",
       "| 344005 | Distal Intergenic                                                 |  1 | 181836058 | 181843046 |   6989 | 2 | 98386     | ENSMUST00000193030.5  | -17212 | ENSMUSG00000004880 | Lbr           | lamin B receptor                                                             |\n",
       "| 344072 | Distal Intergenic                                                 | 11 |  68985697 |  69008460 |  22764 | 2 | 237823    | ENSMUST00000021282.11 |  -3020 | ENSMUSG00000020899 | Pfas          | phosphoribosylformylglycinamidine synthase (FGAR amidotransferase)           |\n",
       "| 344208 | Distal Intergenic                                                 |  1 | 134075170 | 134079120 |   3951 | 2 | 12227     | ENSMUST00000020692.6  |  16403 | ENSMUSG00000020423 | Btg2          | BTG anti-proliferation factor 2                                              |\n",
       "| 344229 | Exon (ENSMUST00000187522.1/ENSMUST00000187522.1, exon 1 of 1)     |  1 | 130670261 | 130684071 |  13811 | 2 | 12270     | ENSMUST00000189393.1  |  -7291 | NA                 | C4bp-ps1      | complement component 4 binding protein, pseudogene 1                         |\n",
       "| 344302 | Intron (ENSMUST00000041627.13/237979, intron 1 of 44)             | 11 | 113848562 | 114065975 | 217414 | 2 | 237979    | ENSMUST00000141943.1  |   3918 | ENSMUSG00000041592 | Sdk2          | sidekick cell adhesion molecule 2                                            |\n",
       "| 344344 | Intron (ENSMUST00000132973.1/ENSMUST00000132973.1, intron 1 of 3) | 11 | 100262887 | 100269871 |   6985 | 2 | 68239     | ENSMUST00000017270.7  | -18343 | ENSMUSG00000053654 | Krt42         | keratin 42                                                                   |\n",
       "| 344375 | Distal Intergenic                                                 | 10 |  93160875 |  93225368 |  64494 | 1 | 237459    | ENSMUST00000215495.1  |  -5117 | ENSMUSG00000020015 | Cdk17         | cyclin-dependent kinase 17                                                   |\n",
       "| 344486 | Distal Intergenic                                                 | 10 |  42678966 |  42699991 |  21026 | 1 | 14628     | ENSMUST00000154048.1  |  36223 | ENSMUSG00000038280 | Ostm1         | osteopetrosis associated transmembrane protein 1                             |\n",
       "| 344578 | Distal Intergenic                                                 | 10 | 116729253 | 116739760 |  10508 | 1 | 75878     | ENSMUST00000218193.1  |  32574 | ENSMUSG00000112924 | 4930579P08Rik | RIKEN cDNA 4930579P08 gene                                                   |\n",
       "\n"
      ],
      "text/plain": [
       "       annotation                                                       \n",
       "1      Distal Intergenic                                                \n",
       "2      Distal Intergenic                                                \n",
       "3      3' UTR                                                           \n",
       "4      Distal Intergenic                                                \n",
       "5      Exon (ENSMUST00000102326.1/ENSMUST00000102326.1, exon 1 of 1)    \n",
       "6      Promoter                                                         \n",
       "7      Promoter                                                         \n",
       "8      Intron (ENSMUST00000231621.1/13972, intron 2 of 7)               \n",
       "9      Promoter                                                         \n",
       "10     Promoter                                                         \n",
       "11     Promoter                                                         \n",
       "12     Promoter                                                         \n",
       "13     Promoter                                                         \n",
       "14     Promoter                                                         \n",
       "15     Promoter                                                         \n",
       "16     Promoter                                                         \n",
       "17     Promoter                                                         \n",
       "18     Promoter                                                         \n",
       "19     Promoter                                                         \n",
       "20     Promoter                                                         \n",
       "21     Promoter                                                         \n",
       "22     Promoter                                                         \n",
       "23     Promoter                                                         \n",
       "24     Promoter                                                         \n",
       "25     Promoter                                                         \n",
       "26     Promoter                                                         \n",
       "27     Promoter                                                         \n",
       "28     Promoter                                                         \n",
       "29     Promoter                                                         \n",
       "30     Promoter                                                         \n",
       "⋮      ⋮                                                                \n",
       "342909 Distal Intergenic                                                \n",
       "342936 Promoter                                                         \n",
       "342985 Intron (ENSMUST00000177106.1/ENSMUST00000177106.1, intron 2 of 4)\n",
       "343032 Intron (ENSMUST00000088649.10/66871, intron 9 of 18)             \n",
       "343094 Distal Intergenic                                                \n",
       "343100 Intron (ENSMUST00000005255.8/22402, intron 1 of 4)               \n",
       "343145 Distal Intergenic                                                \n",
       "343171 Distal Intergenic                                                \n",
       "343177 Intron (ENSMUST00000069451.10/14600, intron 1 of 10)             \n",
       "343179 Intron (ENSMUST00000069451.10/14600, intron 1 of 10)             \n",
       "343205 Intron (ENSMUST00000227439.1/ENSMUST00000227439.1, intron 1 of 1)\n",
       "343253 Distal Intergenic                                                \n",
       "343280 Intron (ENSMUST00000027131.5/227059, intron 1 of 9)              \n",
       "343532 Intron (ENSMUST00000091560.10/72061, intron 4 of 14)             \n",
       "343634 Distal Intergenic                                                \n",
       "343671 Intron (ENSMUST00000224961.1/74909, intron 1 of 1)               \n",
       "343698 Intron (ENSMUST00000046859.11/71375, intron 3 of 5)              \n",
       "343726 Exon (ENSMUST00000221505.1/ENSMUST00000221505.1, exon 3 of 3)    \n",
       "343827 Distal Intergenic                                                \n",
       "343880 Distal Intergenic                                                \n",
       "343917 Distal Intergenic                                                \n",
       "344005 Distal Intergenic                                                \n",
       "344072 Distal Intergenic                                                \n",
       "344208 Distal Intergenic                                                \n",
       "344229 Exon (ENSMUST00000187522.1/ENSMUST00000187522.1, exon 1 of 1)    \n",
       "344302 Intron (ENSMUST00000041627.13/237979, intron 1 of 44)            \n",
       "344344 Intron (ENSMUST00000132973.1/ENSMUST00000132973.1, intron 1 of 3)\n",
       "344375 Distal Intergenic                                                \n",
       "344486 Distal Intergenic                                                \n",
       "344578 Distal Intergenic                                                \n",
       "       geneChr geneStart geneEnd   geneLength geneStrand geneId   \n",
       "1      20      143518591 143797792 279202     1          18481    \n",
       "2       6        3288519   3317019  28501     1          667335   \n",
       "3       9      123454790 123461899   7110     1          102436   \n",
       "4       1       56636044  56637435   1392     2          71066    \n",
       "5       9       56201126  56244065  42940     2          244895   \n",
       "6       1       88277661  88308073  30413     1          171382   \n",
       "7      18       31635085  31647275  12191     1          269003   \n",
       "8      16       18548743  18552584   3842     1          13972    \n",
       "9       1      165461037 165481214  20178     1          70456    \n",
       "10      1       75307896  75317637   9742     2          13437    \n",
       "11     18       46501746  46525971  24226     2          240263   \n",
       "12      4        3938888   3943523   4636     1          66433    \n",
       "13      6       71388634  71440637  52004     2          68477    \n",
       "14      7      105371211 105400054  28844     2          74349    \n",
       "15      1      161816114 161876682  60569     2          226551   \n",
       "16      6      113307137 113324857  17721     1          78783    \n",
       "17      1      177762962 177796511  33550     2          11566    \n",
       "18      4      139574720 139620382  45663     1          212632   \n",
       "19     18       21127201  21300138 172938     2          381126   \n",
       "20      3       40949828  40977782  27955     1          214048   \n",
       "21      3      135438149 135465237  27089     1          66105    \n",
       "22     13      119690379 119699726   9348     1          208715   \n",
       "23      5      110770949 110779260   8312     1          100504049\n",
       "24      3       38449259  38484844  35586     2          99696    \n",
       "25      7       92643543  92669934  26392     2          74737    \n",
       "26      2      143947395 144011263  63869     2          81910    \n",
       "27      2      121449195 121453420   4226     1          378702   \n",
       "28     14       20929398  20998781  69384     1          22330    \n",
       "29     13       47043499  47085279  41781     1          218214   \n",
       "30     13       69573449  69611442  37994     2          78925    \n",
       "⋮      ⋮       ⋮         ⋮         ⋮          ⋮          ⋮        \n",
       "342909 16       44724301  44737284  12984     1          212547   \n",
       "342936 16       33062521  33127695  65175     1          239833   \n",
       "342985 16       20331303  20426394  95092     2          27416    \n",
       "343032 15       90643329  90649438   6110     2          66871    \n",
       "343094 15       70011623  70077841  66219     1          100503580\n",
       "343100 15       66891508  66919455  27948     1          22402    \n",
       "343145 15       51786682  51790549   3868     2          68135    \n",
       "343171 15       37945048  37955138  10091     2          382985   \n",
       "343177 15        3327539   3471644 144106     2          14600    \n",
       "343179 15        3327539   3471644 144106     2          14600    \n",
       "343205 15       20665214  20666750   1537     2          64833    \n",
       "343253 14       76539980  76556889  16910     2          72661    \n",
       "343280  1       46817602  46835899  18298     2          227059   \n",
       "343532 13       63107522  63190551  83030     1          72061    \n",
       "343634 13       26305750  26312347   6598     2          73576    \n",
       "343671 13      114586513 114607084  20572     2          74909    \n",
       "343698 12       99196670  99330063 133394     2          71375    \n",
       "343726 12       85473890  85477273   3384     1          14281    \n",
       "343827 12       21390071  21417637  27567     2          22630    \n",
       "343880 12      105513480 105515246   1767     1          104932   \n",
       "343917 11       97551890  97575226  23337     2          56013    \n",
       "344005  1      181836058 181843046   6989     2          98386    \n",
       "344072 11       68985697  69008460  22764     2          237823   \n",
       "344208  1      134075170 134079120   3951     2          12227    \n",
       "344229  1      130670261 130684071  13811     2          12270    \n",
       "344302 11      113848562 114065975 217414     2          237979   \n",
       "344344 11      100262887 100269871   6985     2          68239    \n",
       "344375 10       93160875  93225368  64494     1          237459   \n",
       "344486 10       42678966  42699991  21026     1          14628    \n",
       "344578 10      116729253 116739760  10508     1          75878    \n",
       "       transcriptId          distanceToTSS ENSEMBL            SYMBOL       \n",
       "1      ENSMUST00000033640.13  -35385       ENSMUSG00000031284 Pak3         \n",
       "2      ENSMUST00000201943.1   -87243       ENSMUSG00000106779 Gm8579       \n",
       "3      ENSMUST00000215087.1     7060       ENSMUSG00000035202 Lars2        \n",
       "4      ENSMUST00000062085.5  -144660       ENSMUSG00000045336 Hsfy2        \n",
       "5      ENSMUST00000188142.6    20097       ENSMUSG00000074305 Peak1        \n",
       "6      ENSMUST00000148138.7        0       ENSMUSG00000036251 Trpm8        \n",
       "7      ENSMUST00000234846.1        0       ENSMUSG00000024260 Sap130       \n",
       "8      ENSMUST00000151253.1   -15320       ENSMUSG00000000884 Gnb1l        \n",
       "9      ENSMUST00000027853.5        0       ENSMUSG00000026568 Mpc2         \n",
       "10     ENSMUST00000066668.13       0       ENSMUSG00000026209 Dnpep        \n",
       "11     ENSMUST00000036226.5        0       ENSMUSG00000033319 Fem1c        \n",
       "12     ENSMUST00000108386.7      -30       ENSMUSG00000042198 Chchd7       \n",
       "13     ENSMUST00000002292.14       0       ENSMUSG00000002222 Rmnd5a       \n",
       "14     ENSMUST00000179474.8        0       ENSMUSG00000044465 Fhip1b       \n",
       "15     ENSMUST00000048377.10     -22       ENSMUSG00000040297 Suco         \n",
       "16     ENSMUST00000113122.7     -312       ENSMUSG00000001632 Brpf1        \n",
       "17     ENSMUST00000016105.8       -5       ENSMUSG00000015961 Adss         \n",
       "18     ENSMUST00000174078.1      -95       ENSMUSG00000041025 Iffo2        \n",
       "19     ENSMUST00000049260.6      -85       ENSMUSG00000042680 Garem1       \n",
       "20     ENSMUST00000048490.12     -43       ENSMUSG00000025762 Larp1b       \n",
       "21     ENSMUST00000196446.4        0       ENSMUSG00000078578 Ube2d3       \n",
       "22     ENSMUST00000225543.1        0       ENSMUSG00000093930 Hmgcs1       \n",
       "23     ENSMUST00000132267.1        0       ENSMUSG00000086401 Gm15559      \n",
       "24     ENSMUST00000120875.7        0       ENSMUSG00000044864 Ankrd50      \n",
       "25     ENSMUST00000119954.8        0       ENSMUSG00000041328 Pcf11        \n",
       "26     ENSMUST00000016072.11       0       ENSMUSG00000027422 Rrbp1        \n",
       "27     ENSMUST00000139253.7        0       ENSMUSG00000074884 Serf2        \n",
       "28     ENSMUST00000226113.1        0       ENSMUSG00000021823 Vcl          \n",
       "29     ENSMUST00000037025.15       0       ENSMUSG00000038080 Kdm1b        \n",
       "30     ENSMUST00000091514.5        0       ENSMUSG00000021594 Srd5a1       \n",
       "⋮      ⋮                     ⋮             ⋮                  ⋮            \n",
       "342909 ENSMUST00000048788.13  -6678        ENSMUSG00000036208 Nepro        \n",
       "342936 ENSMUST00000023497.2    -391        ENSMUSG00000022802 Lmln         \n",
       "342985 ENSMUST00000079158.12 -12278        ENSMUSG00000022822 Abcc5        \n",
       "343032 ENSMUST00000140171.7   88527        ENSMUSG00000052560 Cpne8        \n",
       "343094 ENSMUST00000230802.1  339064        ENSMUSG00000116483 Gm19782      \n",
       "343100 ENSMUST00000118823.1    4522        ENSMUSG00000005124 Ccn4         \n",
       "343145 ENSMUST00000226756.1   59021        ENSMUSG00000022312 Eif3h        \n",
       "343171 ENSMUST00000127362.1   49198        ENSMUSG00000022292 Rrm2b        \n",
       "343177 ENSMUST00000110697.8  -36519        ENSMUSG00000055737 Ghr          \n",
       "343179 ENSMUST00000110697.8  -21504        ENSMUSG00000055737 Ghr          \n",
       "343205 ENSMUST00000052910.5  202811        ENSMUSG00000047565 Acot10       \n",
       "343253 ENSMUST00000228524.1  -59220        ENSMUSG00000052584 Serp2        \n",
       "343280 ENSMUST00000141226.2   -7628        ENSMUSG00000025986 Slc39a10     \n",
       "343532 ENSMUST00000222907.1   13193        ENSMUSG00000021458 Aopep        \n",
       "343634 ENSMUST00000123438.1  148110        ENSMUSG00000084811 1700092E19Rik\n",
       "343671 ENSMUST00000224961.1    4007        ENSMUSG00000114879 4930467J12Rik\n",
       "343698 ENSMUST00000222261.1    9855        ENSMUSG00000033713 Foxn3        \n",
       "343726 ENSMUST00000021674.6  -44039        ENSMUSG00000021250 Fos          \n",
       "343827 ENSMUST00000135088.8   -8226        ENSMUSG00000076432 Ywhaq        \n",
       "343880 ENSMUST00000223443.1   21396        NA                 AU015791     \n",
       "343917 ENSMUST00000142123.1   -9137        ENSMUSG00000038453 Srcin1       \n",
       "344005 ENSMUST00000193030.5  -17212        ENSMUSG00000004880 Lbr          \n",
       "344072 ENSMUST00000021282.11  -3020        ENSMUSG00000020899 Pfas         \n",
       "344208 ENSMUST00000020692.6   16403        ENSMUSG00000020423 Btg2         \n",
       "344229 ENSMUST00000189393.1   -7291        NA                 C4bp-ps1     \n",
       "344302 ENSMUST00000141943.1    3918        ENSMUSG00000041592 Sdk2         \n",
       "344344 ENSMUST00000017270.7  -18343        ENSMUSG00000053654 Krt42        \n",
       "344375 ENSMUST00000215495.1   -5117        ENSMUSG00000020015 Cdk17        \n",
       "344486 ENSMUST00000154048.1   36223        ENSMUSG00000038280 Ostm1        \n",
       "344578 ENSMUST00000218193.1   32574        ENSMUSG00000112924 4930579P08Rik\n",
       "       GENENAME                                                                    \n",
       "1      p21 (RAC1) activated kinase 3                                               \n",
       "2      spermatogenesis associated glutamate (E)-rich protein 4a pseudogene         \n",
       "3      leucyl-tRNA synthetase, mitochondrial                                       \n",
       "4      heat shock transcription factor, Y-linked 2                                 \n",
       "5      pseudopodium-enriched atypical kinase 1                                     \n",
       "6      transient receptor potential cation channel, subfamily M, member 8          \n",
       "7      Sin3A associated protein                                                    \n",
       "8      guanine nucleotide binding protein (G protein), beta polypeptide 1-like     \n",
       "9      mitochondrial pyruvate carrier 2                                            \n",
       "10     aspartyl aminopeptidase                                                     \n",
       "11     fem 1 homolog c                                                             \n",
       "12     coiled-coil-helix-coiled-coil-helix domain containing 7                     \n",
       "13     required for meiotic nuclear division 5 homolog A                           \n",
       "14     FHF complex subunit HOOK interacting protein 1B                             \n",
       "15     SUN domain containing ossification factor                                   \n",
       "16     bromodomain and PHD finger containing, 1                                    \n",
       "17     adenylosuccinate synthetase, non muscle                                     \n",
       "18     intermediate filament family orphan 2                                       \n",
       "19     GRB2 associated regulator of MAPK1 subtype 1                                \n",
       "20     La ribonucleoprotein 1B                                                     \n",
       "21     ubiquitin-conjugating enzyme E2D 3                                          \n",
       "22     3-hydroxy-3-methylglutaryl-Coenzyme A synthase 1                            \n",
       "23     predicted gene 15559                                                        \n",
       "24     ankyrin repeat domain 50                                                    \n",
       "25     PCF11 cleavage and polyadenylation factor subunit                           \n",
       "26     ribosome binding protein 1                                                  \n",
       "27     small EDRK-rich factor 2                                                    \n",
       "28     vinculin                                                                    \n",
       "29     lysine (K)-specific demethylase 1B                                          \n",
       "30     steroid 5 alpha-reductase 1                                                 \n",
       "⋮      ⋮                                                                           \n",
       "342909 nucleolus and neural progenitor protein                                     \n",
       "342936 leishmanolysin-like (metallopeptidase M8 family)                            \n",
       "342985 ATP-binding cassette, sub-family C (CFTR/MRP), member 5                     \n",
       "343032 copine VIII                                                                 \n",
       "343094 predicted gene, 19782                                                       \n",
       "343100 cellular communication network factor 4                                     \n",
       "343145 eukaryotic translation initiation factor 3, subunit H                       \n",
       "343171 ribonucleotide reductase M2 B (TP53 inducible)                              \n",
       "343177 growth hormone receptor                                                     \n",
       "343179 growth hormone receptor                                                     \n",
       "343205 acyl-CoA thioesterase 10                                                    \n",
       "343253 stress-associated endoplasmic reticulum protein family member 2             \n",
       "343280 solute carrier family 39 (zinc transporter), member 10                      \n",
       "343532 aminopeptidase O                                                            \n",
       "343634 RIKEN cDNA 1700092E19 gene                                                  \n",
       "343671 RIKEN cDNA 4930467J12 gene                                                  \n",
       "343698 forkhead box N3                                                             \n",
       "343726 FBJ osteosarcoma oncogene                                                   \n",
       "343827 tyrosine 3-monooxygenase/tryptophan 5-monooxygenase activation protein theta\n",
       "343880 expressed sequence AU015791                                                 \n",
       "343917 SRC kinase signaling inhibitor 1                                            \n",
       "344005 lamin B receptor                                                            \n",
       "344072 phosphoribosylformylglycinamidine synthase (FGAR amidotransferase)          \n",
       "344208 BTG anti-proliferation factor 2                                             \n",
       "344229 complement component 4 binding protein, pseudogene 1                        \n",
       "344302 sidekick cell adhesion molecule 2                                           \n",
       "344344 keratin 42                                                                  \n",
       "344375 cyclin-dependent kinase 17                                                  \n",
       "344486 osteopetrosis associated transmembrane protein 1                            \n",
       "344578 RIKEN cDNA 4930579P08 gene                                                  "
      ]
     },
     "metadata": {},
     "output_type": "display_data"
    }
   ],
   "source": [
    "peakAnnoDF[34780:34791]"
   ]
  },
  {
   "cell_type": "code",
   "execution_count": 47,
   "id": "40701d32",
   "metadata": {},
   "outputs": [
    {
     "data": {
      "text/html": [
       "70284"
      ],
      "text/latex": [
       "70284"
      ],
      "text/markdown": [
       "70284"
      ],
      "text/plain": [
       "[1] 70284"
      ]
     },
     "metadata": {},
     "output_type": "display_data"
    }
   ],
   "source": [
    "length(peakAnno@anno$SYMBOL)"
   ]
  },
  {
   "cell_type": "code",
   "execution_count": 35,
   "id": "b7c2b743",
   "metadata": {},
   "outputs": [],
   "source": [
    "write.csv(peakAnno@anno$SYMBOL,'/data/xinyi/shareseq/skin_atac_symbol.csv')"
   ]
  },
  {
   "cell_type": "code",
   "execution_count": 50,
   "id": "7d44c61d",
   "metadata": {},
   "outputs": [],
   "source": [
    "write.csv(peakAnnoDF[34780:34791],'/data/xinyi/shareseq/skin_atac_allAnnotations.csv')"
   ]
  }
 ],
 "metadata": {
  "kernelspec": {
   "display_name": "Python 3 (ipykernel)",
   "language": "python",
   "name": "python3"
  },
  "language_info": {
   "codemirror_mode": {
    "name": "ipython",
    "version": 3
   },
   "file_extension": ".py",
   "mimetype": "text/x-python",
   "name": "python",
   "nbconvert_exporter": "python",
   "pygments_lexer": "ipython3",
   "version": "3.10.11"
  }
 },
 "nbformat": 4,
 "nbformat_minor": 5
}
