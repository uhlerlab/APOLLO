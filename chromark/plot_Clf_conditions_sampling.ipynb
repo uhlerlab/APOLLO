{
 "cells": [
  {
   "cell_type": "code",
   "execution_count": 16,
   "id": "a06c9bac",
   "metadata": {},
   "outputs": [],
   "source": [
    "import sys\n",
    "sys.path.append('..')\n",
    "\n",
    "import os\n",
    "import matplotlib.pyplot as plt\n",
    "import numpy as np\n",
    "from skimage.filters import gaussian, threshold_otsu\n",
    "from skimage.transform import resize\n",
    "from skimage import io\n",
    "import pickle\n",
    "from skimage.measure import regionprops\n",
    "\n",
    "import matplotlib.pyplot as plt\n",
    "import torch\n",
    "import time\n",
    "import model.model_cnnvae_conditional\n",
    "import model.optimizer as optimizer\n",
    "from sklearn.decomposition import PCA\n",
    "import pandas as pd\n",
    "import torchvision\n",
    "from scipy.stats import ttest_rel,ttest_ind"
   ]
  },
  {
   "cell_type": "code",
   "execution_count": 75,
   "id": "5c468a8b",
   "metadata": {},
   "outputs": [],
   "source": [
    "def plotCTcomp(labels,ctlist,savepath,savenamecluster,byCT,addname='',ctorder=None,vmin=None,vmax=None,plotres=False):\n",
    "    if ctorder is None:\n",
    "        ctorder=np.unique(ctlist)\n",
    "    res=np.zeros((np.unique(labels).size,ctorder.size))\n",
    "    for li in range(res.shape[0]):\n",
    "        l=np.unique(labels)[li]\n",
    "        nl=np.sum(labels==l)\n",
    "        ctlist_l=ctlist[labels==l]\n",
    "        for ci in range(res.shape[1]):\n",
    "            c=ctorder[ci]\n",
    "            res[li,ci]=np.sum(ctlist_l==c)\n",
    "#             res[li,ci]=np.sum(ctlist_l==c)/nl\n",
    "    if not byCT:\n",
    "        addname+=''\n",
    "        for li in range(res.shape[0]):\n",
    "            l=np.unique(labels)[li]\n",
    "            nl=np.sum(labels==l)\n",
    "            res[li]=res[li]/nl\n",
    "    else:\n",
    "        addname+='_normbyCT'\n",
    "        for ci in range(res.shape[1]):\n",
    "            c=ctorder[ci]\n",
    "            nc=np.sum(ctlist==c)\n",
    "            res[:,ci]=res[:,ci]/nc\n",
    "    if not plotres:\n",
    "        return res\n",
    "    fig, ax = plt.subplots(figsize=(10, 10))\n",
    "    im = ax.imshow(res,cmap='binary',vmin=vmin,vmax=vmax)\n",
    "    ax.set_yticks(np.arange(np.unique(labels).size))\n",
    "    ax.set_yticklabels(np.unique(labels))\n",
    "    ax.set_xticks(np.arange(ctorder.size))\n",
    "    ax.set_xticklabels(ctorder)\n",
    "    resplot=np.around(res,3)\n",
    "    for i in range(resplot.shape[0]):\n",
    "        for j in range(resplot.shape[1]):\n",
    "            text = ax.text(j, i, resplot[i, j],\n",
    "                           ha=\"center\", va=\"center\", color=\"r\")\n",
    "    plt.setp(ax.get_xticklabels(), rotation=45, ha=\"right\",rotation_mode=\"anchor\")\n",
    "    fig.colorbar(im)\n",
    "    fig.tight_layout()\n",
    "    plt.savefig(os.path.join(savepath,savenamecluster+addname+'.pdf'))\n",
    "    plt.close()\n",
    "    return res"
   ]
  },
  {
   "cell_type": "code",
   "execution_count": 66,
   "id": "a1a9cc95",
   "metadata": {},
   "outputs": [],
   "source": [
    "modelname_all='resnet18'\n",
    "plotsavepath_all=os.path.join('/data/xinyi/c2p/plots/',modelname_all)\n",
    "names={'real protein':'conditionClf_origImg_sampling','full protein latent':'conditionClf_lord_p2p_fullrecon_sampling','shared protein latent':'conditionClf_lord_p2p_sharedRecon_sampling','predicted from chromatin':'conditionClf_lord_sampling'}\n",
    "names_c={'real protein':'conditionClf_origImg_sampling','full protein latent':'conditionClf_c2c_fullrecon_sampling','shared protein latent':'conditionClf_c2c_sharedrecon_sampling','predicted from chromatin':'dne'}\n",
    "proteins=np.array(['cd16','cd3','cd4','cd8','gh2ax','lamin','chromatin'])"
   ]
  },
  {
   "cell_type": "markdown",
   "id": "794238d6",
   "metadata": {},
   "source": [
    "### bar plot with error bars - protein"
   ]
  },
  {
   "cell_type": "code",
   "execution_count": 155,
   "id": "7a02ab36",
   "metadata": {},
   "outputs": [
    {
     "name": "stdout",
     "output_type": "stream",
     "text": [
      "/data/xinyi/c2p/plots/resnet18/dne/chromatin/acc_val\n"
     ]
    },
    {
     "data": {
      "image/png": "[encoded data removed]",
      "text/plain": [
       "<Figure size 640x480 with 1 Axes>"
      ]
     },
     "metadata": {},
     "output_type": "display_data"
    }
   ],
   "source": [
    "# more samples\n",
    "x=np.arange(proteins.size)\n",
    "width=0.1\n",
    "multiplier=0\n",
    "\n",
    "fig,ax=plt.subplots(layout='constrained')\n",
    "for t in names.keys():\n",
    "    offset=width*multiplier\n",
    "    mean=np.zeros(proteins.size)\n",
    "    std=np.zeros(proteins.size)\n",
    "    for p_idx in range(proteins.size):\n",
    "        p_curr=proteins[p_idx]\n",
    "        \n",
    "        if p_curr=='chromatin':\n",
    "            plotsavepath_train_curr=os.path.join(plotsavepath_all,names_c[t],p_curr)\n",
    "        else:\n",
    "            plotsavepath_train_curr=os.path.join(plotsavepath_all,names[t],p_curr)\n",
    "        if not os.path.exists(os.path.join(plotsavepath_train_curr,'acc_val')):\n",
    "            print(os.path.join(plotsavepath_train_curr,'acc_val'))\n",
    "            continue\n",
    "        with open(os.path.join(plotsavepath_train_curr,'acc_val'), 'rb') as output:\n",
    "            correctCount_val=pickle.load(output)\n",
    "        if os.path.exists(os.path.join(plotsavepath_train_curr,'acc_val_moreSamples')):\n",
    "            with open(os.path.join(plotsavepath_train_curr,'acc_val_moreSamples'), 'rb') as output:\n",
    "                correctCount_val_moresamples=pickle.load(output)\n",
    "            correctCount_val=np.concatenate((correctCount_val,correctCount_val_moresamples))\n",
    "#             correctCount_val=correctCount_val_moresamples\n",
    "        mean[p_idx]=np.mean(correctCount_val)\n",
    "        std[p_idx]=np.std(correctCount_val)\n",
    "    bars=ax.bar(x+offset,mean,width,label=t,yerr=std)\n",
    "    multiplier+=1\n",
    "ax.set_xticks(x+width,proteins)\n",
    "ax.legend(loc='upper left')\n",
    "ax.set_ylim(0,1)\n",
    "plt.savefig(os.path.join(plotsavepath_all,'plots_conditionClf_sampling','accuracy_val_moreSamples.pdf'))"
   ]
  },
  {
   "cell_type": "code",
   "execution_count": 162,
   "id": "920b928c",
   "metadata": {},
   "outputs": [
    {
     "name": "stdout",
     "output_type": "stream",
     "text": [
      "cd16\n",
      "-0.001056231095742874\n",
      "0.7178003161411313\n",
      "cd3\n",
      "-0.00011518629941122854\n",
      "0.514689958195441\n",
      "cd4\n",
      "0.0014088731240604784\n",
      "0.20909975068798037\n",
      "cd8\n",
      "0.0018650545158362833\n",
      "0.011481020190475118\n",
      "gh2ax\n",
      "0.0029973802758143995\n",
      "0.0011932020617541816\n",
      "lamin\n",
      "0.0072611821331296615\n",
      "0.09803243712184069\n"
     ]
    }
   ],
   "source": [
    "#pvalues of full vs shared\n",
    "for p_idx in range(proteins.size):\n",
    "    p_curr=proteins[p_idx]\n",
    "    if p_curr=='chromatin':\n",
    "        continue\n",
    "    print(p_curr)\n",
    "    plotsavepath_train_full=os.path.join(plotsavepath_all,names['full protein latent'],p_curr)\n",
    "    plotsavepath_train_shared=os.path.join(plotsavepath_all,names['shared protein latent'],p_curr)\n",
    "    with open(os.path.join(plotsavepath_train_full,'acc_val'), 'rb') as output:\n",
    "        correctCount_val_full=pickle.load(output)\n",
    "    with open(os.path.join(plotsavepath_train_shared,'acc_val'), 'rb') as output:\n",
    "        correctCount_val_shared=pickle.load(output)\n",
    "    with open(os.path.join(plotsavepath_train_full,'acc_val_moreSamples'), 'rb') as output:\n",
    "        correctCount_val_full=np.concatenate((correctCount_val_full,pickle.load(output)))\n",
    "    with open(os.path.join(plotsavepath_train_shared,'acc_val_moreSamples'), 'rb') as output:\n",
    "        correctCount_val_shared=np.concatenate((correctCount_val_shared,pickle.load(output)))\n",
    "\n",
    "    print(np.mean(correctCount_val_full-correctCount_val_shared))\n",
    "    print(ttest_rel(correctCount_val_full,correctCount_val_shared,alternative='greater').pvalue)"
   ]
  }
 ],
 "metadata": {
  "kernelspec": {
   "display_name": "Python 3 (ipykernel)",
   "language": "python",
   "name": "python3"
  },
  "language_info": {
   "codemirror_mode": {
    "name": "ipython",
    "version": 3
   },
   "file_extension": ".py",
   "mimetype": "text/x-python",
   "name": "python",
   "nbconvert_exporter": "python",
   "pygments_lexer": "ipython3",
   "version": "3.10.8"
  }
 },
 "nbformat": 4,
 "nbformat_minor": 5
}
