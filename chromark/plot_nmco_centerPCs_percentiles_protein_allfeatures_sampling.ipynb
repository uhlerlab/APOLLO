{
 "cells": [
  {
   "cell_type": "markdown",
   "id": "dc70b00a",
   "metadata": {},
   "source": [
    "plot gradients of latents or activations of convolutional channels"
   ]
  },
  {
   "cell_type": "code",
   "execution_count": 1,
   "id": "13afb053",
   "metadata": {},
   "outputs": [],
   "source": [
    "import sys\n",
    "sys.path.append('/home/xinyiz/c2p_dag/')\n",
    "\n",
    "import os\n",
    "import matplotlib.pyplot as plt\n",
    "import numpy as np\n",
    "from skimage.filters import gaussian, threshold_otsu\n",
    "from skimage.transform import resize\n",
    "from skimage import io\n",
    "import pickle\n",
    "from skimage.measure import regionprops\n",
    "\n",
    "import matplotlib.pyplot as plt\n",
    "import torch\n",
    "import time\n",
    "import model.model_cnnvae_conditional\n",
    "import model.optimizer as optimizer\n",
    "from sklearn.decomposition import PCA\n",
    "import pandas as pd\n",
    "import torchvision\n",
    "\n",
    "from PIL import Image \n",
    "\n",
    "import scanpy\n",
    "import anndata as ad"
   ]
  },
  {
   "cell_type": "code",
   "execution_count": 2,
   "id": "f29ab5f2",
   "metadata": {},
   "outputs": [],
   "source": [
    "nProt=6\n",
    "holdOutSamples_samples=[['HV1','P22','P14','P27','HV3','P46','P24','P37'],\n",
    "                        ['HV5','P68','P44','P42','HV7','P15','P55','P59'],\n",
    "                        ['HV8','P47','P63','P70','HV2','P57','P72','P83'],\n",
    "                        ['HV4','P16','P18','P62','HV6','P52','P41','P38'],\n",
    "                        ['HV1','P84','P50','P48','HV2','P22','P56','P27'],\n",
    "                        ['HV3','P46','P14','P37','HV4','P68','P44','P42'],\n",
    "                        ['HV5','P15','P24','P59','HV6','P47','P55','P70'],\n",
    "                        ['HV7','P57','P63','P83','HV8','P16','P18','P62'],\n",
    "                        ['HV1','P52','P72','P38','HV5','P84','P41','P48'],\n",
    "                        ['HV2','P22','P50','P27','HV3','P68','P24','P59'],\n",
    "                        ['HV4','P47','P56','P37','HV7','P16','P44','P70'],\n",
    "                        ['HV6','P46','P14','P42','HV8','P15','P55','P83']]\n",
    "\n",
    "os.environ[\"CUDA_LAUNCH_BLOCKING\"] = \"1\"\n",
    "os.environ[\"CUDA_VISIBLE_DEVICES\"] = \"6\"\n",
    "\n",
    "deShared_centered_2bins=[None]*len(holdOutSamples_samples)\n",
    "deD_centered_2bins=[None]*len(holdOutSamples_samples)\n",
    "\n",
    "deShared_centered_2bins_heldout=[None]*len(holdOutSamples_samples)\n",
    "deD_centered_2bins_heldout=[None]*len(holdOutSamples_samples)\n"
   ]
  },
  {
   "cell_type": "code",
   "execution_count": 3,
   "id": "d0d444fd",
   "metadata": {},
   "outputs": [
    {
     "data": {
      "text/plain": [
       "<All keys matched successfully>"
      ]
     },
     "execution_count": 3,
     "metadata": {},
     "output_type": "execute_result"
    }
   ],
   "source": [
    "sharedSizes=[1024]\n",
    "dSpecific_filter=[(200,16)]\n",
    "pID_type='randInit'\n",
    "pIDemb_size=64\n",
    "\n",
    "#VAE settings\n",
    "seed=3\n",
    "epochs=5001\n",
    "saveFreq=100\n",
    "lr=0.001 #initial learning rate\n",
    "weight_decay=0 #Weight for L2 loss on embedding matrix.\n",
    "\n",
    "# batchsize=4\n",
    "batchsize=256\n",
    "kernel_size=4\n",
    "stride=2\n",
    "padding=1\n",
    "\n",
    "# fc_dim1=6000\n",
    "hidden1=64 #Number of channels in hidden layer 1\n",
    "hidden2=128 \n",
    "hidden3=256\n",
    "hidden4=256\n",
    "hidden5=96\n",
    "hidden5_xy=4\n",
    "fc_dim1=96*hidden5_xy*hidden5_xy\n",
    "fc_dim2=6000\n",
    "\n",
    "dropout=0.01\n",
    "kl_weight=0.0000001\n",
    "\n",
    "\n",
    "name_lord='splitChannels_conditional_lord_withNoise_bce'\n",
    "modelname_lord='cnn_vae_pbmc_lord'\n",
    "logsavepath_lord=os.path.join('/data/xinyi/c2p/log/',modelname_lord,name_lord)\n",
    "modelsavepath_lord=os.path.join('/data/xinyi/c2p/models/',modelname_lord,name_lord)\n",
    "plotsavepath_lord=os.path.join('/data/xinyi/c2p/plots/',modelname_lord,name_lord)\n",
    "\n",
    "loadEpoch='3399'\n",
    "loadEpoch_decoder=372\n",
    "\n",
    "logsavepath_p_dna=os.path.join(logsavepath_lord,'dna')\n",
    "modelsavepath_p_dna=os.path.join(modelsavepath_lord,'dna')\n",
    "plotsavepath_p_dna=os.path.join(plotsavepath_lord,'dna')\n",
    "\n",
    "logsavepath_p_protein=os.path.join(logsavepath_lord,'protein')\n",
    "modelsavepath_p_protein=os.path.join(modelsavepath_lord,'protein')\n",
    "plotsavepath_p_protein=os.path.join(plotsavepath_lord,'protein')\n",
    "\n",
    "currLatentSize=sharedSizes[0]\n",
    "dSpecificSize,dfilterSize=dSpecific_filter[0]\n",
    "\n",
    "dna_cShared=hidden5-dfilterSize\n",
    "p_cShared=dna_cShared\n",
    "\n",
    "if modelname_lord=='cnn_vae_pbmc_lord':\n",
    "    modelcnn_dna_dec = model.model_cnnvae_conditional.CNN_VAE_decode_pIDemb(kernel_size, stride, padding, 1, hidden1, hidden2, hidden3, hidden4, hidden5, fc_dim1,currLatentSize+dSpecificSize,pIDemb_size)\n",
    "    modelcnn_protein_dec = model.model_cnnvae_conditional.CNN_VAE_decode_pIDemb(kernel_size, stride, padding, 1, hidden1, hidden2, hidden3, hidden4, hidden5, fc_dim1,currLatentSize+dSpecificSize,pIDemb_size)\n",
    "    modelcnn_dnaShared_dec=model.model_cnnvae_conditional.CNN_VAE_decode_pIDemb(kernel_size, stride, padding, 1, hidden1, hidden2, hidden3, hidden4, hidden5, fc_dim1,currLatentSize,pIDemb_size)\n",
    "    modelcnn_pShared_dec=model.model_cnnvae_conditional.CNN_VAE_decode_pIDemb(kernel_size, stride, padding, 1, hidden1, hidden2, hidden3, hidden4, hidden5, fc_dim1,currLatentSize,pIDemb_size)\n",
    "modelcnn_dna_dec.cuda().eval()\n",
    "modelcnn_protein_dec.cuda().eval()\n",
    "modelcnn_dnaShared_dec.cuda().eval()\n",
    "modelcnn_pShared_dec.cuda().eval()\n",
    "\n",
    "batchsize=328\n",
    "pIDemb_dec=torch.nn.Embedding(nProt, pIDemb_size).cuda()\n",
    "\n",
    "\n",
    "with open(os.path.join(modelsavepath_p_protein,'pIDemb_'+str(currLatentSize)+'_'+str(dSpecificSize)+'_'+str(loadEpoch)), 'rb') as output:\n",
    "    pIDemb_dec.weight=pickle.load(output)\n",
    "\n",
    "with open(os.path.join(modelsavepath_p_dna,'stateDict_'+str(currLatentSize)+'_'+str(dSpecificSize)), 'rb') as output:\n",
    "    stateDict_train_dna_dec=pickle.load(output)\n",
    "with open(os.path.join(modelsavepath_p_protein,'stateDict_'+str(currLatentSize)+'_'+str(dSpecificSize)), 'rb') as output:\n",
    "    stateDict_train_protein_dec=pickle.load(output)\n",
    "with open(os.path.join(modelsavepath_p_dna,'stateDictShared_'+str(currLatentSize)+'_'+str(dSpecificSize)), 'rb') as output:\n",
    "    stateDict_train_dnaShared_dec=pickle.load(output)\n",
    "with open(os.path.join(modelsavepath_p_protein,'stateDictShared_'+str(currLatentSize)+'_'+str(dSpecificSize)), 'rb') as output:\n",
    "    stateDict_train_proteinShared_dec=pickle.load(output)\n",
    "\n",
    "modelcnn_dna_dec.load_state_dict(stateDict_train_dna_dec[int(loadEpoch)])\n",
    "modelcnn_dnaShared_dec.load_state_dict(stateDict_train_dnaShared_dec[int(loadEpoch)])\n",
    "modelcnn_protein_dec.load_state_dict(stateDict_train_protein_dec[int(loadEpoch)])\n",
    "modelcnn_pShared_dec.load_state_dict(stateDict_train_proteinShared_dec[int(loadEpoch)])\n",
    "pIDemb_dec.weight.requires_grad=False\n",
    "\n",
    "with open(os.path.join(modelsavepath_p_dna,'stateDict_encode_'+str(currLatentSize)+'_'+str(dSpecificSize)), 'rb') as output:\n",
    "    stateDict_train_dna=pickle.load(output)\n",
    "with open(os.path.join(modelsavepath_p_protein,'stateDict_encode_'+str(currLatentSize)+'_'+str(dSpecificSize)), 'rb') as output:\n",
    "    stateDict_train_protein=pickle.load(output)\n",
    "\n",
    "if modelname_lord=='cnn_vae_pbmc_lord':\n",
    "    modelcnn_dna = model.model_cnnvae_conditional.CNN_VAE_split_encode_pIDemb(kernel_size, stride, padding, 1, hidden1, hidden2, hidden3, hidden4, hidden5,p_cShared,dna_cShared*hidden5_xy*hidden5_xy, (hidden5-p_cShared)*hidden5_xy*hidden5_xy,currLatentSize,dSpecificSize,nProt,'randInit',pIDemb_size)\n",
    "    modelcnn_protein = model.model_cnnvae_conditional.CNN_VAE_split_encode_pIDemb(kernel_size, stride, padding, 1, hidden1, hidden2, hidden3, hidden4, hidden5,p_cShared,p_cShared*hidden5_xy*hidden5_xy, (hidden5-p_cShared)*hidden5_xy*hidden5_xy,currLatentSize,dSpecificSize,nProt,'randInit',pIDemb_size)\n",
    "modelcnn_dna.cuda()\n",
    "modelcnn_protein.cuda()\n",
    "modelcnn_dna.load_state_dict(stateDict_train_dna[loadEpoch_decoder])\n",
    "modelcnn_protein.load_state_dict(stateDict_train_protein[loadEpoch_decoder])\n",
    "\n",
    "\n",
    "\n",
    "\n",
    "\n"
   ]
  },
  {
   "cell_type": "code",
   "execution_count": 6,
   "id": "50ba24df",
   "metadata": {},
   "outputs": [],
   "source": [
    "\n",
    "pnames=np.array(['cd16', 'cd3', 'cd4', 'cd8', 'gh2ax', 'lamin'])"
   ]
  },
  {
   "cell_type": "code",
   "execution_count": 48,
   "id": "9d35c079",
   "metadata": {
    "scrolled": true
   },
   "outputs": [
    {
     "name": "stdout",
     "output_type": "stream",
     "text": [
      "0\n",
      "hold out: HV1\n",
      "hold out: HV3\n",
      "hold out: HV1\n",
      "hold out: HV3\n",
      "hold out: P14\n",
      "hold out: P24\n",
      "hold out: P14\n",
      "hold out: P24\n",
      "hold out: P27\n",
      "hold out: P37\n",
      "hold out: P37\n",
      "hold out: P27\n",
      "hold out: P46\n",
      "hold out: P22\n",
      "hold out: P46\n",
      "hold out: P22\n",
      "cd16\n",
      "tensor([0])\n",
      "0\n",
      "1\n",
      "2\n",
      "3\n",
      "4\n",
      "5\n",
      "6\n",
      "7\n",
      "8\n",
      "9\n",
      "0\n",
      "1\n",
      "2\n",
      "3\n",
      "4\n",
      "5\n",
      "6\n",
      "7\n",
      "8\n",
      "9\n",
      "dict_keys(['cd16'])\n",
      "cd3\n",
      "tensor([1])\n"
     ]
    },
    {
     "name": "stderr",
     "output_type": "stream",
     "text": [
      "/tmp/ipykernel_1644638/3527635232.py:244: RuntimeWarning: invalid value encountered in divide\n",
      "  nmco_ad=ad.AnnData((nmco_all_finite-np.min(nmco_all_finite,axis=0,keepdims=True))/(np.max(nmco_all_finite,axis=0,keepdims=True)-np.min(nmco_all_finite,axis=0,keepdims=True)))\n"
     ]
    },
    {
     "name": "stdout",
     "output_type": "stream",
     "text": [
      "0\n",
      "1\n",
      "2\n",
      "3\n",
      "4\n",
      "5\n",
      "6\n",
      "7\n",
      "8\n",
      "9\n"
     ]
    },
    {
     "name": "stderr",
     "output_type": "stream",
     "text": [
      "/tmp/ipykernel_1644638/3527635232.py:369: RuntimeWarning: invalid value encountered in divide\n",
      "  nmco_ad_heldout=ad.AnnData((nmco_val_allProt_np_finite-np.min(nmco_val_allProt_np_finite,axis=0,keepdims=True))/(np.max(nmco_val_allProt_np_finite,axis=0,keepdims=True)-np.min(nmco_val_allProt_np_finite,axis=0,keepdims=True)))\n"
     ]
    },
    {
     "name": "stdout",
     "output_type": "stream",
     "text": [
      "0\n",
      "1\n",
      "2\n",
      "3\n",
      "4\n",
      "5\n",
      "6\n",
      "7\n",
      "8\n",
      "9\n",
      "dict_keys(['cd16', 'cd3'])\n",
      "cd4\n",
      "tensor([2])\n"
     ]
    },
    {
     "name": "stderr",
     "output_type": "stream",
     "text": [
      "/tmp/ipykernel_1644638/3527635232.py:244: RuntimeWarning: invalid value encountered in divide\n",
      "  nmco_ad=ad.AnnData((nmco_all_finite-np.min(nmco_all_finite,axis=0,keepdims=True))/(np.max(nmco_all_finite,axis=0,keepdims=True)-np.min(nmco_all_finite,axis=0,keepdims=True)))\n"
     ]
    },
    {
     "name": "stdout",
     "output_type": "stream",
     "text": [
      "0\n",
      "1\n",
      "2\n",
      "3\n",
      "4\n",
      "5\n",
      "6\n",
      "7\n",
      "8\n",
      "9\n"
     ]
    },
    {
     "name": "stderr",
     "output_type": "stream",
     "text": [
      "/tmp/ipykernel_1644638/3527635232.py:369: RuntimeWarning: invalid value encountered in divide\n",
      "  nmco_ad_heldout=ad.AnnData((nmco_val_allProt_np_finite-np.min(nmco_val_allProt_np_finite,axis=0,keepdims=True))/(np.max(nmco_val_allProt_np_finite,axis=0,keepdims=True)-np.min(nmco_val_allProt_np_finite,axis=0,keepdims=True)))\n"
     ]
    },
    {
     "name": "stdout",
     "output_type": "stream",
     "text": [
      "0\n",
      "1\n",
      "2\n",
      "3\n",
      "4\n",
      "5\n",
      "6\n",
      "7\n",
      "8\n",
      "9\n",
      "dict_keys(['cd16', 'cd3', 'cd4'])\n",
      "cd8\n",
      "tensor([3])\n"
     ]
    },
    {
     "name": "stderr",
     "output_type": "stream",
     "text": [
      "/tmp/ipykernel_1644638/3527635232.py:244: RuntimeWarning: invalid value encountered in divide\n",
      "  nmco_ad=ad.AnnData((nmco_all_finite-np.min(nmco_all_finite,axis=0,keepdims=True))/(np.max(nmco_all_finite,axis=0,keepdims=True)-np.min(nmco_all_finite,axis=0,keepdims=True)))\n"
     ]
    },
    {
     "name": "stdout",
     "output_type": "stream",
     "text": [
      "0\n",
      "1\n",
      "2\n",
      "3\n",
      "4\n",
      "5\n",
      "6\n",
      "7\n",
      "8\n",
      "9\n"
     ]
    },
    {
     "name": "stderr",
     "output_type": "stream",
     "text": [
      "/tmp/ipykernel_1644638/3527635232.py:369: RuntimeWarning: invalid value encountered in divide\n",
      "  nmco_ad_heldout=ad.AnnData((nmco_val_allProt_np_finite-np.min(nmco_val_allProt_np_finite,axis=0,keepdims=True))/(np.max(nmco_val_allProt_np_finite,axis=0,keepdims=True)-np.min(nmco_val_allProt_np_finite,axis=0,keepdims=True)))\n"
     ]
    },
    {
     "name": "stdout",
     "output_type": "stream",
     "text": [
      "0\n",
      "1\n",
      "2\n",
      "3\n",
      "4\n",
      "5\n",
      "6\n",
      "7\n",
      "8\n",
      "9\n",
      "dict_keys(['cd16', 'cd3', 'cd4', 'cd8'])\n",
      "gh2ax\n",
      "tensor([4])\n",
      "0\n",
      "1\n",
      "2\n",
      "3\n",
      "4\n",
      "5\n",
      "6\n",
      "7\n",
      "8\n",
      "9\n",
      "0\n",
      "1\n",
      "2\n",
      "3\n",
      "4\n",
      "5\n",
      "6\n",
      "7\n",
      "8\n",
      "9\n",
      "dict_keys(['cd16', 'cd3', 'cd4', 'cd8', 'gh2ax'])\n",
      "lamin\n",
      "tensor([5])\n"
     ]
    },
    {
     "name": "stderr",
     "output_type": "stream",
     "text": [
      "/tmp/ipykernel_1644638/3527635232.py:244: RuntimeWarning: invalid value encountered in divide\n",
      "  nmco_ad=ad.AnnData((nmco_all_finite-np.min(nmco_all_finite,axis=0,keepdims=True))/(np.max(nmco_all_finite,axis=0,keepdims=True)-np.min(nmco_all_finite,axis=0,keepdims=True)))\n"
     ]
    },
    {
     "name": "stdout",
     "output_type": "stream",
     "text": [
      "0\n",
      "1\n",
      "2\n",
      "3\n",
      "4\n",
      "5\n",
      "6\n",
      "7\n",
      "8\n",
      "9\n"
     ]
    },
    {
     "name": "stderr",
     "output_type": "stream",
     "text": [
      "/tmp/ipykernel_1644638/3527635232.py:369: RuntimeWarning: invalid value encountered in divide\n",
      "  nmco_ad_heldout=ad.AnnData((nmco_val_allProt_np_finite-np.min(nmco_val_allProt_np_finite,axis=0,keepdims=True))/(np.max(nmco_val_allProt_np_finite,axis=0,keepdims=True)-np.min(nmco_val_allProt_np_finite,axis=0,keepdims=True)))\n"
     ]
    },
    {
     "name": "stdout",
     "output_type": "stream",
     "text": [
      "0\n",
      "1\n",
      "2\n",
      "3\n",
      "4\n",
      "5\n",
      "6\n",
      "7\n",
      "8\n",
      "9\n",
      "dict_keys(['cd16', 'cd3', 'cd4', 'cd8', 'gh2ax', 'lamin'])\n",
      "1\n",
      "hold out: HV5\n",
      "hold out: HV7\n",
      "hold out: HV7\n",
      "hold out: HV5\n",
      "hold out: P44\n",
      "hold out: P55\n",
      "hold out: P55\n",
      "hold out: P44\n",
      "hold out: P42\n",
      "hold out: P59\n",
      "hold out: P42\n",
      "hold out: P59\n",
      "hold out: P15\n",
      "hold out: P68\n",
      "hold out: P68\n",
      "hold out: P15\n",
      "cd16\n",
      "tensor([0])\n",
      "0\n",
      "1\n",
      "2\n",
      "3\n",
      "4\n",
      "5\n",
      "6\n",
      "7\n",
      "8\n",
      "9\n",
      "0\n",
      "1\n",
      "2\n",
      "3\n",
      "4\n",
      "5\n",
      "6\n",
      "7\n",
      "8\n",
      "9\n",
      "dict_keys(['cd16'])\n",
      "cd3\n",
      "tensor([1])\n"
     ]
    },
    {
     "name": "stderr",
     "output_type": "stream",
     "text": [
      "/tmp/ipykernel_1644638/3527635232.py:244: RuntimeWarning: invalid value encountered in divide\n",
      "  nmco_ad=ad.AnnData((nmco_all_finite-np.min(nmco_all_finite,axis=0,keepdims=True))/(np.max(nmco_all_finite,axis=0,keepdims=True)-np.min(nmco_all_finite,axis=0,keepdims=True)))\n"
     ]
    },
    {
     "name": "stdout",
     "output_type": "stream",
     "text": [
      "0\n",
      "1\n",
      "2\n",
      "3\n",
      "4\n",
      "5\n",
      "6\n",
      "7\n",
      "8\n",
      "9\n"
     ]
    },
    {
     "name": "stderr",
     "output_type": "stream",
     "text": [
      "/tmp/ipykernel_1644638/3527635232.py:369: RuntimeWarning: invalid value encountered in divide\n",
      "  nmco_ad_heldout=ad.AnnData((nmco_val_allProt_np_finite-np.min(nmco_val_allProt_np_finite,axis=0,keepdims=True))/(np.max(nmco_val_allProt_np_finite,axis=0,keepdims=True)-np.min(nmco_val_allProt_np_finite,axis=0,keepdims=True)))\n"
     ]
    },
    {
     "name": "stdout",
     "output_type": "stream",
     "text": [
      "0\n",
      "1\n",
      "2\n",
      "3\n",
      "4\n",
      "5\n",
      "6\n",
      "7\n",
      "8\n",
      "9\n",
      "dict_keys(['cd16', 'cd3'])\n",
      "cd4\n",
      "tensor([2])\n"
     ]
    },
    {
     "name": "stderr",
     "output_type": "stream",
     "text": [
      "/tmp/ipykernel_1644638/3527635232.py:244: RuntimeWarning: invalid value encountered in divide\n",
      "  nmco_ad=ad.AnnData((nmco_all_finite-np.min(nmco_all_finite,axis=0,keepdims=True))/(np.max(nmco_all_finite,axis=0,keepdims=True)-np.min(nmco_all_finite,axis=0,keepdims=True)))\n"
     ]
    },
    {
     "name": "stdout",
     "output_type": "stream",
     "text": [
      "0\n",
      "1\n",
      "2\n",
      "3\n",
      "4\n",
      "5\n",
      "6\n",
      "7\n",
      "8\n",
      "9\n"
     ]
    },
    {
     "name": "stderr",
     "output_type": "stream",
     "text": [
      "/tmp/ipykernel_1644638/3527635232.py:369: RuntimeWarning: invalid value encountered in divide\n",
      "  nmco_ad_heldout=ad.AnnData((nmco_val_allProt_np_finite-np.min(nmco_val_allProt_np_finite,axis=0,keepdims=True))/(np.max(nmco_val_allProt_np_finite,axis=0,keepdims=True)-np.min(nmco_val_allProt_np_finite,axis=0,keepdims=True)))\n"
     ]
    },
    {
     "name": "stdout",
     "output_type": "stream",
     "text": [
      "0\n",
      "1\n",
      "2\n",
      "3\n",
      "4\n",
      "5\n",
      "6\n",
      "7\n",
      "8\n",
      "9\n",
      "dict_keys(['cd16', 'cd3', 'cd4'])\n",
      "cd8\n",
      "tensor([3])\n"
     ]
    },
    {
     "name": "stderr",
     "output_type": "stream",
     "text": [
      "/tmp/ipykernel_1644638/3527635232.py:244: RuntimeWarning: invalid value encountered in divide\n",
      "  nmco_ad=ad.AnnData((nmco_all_finite-np.min(nmco_all_finite,axis=0,keepdims=True))/(np.max(nmco_all_finite,axis=0,keepdims=True)-np.min(nmco_all_finite,axis=0,keepdims=True)))\n"
     ]
    },
    {
     "name": "stdout",
     "output_type": "stream",
     "text": [
      "0\n",
      "1\n",
      "2\n",
      "3\n",
      "4\n",
      "5\n",
      "6\n",
      "7\n",
      "8\n",
      "9\n"
     ]
    },
    {
     "name": "stderr",
     "output_type": "stream",
     "text": [
      "/tmp/ipykernel_1644638/3527635232.py:369: RuntimeWarning: invalid value encountered in divide\n",
      "  nmco_ad_heldout=ad.AnnData((nmco_val_allProt_np_finite-np.min(nmco_val_allProt_np_finite,axis=0,keepdims=True))/(np.max(nmco_val_allProt_np_finite,axis=0,keepdims=True)-np.min(nmco_val_allProt_np_finite,axis=0,keepdims=True)))\n"
     ]
    },
    {
     "name": "stdout",
     "output_type": "stream",
     "text": [
      "0\n",
      "1\n",
      "2\n",
      "3\n",
      "4\n",
      "5\n",
      "6\n",
      "7\n",
      "8\n",
      "9\n",
      "dict_keys(['cd16', 'cd3', 'cd4', 'cd8'])\n",
      "gh2ax\n",
      "tensor([4])\n",
      "0\n",
      "1\n",
      "2\n",
      "3\n",
      "4\n",
      "5\n",
      "6\n",
      "7\n",
      "8\n",
      "9\n",
      "0\n",
      "1\n",
      "2\n",
      "3\n",
      "4\n",
      "5\n",
      "6\n",
      "7\n",
      "8\n",
      "9\n",
      "dict_keys(['cd16', 'cd3', 'cd4', 'cd8', 'gh2ax'])\n",
      "lamin\n",
      "tensor([5])\n"
     ]
    },
    {
     "name": "stderr",
     "output_type": "stream",
     "text": [
      "/tmp/ipykernel_1644638/3527635232.py:244: RuntimeWarning: invalid value encountered in divide\n",
      "  nmco_ad=ad.AnnData((nmco_all_finite-np.min(nmco_all_finite,axis=0,keepdims=True))/(np.max(nmco_all_finite,axis=0,keepdims=True)-np.min(nmco_all_finite,axis=0,keepdims=True)))\n"
     ]
    },
    {
     "name": "stdout",
     "output_type": "stream",
     "text": [
      "0\n",
      "1\n",
      "2\n",
      "3\n",
      "4\n",
      "5\n",
      "6\n",
      "7\n",
      "8\n",
      "9\n"
     ]
    },
    {
     "name": "stderr",
     "output_type": "stream",
     "text": [
      "/tmp/ipykernel_1644638/3527635232.py:369: RuntimeWarning: invalid value encountered in divide\n",
      "  nmco_ad_heldout=ad.AnnData((nmco_val_allProt_np_finite-np.min(nmco_val_allProt_np_finite,axis=0,keepdims=True))/(np.max(nmco_val_allProt_np_finite,axis=0,keepdims=True)-np.min(nmco_val_allProt_np_finite,axis=0,keepdims=True)))\n"
     ]
    },
    {
     "name": "stdout",
     "output_type": "stream",
     "text": [
      "0\n",
      "1\n",
      "2\n",
      "3\n",
      "4\n",
      "5\n",
      "6\n",
      "7\n",
      "8\n",
      "9\n",
      "dict_keys(['cd16', 'cd3', 'cd4', 'cd8', 'gh2ax', 'lamin'])\n",
      "2\n",
      "hold out: HV2\n",
      "hold out: HV8\n",
      "hold out: HV8\n",
      "hold out: HV2\n",
      "hold out: P72\n",
      "hold out: P63\n",
      "hold out: P72\n",
      "hold out: P63\n",
      "hold out: P70\n",
      "hold out: P83\n",
      "hold out: P83\n",
      "hold out: P70\n",
      "hold out: P47\n",
      "hold out: P57\n",
      "hold out: P47\n",
      "hold out: P57\n",
      "cd16\n",
      "tensor([0])\n",
      "0\n",
      "1\n",
      "2\n",
      "3\n",
      "4\n",
      "5\n",
      "6\n",
      "7\n",
      "8\n",
      "9\n",
      "0\n",
      "1\n",
      "2\n",
      "3\n",
      "4\n",
      "5\n",
      "6\n",
      "7\n",
      "8\n",
      "9\n",
      "dict_keys(['cd16'])\n",
      "cd3\n",
      "tensor([1])\n"
     ]
    },
    {
     "name": "stderr",
     "output_type": "stream",
     "text": [
      "/tmp/ipykernel_1644638/3527635232.py:244: RuntimeWarning: invalid value encountered in divide\n",
      "  nmco_ad=ad.AnnData((nmco_all_finite-np.min(nmco_all_finite,axis=0,keepdims=True))/(np.max(nmco_all_finite,axis=0,keepdims=True)-np.min(nmco_all_finite,axis=0,keepdims=True)))\n"
     ]
    },
    {
     "name": "stdout",
     "output_type": "stream",
     "text": [
      "0\n",
      "1\n",
      "2\n",
      "3\n",
      "4\n",
      "5\n",
      "6\n",
      "7\n",
      "8\n",
      "9\n"
     ]
    },
    {
     "name": "stderr",
     "output_type": "stream",
     "text": [
      "/tmp/ipykernel_1644638/3527635232.py:369: RuntimeWarning: invalid value encountered in divide\n",
      "  nmco_ad_heldout=ad.AnnData((nmco_val_allProt_np_finite-np.min(nmco_val_allProt_np_finite,axis=0,keepdims=True))/(np.max(nmco_val_allProt_np_finite,axis=0,keepdims=True)-np.min(nmco_val_allProt_np_finite,axis=0,keepdims=True)))\n"
     ]
    },
    {
     "name": "stdout",
     "output_type": "stream",
     "text": [
      "0\n",
      "1\n",
      "2\n",
      "3\n",
      "4\n",
      "5\n",
      "6\n",
      "7\n",
      "8\n",
      "9\n",
      "dict_keys(['cd16', 'cd3'])\n",
      "cd4\n",
      "tensor([2])\n"
     ]
    },
    {
     "name": "stderr",
     "output_type": "stream",
     "text": [
      "/tmp/ipykernel_1644638/3527635232.py:244: RuntimeWarning: invalid value encountered in divide\n",
      "  nmco_ad=ad.AnnData((nmco_all_finite-np.min(nmco_all_finite,axis=0,keepdims=True))/(np.max(nmco_all_finite,axis=0,keepdims=True)-np.min(nmco_all_finite,axis=0,keepdims=True)))\n"
     ]
    },
    {
     "name": "stdout",
     "output_type": "stream",
     "text": [
      "0\n",
      "1\n",
      "2\n",
      "3\n",
      "4\n",
      "5\n",
      "6\n",
      "7\n",
      "8\n",
      "9\n"
     ]
    },
    {
     "name": "stderr",
     "output_type": "stream",
     "text": [
      "/tmp/ipykernel_1644638/3527635232.py:369: RuntimeWarning: invalid value encountered in divide\n",
      "  nmco_ad_heldout=ad.AnnData((nmco_val_allProt_np_finite-np.min(nmco_val_allProt_np_finite,axis=0,keepdims=True))/(np.max(nmco_val_allProt_np_finite,axis=0,keepdims=True)-np.min(nmco_val_allProt_np_finite,axis=0,keepdims=True)))\n"
     ]
    },
    {
     "name": "stdout",
     "output_type": "stream",
     "text": [
      "0\n",
      "1\n",
      "2\n",
      "3\n",
      "4\n",
      "5\n",
      "6\n",
      "7\n",
      "8\n",
      "9\n",
      "dict_keys(['cd16', 'cd3', 'cd4'])\n",
      "cd8\n",
      "tensor([3])\n"
     ]
    },
    {
     "name": "stderr",
     "output_type": "stream",
     "text": [
      "/tmp/ipykernel_1644638/3527635232.py:244: RuntimeWarning: invalid value encountered in divide\n",
      "  nmco_ad=ad.AnnData((nmco_all_finite-np.min(nmco_all_finite,axis=0,keepdims=True))/(np.max(nmco_all_finite,axis=0,keepdims=True)-np.min(nmco_all_finite,axis=0,keepdims=True)))\n"
     ]
    },
    {
     "name": "stdout",
     "output_type": "stream",
     "text": [
      "0\n",
      "1\n",
      "2\n",
      "3\n",
      "4\n",
      "5\n",
      "6\n",
      "7\n",
      "8\n",
      "9\n"
     ]
    },
    {
     "name": "stderr",
     "output_type": "stream",
     "text": [
      "/tmp/ipykernel_1644638/3527635232.py:369: RuntimeWarning: invalid value encountered in divide\n",
      "  nmco_ad_heldout=ad.AnnData((nmco_val_allProt_np_finite-np.min(nmco_val_allProt_np_finite,axis=0,keepdims=True))/(np.max(nmco_val_allProt_np_finite,axis=0,keepdims=True)-np.min(nmco_val_allProt_np_finite,axis=0,keepdims=True)))\n"
     ]
    },
    {
     "name": "stdout",
     "output_type": "stream",
     "text": [
      "0\n",
      "1\n",
      "2\n",
      "3\n",
      "4\n",
      "5\n",
      "6\n",
      "7\n",
      "8\n",
      "9\n",
      "dict_keys(['cd16', 'cd3', 'cd4', 'cd8'])\n",
      "gh2ax\n",
      "tensor([4])\n",
      "0\n",
      "1\n",
      "2\n",
      "3\n",
      "4\n",
      "5\n",
      "6\n",
      "7\n",
      "8\n",
      "9\n",
      "0\n",
      "1\n",
      "2\n",
      "3\n",
      "4\n",
      "5\n",
      "6\n",
      "7\n",
      "8\n",
      "9\n",
      "dict_keys(['cd16', 'cd3', 'cd4', 'cd8', 'gh2ax'])\n",
      "lamin\n",
      "tensor([5])\n"
     ]
    },
    {
     "name": "stderr",
     "output_type": "stream",
     "text": [
      "/tmp/ipykernel_1644638/3527635232.py:244: RuntimeWarning: invalid value encountered in divide\n",
      "  nmco_ad=ad.AnnData((nmco_all_finite-np.min(nmco_all_finite,axis=0,keepdims=True))/(np.max(nmco_all_finite,axis=0,keepdims=True)-np.min(nmco_all_finite,axis=0,keepdims=True)))\n"
     ]
    },
    {
     "name": "stdout",
     "output_type": "stream",
     "text": [
      "0\n",
      "1\n",
      "2\n",
      "3\n",
      "4\n",
      "5\n",
      "6\n",
      "7\n",
      "8\n",
      "9\n"
     ]
    },
    {
     "name": "stderr",
     "output_type": "stream",
     "text": [
      "/tmp/ipykernel_1644638/3527635232.py:369: RuntimeWarning: invalid value encountered in divide\n",
      "  nmco_ad_heldout=ad.AnnData((nmco_val_allProt_np_finite-np.min(nmco_val_allProt_np_finite,axis=0,keepdims=True))/(np.max(nmco_val_allProt_np_finite,axis=0,keepdims=True)-np.min(nmco_val_allProt_np_finite,axis=0,keepdims=True)))\n"
     ]
    },
    {
     "name": "stdout",
     "output_type": "stream",
     "text": [
      "0\n",
      "1\n",
      "2\n",
      "3\n",
      "4\n",
      "5\n",
      "6\n",
      "7\n",
      "8\n",
      "9\n",
      "dict_keys(['cd16', 'cd3', 'cd4', 'cd8', 'gh2ax', 'lamin'])\n",
      "3\n",
      "hold out: HV4\n",
      "hold out: HV6\n",
      "hold out: HV6\n",
      "hold out: HV4\n",
      "hold out: P41\n",
      "hold out: P18\n",
      "hold out: P18\n",
      "hold out: P41\n",
      "hold out: P38\n",
      "hold out: P62\n",
      "hold out: P62\n",
      "hold out: P38\n",
      "hold out: P16\n",
      "hold out: P52\n",
      "hold out: P52\n",
      "hold out: P16\n",
      "cd16\n",
      "tensor([0])\n",
      "0\n",
      "1\n",
      "2\n",
      "3\n",
      "4\n",
      "5\n",
      "6\n",
      "7\n",
      "8\n",
      "9\n",
      "0\n",
      "1\n",
      "2\n",
      "3\n",
      "4\n",
      "5\n",
      "6\n",
      "7\n",
      "8\n",
      "9\n",
      "dict_keys(['cd16'])\n",
      "cd3\n",
      "tensor([1])\n"
     ]
    },
    {
     "name": "stderr",
     "output_type": "stream",
     "text": [
      "/tmp/ipykernel_1644638/3527635232.py:244: RuntimeWarning: invalid value encountered in divide\n",
      "  nmco_ad=ad.AnnData((nmco_all_finite-np.min(nmco_all_finite,axis=0,keepdims=True))/(np.max(nmco_all_finite,axis=0,keepdims=True)-np.min(nmco_all_finite,axis=0,keepdims=True)))\n"
     ]
    },
    {
     "name": "stdout",
     "output_type": "stream",
     "text": [
      "0\n",
      "1\n",
      "2\n",
      "3\n",
      "4\n",
      "5\n",
      "6\n",
      "7\n",
      "8\n",
      "9\n"
     ]
    },
    {
     "name": "stderr",
     "output_type": "stream",
     "text": [
      "/tmp/ipykernel_1644638/3527635232.py:369: RuntimeWarning: invalid value encountered in divide\n",
      "  nmco_ad_heldout=ad.AnnData((nmco_val_allProt_np_finite-np.min(nmco_val_allProt_np_finite,axis=0,keepdims=True))/(np.max(nmco_val_allProt_np_finite,axis=0,keepdims=True)-np.min(nmco_val_allProt_np_finite,axis=0,keepdims=True)))\n"
     ]
    },
    {
     "name": "stdout",
     "output_type": "stream",
     "text": [
      "0\n",
      "1\n",
      "2\n",
      "3\n",
      "4\n",
      "5\n",
      "6\n",
      "7\n",
      "8\n",
      "9\n",
      "dict_keys(['cd16', 'cd3'])\n",
      "cd4\n",
      "tensor([2])\n"
     ]
    },
    {
     "name": "stderr",
     "output_type": "stream",
     "text": [
      "/tmp/ipykernel_1644638/3527635232.py:244: RuntimeWarning: invalid value encountered in divide\n",
      "  nmco_ad=ad.AnnData((nmco_all_finite-np.min(nmco_all_finite,axis=0,keepdims=True))/(np.max(nmco_all_finite,axis=0,keepdims=True)-np.min(nmco_all_finite,axis=0,keepdims=True)))\n"
     ]
    },
    {
     "name": "stdout",
     "output_type": "stream",
     "text": [
      "0\n",
      "1\n",
      "2\n",
      "3\n",
      "4\n",
      "5\n",
      "6\n",
      "7\n",
      "8\n",
      "9\n"
     ]
    },
    {
     "name": "stderr",
     "output_type": "stream",
     "text": [
      "/tmp/ipykernel_1644638/3527635232.py:369: RuntimeWarning: invalid value encountered in divide\n",
      "  nmco_ad_heldout=ad.AnnData((nmco_val_allProt_np_finite-np.min(nmco_val_allProt_np_finite,axis=0,keepdims=True))/(np.max(nmco_val_allProt_np_finite,axis=0,keepdims=True)-np.min(nmco_val_allProt_np_finite,axis=0,keepdims=True)))\n"
     ]
    },
    {
     "name": "stdout",
     "output_type": "stream",
     "text": [
      "0\n",
      "1\n",
      "2\n",
      "3\n",
      "4\n",
      "5\n",
      "6\n",
      "7\n",
      "8\n",
      "9\n",
      "dict_keys(['cd16', 'cd3', 'cd4'])\n",
      "cd8\n",
      "tensor([3])\n"
     ]
    },
    {
     "name": "stderr",
     "output_type": "stream",
     "text": [
      "/tmp/ipykernel_1644638/3527635232.py:244: RuntimeWarning: invalid value encountered in divide\n",
      "  nmco_ad=ad.AnnData((nmco_all_finite-np.min(nmco_all_finite,axis=0,keepdims=True))/(np.max(nmco_all_finite,axis=0,keepdims=True)-np.min(nmco_all_finite,axis=0,keepdims=True)))\n"
     ]
    },
    {
     "name": "stdout",
     "output_type": "stream",
     "text": [
      "0\n",
      "1\n",
      "2\n",
      "3\n",
      "4\n",
      "5\n",
      "6\n",
      "7\n",
      "8\n",
      "9\n"
     ]
    },
    {
     "name": "stderr",
     "output_type": "stream",
     "text": [
      "/tmp/ipykernel_1644638/3527635232.py:369: RuntimeWarning: invalid value encountered in divide\n",
      "  nmco_ad_heldout=ad.AnnData((nmco_val_allProt_np_finite-np.min(nmco_val_allProt_np_finite,axis=0,keepdims=True))/(np.max(nmco_val_allProt_np_finite,axis=0,keepdims=True)-np.min(nmco_val_allProt_np_finite,axis=0,keepdims=True)))\n"
     ]
    },
    {
     "name": "stdout",
     "output_type": "stream",
     "text": [
      "0\n",
      "1\n",
      "2\n",
      "3\n",
      "4\n",
      "5\n",
      "6\n",
      "7\n",
      "8\n",
      "9\n",
      "dict_keys(['cd16', 'cd3', 'cd4', 'cd8'])\n",
      "gh2ax\n",
      "tensor([4])\n",
      "0\n",
      "1\n",
      "2\n",
      "3\n",
      "4\n",
      "5\n",
      "6\n",
      "7\n",
      "8\n",
      "9\n",
      "0\n",
      "1\n",
      "2\n",
      "3\n",
      "4\n",
      "5\n",
      "6\n",
      "7\n",
      "8\n",
      "9\n",
      "dict_keys(['cd16', 'cd3', 'cd4', 'cd8', 'gh2ax'])\n",
      "lamin\n",
      "tensor([5])\n"
     ]
    },
    {
     "name": "stderr",
     "output_type": "stream",
     "text": [
      "/tmp/ipykernel_1644638/3527635232.py:244: RuntimeWarning: invalid value encountered in divide\n",
      "  nmco_ad=ad.AnnData((nmco_all_finite-np.min(nmco_all_finite,axis=0,keepdims=True))/(np.max(nmco_all_finite,axis=0,keepdims=True)-np.min(nmco_all_finite,axis=0,keepdims=True)))\n"
     ]
    },
    {
     "name": "stdout",
     "output_type": "stream",
     "text": [
      "0\n",
      "1\n",
      "2\n",
      "3\n",
      "4\n",
      "5\n",
      "6\n",
      "7\n",
      "8\n",
      "9\n"
     ]
    },
    {
     "name": "stderr",
     "output_type": "stream",
     "text": [
      "/tmp/ipykernel_1644638/3527635232.py:369: RuntimeWarning: invalid value encountered in divide\n",
      "  nmco_ad_heldout=ad.AnnData((nmco_val_allProt_np_finite-np.min(nmco_val_allProt_np_finite,axis=0,keepdims=True))/(np.max(nmco_val_allProt_np_finite,axis=0,keepdims=True)-np.min(nmco_val_allProt_np_finite,axis=0,keepdims=True)))\n"
     ]
    },
    {
     "name": "stdout",
     "output_type": "stream",
     "text": [
      "0\n",
      "1\n",
      "2\n",
      "3\n",
      "4\n",
      "5\n",
      "6\n",
      "7\n",
      "8\n",
      "9\n",
      "dict_keys(['cd16', 'cd3', 'cd4', 'cd8', 'gh2ax', 'lamin'])\n",
      "4\n",
      "hold out: HV2\n",
      "hold out: HV1\n",
      "hold out: HV1\n",
      "hold out: HV2\n",
      "hold out: P56\n",
      "hold out: P50\n",
      "hold out: P56\n",
      "hold out: P50\n",
      "hold out: P27\n",
      "hold out: P48\n",
      "hold out: P48\n",
      "hold out: P27\n",
      "hold out: P22\n",
      "hold out: P84\n",
      "hold out: P22\n",
      "hold out: P84\n",
      "cd16\n",
      "tensor([0])\n",
      "0\n",
      "1\n",
      "2\n",
      "3\n",
      "4\n",
      "5\n",
      "6\n",
      "7\n",
      "8\n",
      "9\n",
      "0\n",
      "1\n",
      "2\n",
      "3\n",
      "4\n",
      "5\n",
      "6\n",
      "7\n",
      "8\n",
      "9\n",
      "dict_keys(['cd16'])\n",
      "cd3\n",
      "tensor([1])\n"
     ]
    },
    {
     "name": "stderr",
     "output_type": "stream",
     "text": [
      "/tmp/ipykernel_1644638/3527635232.py:244: RuntimeWarning: invalid value encountered in divide\n",
      "  nmco_ad=ad.AnnData((nmco_all_finite-np.min(nmco_all_finite,axis=0,keepdims=True))/(np.max(nmco_all_finite,axis=0,keepdims=True)-np.min(nmco_all_finite,axis=0,keepdims=True)))\n"
     ]
    },
    {
     "name": "stdout",
     "output_type": "stream",
     "text": [
      "0\n",
      "1\n",
      "2\n",
      "3\n",
      "4\n",
      "5\n",
      "6\n",
      "7\n",
      "8\n",
      "9\n"
     ]
    },
    {
     "name": "stderr",
     "output_type": "stream",
     "text": [
      "/tmp/ipykernel_1644638/3527635232.py:369: RuntimeWarning: invalid value encountered in divide\n",
      "  nmco_ad_heldout=ad.AnnData((nmco_val_allProt_np_finite-np.min(nmco_val_allProt_np_finite,axis=0,keepdims=True))/(np.max(nmco_val_allProt_np_finite,axis=0,keepdims=True)-np.min(nmco_val_allProt_np_finite,axis=0,keepdims=True)))\n"
     ]
    },
    {
     "name": "stdout",
     "output_type": "stream",
     "text": [
      "0\n",
      "1\n",
      "2\n",
      "3\n",
      "4\n",
      "5\n",
      "6\n",
      "7\n",
      "8\n",
      "9\n",
      "dict_keys(['cd16', 'cd3'])\n",
      "cd4\n",
      "tensor([2])\n"
     ]
    },
    {
     "name": "stderr",
     "output_type": "stream",
     "text": [
      "/tmp/ipykernel_1644638/3527635232.py:244: RuntimeWarning: invalid value encountered in divide\n",
      "  nmco_ad=ad.AnnData((nmco_all_finite-np.min(nmco_all_finite,axis=0,keepdims=True))/(np.max(nmco_all_finite,axis=0,keepdims=True)-np.min(nmco_all_finite,axis=0,keepdims=True)))\n"
     ]
    },
    {
     "name": "stdout",
     "output_type": "stream",
     "text": [
      "0\n",
      "1\n",
      "2\n",
      "3\n",
      "4\n",
      "5\n",
      "6\n",
      "7\n",
      "8\n",
      "9\n"
     ]
    },
    {
     "name": "stderr",
     "output_type": "stream",
     "text": [
      "/tmp/ipykernel_1644638/3527635232.py:369: RuntimeWarning: invalid value encountered in divide\n",
      "  nmco_ad_heldout=ad.AnnData((nmco_val_allProt_np_finite-np.min(nmco_val_allProt_np_finite,axis=0,keepdims=True))/(np.max(nmco_val_allProt_np_finite,axis=0,keepdims=True)-np.min(nmco_val_allProt_np_finite,axis=0,keepdims=True)))\n"
     ]
    },
    {
     "name": "stdout",
     "output_type": "stream",
     "text": [
      "0\n",
      "1\n",
      "2\n",
      "3\n",
      "4\n",
      "5\n",
      "6\n",
      "7\n",
      "8\n",
      "9\n",
      "dict_keys(['cd16', 'cd3', 'cd4'])\n",
      "cd8\n",
      "tensor([3])\n"
     ]
    },
    {
     "name": "stderr",
     "output_type": "stream",
     "text": [
      "/tmp/ipykernel_1644638/3527635232.py:244: RuntimeWarning: invalid value encountered in divide\n",
      "  nmco_ad=ad.AnnData((nmco_all_finite-np.min(nmco_all_finite,axis=0,keepdims=True))/(np.max(nmco_all_finite,axis=0,keepdims=True)-np.min(nmco_all_finite,axis=0,keepdims=True)))\n"
     ]
    },
    {
     "name": "stdout",
     "output_type": "stream",
     "text": [
      "0\n",
      "1\n",
      "2\n",
      "3\n",
      "4\n",
      "5\n",
      "6\n",
      "7\n",
      "8\n",
      "9\n"
     ]
    },
    {
     "name": "stderr",
     "output_type": "stream",
     "text": [
      "/tmp/ipykernel_1644638/3527635232.py:369: RuntimeWarning: invalid value encountered in divide\n",
      "  nmco_ad_heldout=ad.AnnData((nmco_val_allProt_np_finite-np.min(nmco_val_allProt_np_finite,axis=0,keepdims=True))/(np.max(nmco_val_allProt_np_finite,axis=0,keepdims=True)-np.min(nmco_val_allProt_np_finite,axis=0,keepdims=True)))\n"
     ]
    },
    {
     "name": "stdout",
     "output_type": "stream",
     "text": [
      "0\n",
      "1\n",
      "2\n",
      "3\n",
      "4\n",
      "5\n",
      "6\n",
      "7\n",
      "8\n",
      "9\n",
      "dict_keys(['cd16', 'cd3', 'cd4', 'cd8'])\n",
      "gh2ax\n",
      "tensor([4])\n",
      "0\n",
      "1\n",
      "2\n",
      "3\n",
      "4\n",
      "5\n",
      "6\n",
      "7\n",
      "8\n",
      "9\n",
      "0\n",
      "1\n",
      "2\n",
      "3\n",
      "4\n",
      "5\n",
      "6\n",
      "7\n",
      "8\n",
      "9\n",
      "dict_keys(['cd16', 'cd3', 'cd4', 'cd8', 'gh2ax'])\n",
      "lamin\n",
      "tensor([5])\n"
     ]
    },
    {
     "name": "stderr",
     "output_type": "stream",
     "text": [
      "/tmp/ipykernel_1644638/3527635232.py:244: RuntimeWarning: invalid value encountered in divide\n",
      "  nmco_ad=ad.AnnData((nmco_all_finite-np.min(nmco_all_finite,axis=0,keepdims=True))/(np.max(nmco_all_finite,axis=0,keepdims=True)-np.min(nmco_all_finite,axis=0,keepdims=True)))\n"
     ]
    },
    {
     "name": "stdout",
     "output_type": "stream",
     "text": [
      "0\n",
      "1\n",
      "2\n",
      "3\n",
      "4\n",
      "5\n",
      "6\n",
      "7\n",
      "8\n",
      "9\n"
     ]
    },
    {
     "name": "stderr",
     "output_type": "stream",
     "text": [
      "/tmp/ipykernel_1644638/3527635232.py:369: RuntimeWarning: invalid value encountered in divide\n",
      "  nmco_ad_heldout=ad.AnnData((nmco_val_allProt_np_finite-np.min(nmco_val_allProt_np_finite,axis=0,keepdims=True))/(np.max(nmco_val_allProt_np_finite,axis=0,keepdims=True)-np.min(nmco_val_allProt_np_finite,axis=0,keepdims=True)))\n"
     ]
    },
    {
     "name": "stdout",
     "output_type": "stream",
     "text": [
      "0\n",
      "1\n",
      "2\n",
      "3\n",
      "4\n",
      "5\n",
      "6\n",
      "7\n",
      "8\n",
      "9\n",
      "dict_keys(['cd16', 'cd3', 'cd4', 'cd8', 'gh2ax', 'lamin'])\n",
      "5\n",
      "hold out: HV4\n",
      "hold out: HV3\n",
      "hold out: HV4\n",
      "hold out: HV3\n",
      "hold out: P14\n",
      "hold out: P44\n",
      "hold out: P14\n",
      "hold out: P44\n",
      "hold out: P42\n",
      "hold out: P37\n",
      "hold out: P42\n",
      "hold out: P37\n",
      "hold out: P46\n",
      "hold out: P68\n",
      "hold out: P46\n",
      "hold out: P68\n",
      "cd16\n",
      "tensor([0])\n",
      "0\n",
      "1\n",
      "2\n",
      "3\n",
      "4\n",
      "5\n",
      "6\n",
      "7\n",
      "8\n",
      "9\n",
      "0\n",
      "1\n",
      "2\n",
      "3\n",
      "4\n",
      "5\n",
      "6\n",
      "7\n",
      "8\n",
      "9\n",
      "dict_keys(['cd16'])\n",
      "cd3\n",
      "tensor([1])\n"
     ]
    },
    {
     "name": "stderr",
     "output_type": "stream",
     "text": [
      "/tmp/ipykernel_1644638/3527635232.py:244: RuntimeWarning: invalid value encountered in divide\n",
      "  nmco_ad=ad.AnnData((nmco_all_finite-np.min(nmco_all_finite,axis=0,keepdims=True))/(np.max(nmco_all_finite,axis=0,keepdims=True)-np.min(nmco_all_finite,axis=0,keepdims=True)))\n"
     ]
    },
    {
     "name": "stdout",
     "output_type": "stream",
     "text": [
      "0\n",
      "1\n",
      "2\n",
      "3\n",
      "4\n",
      "5\n",
      "6\n",
      "7\n",
      "8\n",
      "9\n"
     ]
    },
    {
     "name": "stderr",
     "output_type": "stream",
     "text": [
      "/tmp/ipykernel_1644638/3527635232.py:369: RuntimeWarning: invalid value encountered in divide\n",
      "  nmco_ad_heldout=ad.AnnData((nmco_val_allProt_np_finite-np.min(nmco_val_allProt_np_finite,axis=0,keepdims=True))/(np.max(nmco_val_allProt_np_finite,axis=0,keepdims=True)-np.min(nmco_val_allProt_np_finite,axis=0,keepdims=True)))\n"
     ]
    },
    {
     "name": "stdout",
     "output_type": "stream",
     "text": [
      "0\n",
      "1\n",
      "2\n",
      "3\n",
      "4\n",
      "5\n",
      "6\n",
      "7\n",
      "8\n",
      "9\n",
      "dict_keys(['cd16', 'cd3'])\n",
      "cd4\n",
      "tensor([2])\n"
     ]
    },
    {
     "name": "stderr",
     "output_type": "stream",
     "text": [
      "/tmp/ipykernel_1644638/3527635232.py:244: RuntimeWarning: invalid value encountered in divide\n",
      "  nmco_ad=ad.AnnData((nmco_all_finite-np.min(nmco_all_finite,axis=0,keepdims=True))/(np.max(nmco_all_finite,axis=0,keepdims=True)-np.min(nmco_all_finite,axis=0,keepdims=True)))\n"
     ]
    },
    {
     "name": "stdout",
     "output_type": "stream",
     "text": [
      "0\n",
      "1\n",
      "2\n",
      "3\n",
      "4\n",
      "5\n",
      "6\n",
      "7\n",
      "8\n",
      "9\n"
     ]
    },
    {
     "name": "stderr",
     "output_type": "stream",
     "text": [
      "/tmp/ipykernel_1644638/3527635232.py:369: RuntimeWarning: invalid value encountered in divide\n",
      "  nmco_ad_heldout=ad.AnnData((nmco_val_allProt_np_finite-np.min(nmco_val_allProt_np_finite,axis=0,keepdims=True))/(np.max(nmco_val_allProt_np_finite,axis=0,keepdims=True)-np.min(nmco_val_allProt_np_finite,axis=0,keepdims=True)))\n"
     ]
    },
    {
     "name": "stdout",
     "output_type": "stream",
     "text": [
      "0\n",
      "1\n",
      "2\n",
      "3\n",
      "4\n",
      "5\n",
      "6\n",
      "7\n",
      "8\n",
      "9\n",
      "dict_keys(['cd16', 'cd3', 'cd4'])\n",
      "cd8\n",
      "tensor([3])\n"
     ]
    },
    {
     "name": "stderr",
     "output_type": "stream",
     "text": [
      "/tmp/ipykernel_1644638/3527635232.py:244: RuntimeWarning: invalid value encountered in divide\n",
      "  nmco_ad=ad.AnnData((nmco_all_finite-np.min(nmco_all_finite,axis=0,keepdims=True))/(np.max(nmco_all_finite,axis=0,keepdims=True)-np.min(nmco_all_finite,axis=0,keepdims=True)))\n"
     ]
    },
    {
     "name": "stdout",
     "output_type": "stream",
     "text": [
      "0\n",
      "1\n",
      "2\n",
      "3\n",
      "4\n",
      "5\n",
      "6\n",
      "7\n",
      "8\n",
      "9\n"
     ]
    },
    {
     "name": "stderr",
     "output_type": "stream",
     "text": [
      "/tmp/ipykernel_1644638/3527635232.py:369: RuntimeWarning: invalid value encountered in divide\n",
      "  nmco_ad_heldout=ad.AnnData((nmco_val_allProt_np_finite-np.min(nmco_val_allProt_np_finite,axis=0,keepdims=True))/(np.max(nmco_val_allProt_np_finite,axis=0,keepdims=True)-np.min(nmco_val_allProt_np_finite,axis=0,keepdims=True)))\n"
     ]
    },
    {
     "name": "stdout",
     "output_type": "stream",
     "text": [
      "0\n",
      "1\n",
      "2\n",
      "3\n",
      "4\n",
      "5\n",
      "6\n",
      "7\n",
      "8\n",
      "9\n",
      "dict_keys(['cd16', 'cd3', 'cd4', 'cd8'])\n",
      "gh2ax\n",
      "tensor([4])\n",
      "0\n",
      "1\n",
      "2\n",
      "3\n",
      "4\n",
      "5\n",
      "6\n",
      "7\n",
      "8\n",
      "9\n",
      "0\n",
      "1\n",
      "2\n",
      "3\n",
      "4\n",
      "5\n",
      "6\n",
      "7\n",
      "8\n",
      "9\n",
      "dict_keys(['cd16', 'cd3', 'cd4', 'cd8', 'gh2ax'])\n",
      "lamin\n",
      "tensor([5])\n"
     ]
    },
    {
     "name": "stderr",
     "output_type": "stream",
     "text": [
      "/tmp/ipykernel_1644638/3527635232.py:244: RuntimeWarning: invalid value encountered in divide\n",
      "  nmco_ad=ad.AnnData((nmco_all_finite-np.min(nmco_all_finite,axis=0,keepdims=True))/(np.max(nmco_all_finite,axis=0,keepdims=True)-np.min(nmco_all_finite,axis=0,keepdims=True)))\n"
     ]
    },
    {
     "name": "stdout",
     "output_type": "stream",
     "text": [
      "0\n",
      "1\n",
      "2\n",
      "3\n",
      "4\n",
      "5\n",
      "6\n",
      "7\n",
      "8\n",
      "9\n"
     ]
    },
    {
     "name": "stderr",
     "output_type": "stream",
     "text": [
      "/tmp/ipykernel_1644638/3527635232.py:369: RuntimeWarning: invalid value encountered in divide\n",
      "  nmco_ad_heldout=ad.AnnData((nmco_val_allProt_np_finite-np.min(nmco_val_allProt_np_finite,axis=0,keepdims=True))/(np.max(nmco_val_allProt_np_finite,axis=0,keepdims=True)-np.min(nmco_val_allProt_np_finite,axis=0,keepdims=True)))\n"
     ]
    },
    {
     "name": "stdout",
     "output_type": "stream",
     "text": [
      "0\n",
      "1\n",
      "2\n",
      "3\n",
      "4\n",
      "5\n",
      "6\n",
      "7\n",
      "8\n",
      "9\n",
      "dict_keys(['cd16', 'cd3', 'cd4', 'cd8', 'gh2ax', 'lamin'])\n",
      "6\n",
      "hold out: HV5\n",
      "hold out: HV6\n",
      "hold out: HV6\n",
      "hold out: HV5\n",
      "hold out: P55\n",
      "hold out: P24\n",
      "hold out: P55\n",
      "hold out: P24\n",
      "hold out: P70\n",
      "hold out: P59\n",
      "hold out: P70\n",
      "hold out: P59\n",
      "hold out: P47\n",
      "hold out: P15\n",
      "hold out: P47\n",
      "hold out: P15\n",
      "cd16\n",
      "tensor([0])\n",
      "0\n",
      "1\n",
      "2\n",
      "3\n",
      "4\n",
      "5\n",
      "6\n",
      "7\n",
      "8\n",
      "9\n",
      "0\n",
      "1\n",
      "2\n",
      "3\n",
      "4\n",
      "5\n",
      "6\n",
      "7\n",
      "8\n",
      "9\n",
      "dict_keys(['cd16'])\n",
      "cd3\n",
      "tensor([1])\n"
     ]
    },
    {
     "name": "stderr",
     "output_type": "stream",
     "text": [
      "/tmp/ipykernel_1644638/3527635232.py:244: RuntimeWarning: invalid value encountered in divide\n",
      "  nmco_ad=ad.AnnData((nmco_all_finite-np.min(nmco_all_finite,axis=0,keepdims=True))/(np.max(nmco_all_finite,axis=0,keepdims=True)-np.min(nmco_all_finite,axis=0,keepdims=True)))\n"
     ]
    },
    {
     "name": "stdout",
     "output_type": "stream",
     "text": [
      "0\n",
      "1\n",
      "2\n",
      "3\n",
      "4\n",
      "5\n",
      "6\n",
      "7\n",
      "8\n",
      "9\n"
     ]
    },
    {
     "name": "stderr",
     "output_type": "stream",
     "text": [
      "/tmp/ipykernel_1644638/3527635232.py:369: RuntimeWarning: invalid value encountered in divide\n",
      "  nmco_ad_heldout=ad.AnnData((nmco_val_allProt_np_finite-np.min(nmco_val_allProt_np_finite,axis=0,keepdims=True))/(np.max(nmco_val_allProt_np_finite,axis=0,keepdims=True)-np.min(nmco_val_allProt_np_finite,axis=0,keepdims=True)))\n"
     ]
    },
    {
     "name": "stdout",
     "output_type": "stream",
     "text": [
      "0\n",
      "1\n",
      "2\n",
      "3\n",
      "4\n",
      "5\n",
      "6\n",
      "7\n",
      "8\n",
      "9\n",
      "dict_keys(['cd16', 'cd3'])\n",
      "cd4\n",
      "tensor([2])\n"
     ]
    },
    {
     "name": "stderr",
     "output_type": "stream",
     "text": [
      "/tmp/ipykernel_1644638/3527635232.py:244: RuntimeWarning: invalid value encountered in divide\n",
      "  nmco_ad=ad.AnnData((nmco_all_finite-np.min(nmco_all_finite,axis=0,keepdims=True))/(np.max(nmco_all_finite,axis=0,keepdims=True)-np.min(nmco_all_finite,axis=0,keepdims=True)))\n"
     ]
    },
    {
     "name": "stdout",
     "output_type": "stream",
     "text": [
      "0\n",
      "1\n",
      "2\n",
      "3\n",
      "4\n",
      "5\n",
      "6\n",
      "7\n",
      "8\n",
      "9\n"
     ]
    },
    {
     "name": "stderr",
     "output_type": "stream",
     "text": [
      "/tmp/ipykernel_1644638/3527635232.py:369: RuntimeWarning: invalid value encountered in divide\n",
      "  nmco_ad_heldout=ad.AnnData((nmco_val_allProt_np_finite-np.min(nmco_val_allProt_np_finite,axis=0,keepdims=True))/(np.max(nmco_val_allProt_np_finite,axis=0,keepdims=True)-np.min(nmco_val_allProt_np_finite,axis=0,keepdims=True)))\n"
     ]
    },
    {
     "name": "stdout",
     "output_type": "stream",
     "text": [
      "0\n",
      "1\n",
      "2\n",
      "3\n",
      "4\n",
      "5\n",
      "6\n",
      "7\n",
      "8\n",
      "9\n",
      "dict_keys(['cd16', 'cd3', 'cd4'])\n",
      "cd8\n",
      "tensor([3])\n"
     ]
    },
    {
     "name": "stderr",
     "output_type": "stream",
     "text": [
      "/tmp/ipykernel_1644638/3527635232.py:244: RuntimeWarning: invalid value encountered in divide\n",
      "  nmco_ad=ad.AnnData((nmco_all_finite-np.min(nmco_all_finite,axis=0,keepdims=True))/(np.max(nmco_all_finite,axis=0,keepdims=True)-np.min(nmco_all_finite,axis=0,keepdims=True)))\n"
     ]
    },
    {
     "name": "stdout",
     "output_type": "stream",
     "text": [
      "0\n",
      "1\n",
      "2\n",
      "3\n",
      "4\n",
      "5\n",
      "6\n",
      "7\n",
      "8\n",
      "9\n"
     ]
    },
    {
     "name": "stderr",
     "output_type": "stream",
     "text": [
      "/tmp/ipykernel_1644638/3527635232.py:369: RuntimeWarning: invalid value encountered in divide\n",
      "  nmco_ad_heldout=ad.AnnData((nmco_val_allProt_np_finite-np.min(nmco_val_allProt_np_finite,axis=0,keepdims=True))/(np.max(nmco_val_allProt_np_finite,axis=0,keepdims=True)-np.min(nmco_val_allProt_np_finite,axis=0,keepdims=True)))\n"
     ]
    },
    {
     "name": "stdout",
     "output_type": "stream",
     "text": [
      "0\n",
      "1\n",
      "2\n",
      "3\n",
      "4\n",
      "5\n",
      "6\n",
      "7\n",
      "8\n",
      "9\n",
      "dict_keys(['cd16', 'cd3', 'cd4', 'cd8'])\n",
      "gh2ax\n",
      "tensor([4])\n",
      "0\n",
      "1\n",
      "2\n",
      "3\n",
      "4\n",
      "5\n",
      "6\n",
      "7\n",
      "8\n",
      "9\n",
      "0\n",
      "1\n",
      "2\n",
      "3\n",
      "4\n",
      "5\n",
      "6\n",
      "7\n",
      "8\n",
      "9\n",
      "dict_keys(['cd16', 'cd3', 'cd4', 'cd8', 'gh2ax'])\n",
      "lamin\n",
      "tensor([5])\n"
     ]
    },
    {
     "name": "stderr",
     "output_type": "stream",
     "text": [
      "/tmp/ipykernel_1644638/3527635232.py:244: RuntimeWarning: invalid value encountered in divide\n",
      "  nmco_ad=ad.AnnData((nmco_all_finite-np.min(nmco_all_finite,axis=0,keepdims=True))/(np.max(nmco_all_finite,axis=0,keepdims=True)-np.min(nmco_all_finite,axis=0,keepdims=True)))\n"
     ]
    },
    {
     "name": "stdout",
     "output_type": "stream",
     "text": [
      "0\n",
      "1\n",
      "2\n",
      "3\n",
      "4\n",
      "5\n",
      "6\n",
      "7\n",
      "8\n",
      "9\n"
     ]
    },
    {
     "name": "stderr",
     "output_type": "stream",
     "text": [
      "/tmp/ipykernel_1644638/3527635232.py:369: RuntimeWarning: invalid value encountered in divide\n",
      "  nmco_ad_heldout=ad.AnnData((nmco_val_allProt_np_finite-np.min(nmco_val_allProt_np_finite,axis=0,keepdims=True))/(np.max(nmco_val_allProt_np_finite,axis=0,keepdims=True)-np.min(nmco_val_allProt_np_finite,axis=0,keepdims=True)))\n"
     ]
    },
    {
     "name": "stdout",
     "output_type": "stream",
     "text": [
      "0\n",
      "1\n",
      "2\n",
      "3\n",
      "4\n",
      "5\n",
      "6\n",
      "7\n",
      "8\n",
      "9\n",
      "dict_keys(['cd16', 'cd3', 'cd4', 'cd8', 'gh2ax', 'lamin'])\n",
      "7\n",
      "hold out: HV7\n",
      "hold out: HV8\n",
      "hold out: HV8\n",
      "hold out: HV7\n",
      "hold out: P63\n",
      "hold out: P18\n",
      "hold out: P18\n",
      "hold out: P63\n",
      "hold out: P83\n",
      "hold out: P62\n",
      "hold out: P62\n",
      "hold out: P83\n",
      "hold out: P16\n",
      "hold out: P57\n",
      "hold out: P57\n",
      "hold out: P16\n",
      "cd16\n",
      "tensor([0])\n",
      "0\n",
      "1\n",
      "2\n",
      "3\n",
      "4\n",
      "5\n",
      "6\n",
      "7\n",
      "8\n",
      "9\n",
      "0\n",
      "1\n",
      "2\n",
      "3\n",
      "4\n",
      "5\n",
      "6\n",
      "7\n",
      "8\n",
      "9\n",
      "dict_keys(['cd16'])\n",
      "cd3\n",
      "tensor([1])\n"
     ]
    },
    {
     "name": "stderr",
     "output_type": "stream",
     "text": [
      "/tmp/ipykernel_1644638/3527635232.py:244: RuntimeWarning: invalid value encountered in divide\n",
      "  nmco_ad=ad.AnnData((nmco_all_finite-np.min(nmco_all_finite,axis=0,keepdims=True))/(np.max(nmco_all_finite,axis=0,keepdims=True)-np.min(nmco_all_finite,axis=0,keepdims=True)))\n"
     ]
    },
    {
     "name": "stdout",
     "output_type": "stream",
     "text": [
      "0\n",
      "1\n",
      "2\n",
      "3\n",
      "4\n",
      "5\n",
      "6\n",
      "7\n",
      "8\n",
      "9\n"
     ]
    },
    {
     "name": "stderr",
     "output_type": "stream",
     "text": [
      "/tmp/ipykernel_1644638/3527635232.py:369: RuntimeWarning: invalid value encountered in divide\n",
      "  nmco_ad_heldout=ad.AnnData((nmco_val_allProt_np_finite-np.min(nmco_val_allProt_np_finite,axis=0,keepdims=True))/(np.max(nmco_val_allProt_np_finite,axis=0,keepdims=True)-np.min(nmco_val_allProt_np_finite,axis=0,keepdims=True)))\n"
     ]
    },
    {
     "name": "stdout",
     "output_type": "stream",
     "text": [
      "0\n",
      "1\n",
      "2\n",
      "3\n",
      "4\n",
      "5\n",
      "6\n",
      "7\n",
      "8\n",
      "9\n",
      "dict_keys(['cd16', 'cd3'])\n",
      "cd4\n",
      "tensor([2])\n"
     ]
    },
    {
     "name": "stderr",
     "output_type": "stream",
     "text": [
      "/tmp/ipykernel_1644638/3527635232.py:244: RuntimeWarning: invalid value encountered in divide\n",
      "  nmco_ad=ad.AnnData((nmco_all_finite-np.min(nmco_all_finite,axis=0,keepdims=True))/(np.max(nmco_all_finite,axis=0,keepdims=True)-np.min(nmco_all_finite,axis=0,keepdims=True)))\n"
     ]
    },
    {
     "name": "stdout",
     "output_type": "stream",
     "text": [
      "0\n",
      "1\n",
      "2\n",
      "3\n",
      "4\n",
      "5\n",
      "6\n",
      "7\n",
      "8\n",
      "9\n"
     ]
    },
    {
     "name": "stderr",
     "output_type": "stream",
     "text": [
      "/tmp/ipykernel_1644638/3527635232.py:369: RuntimeWarning: invalid value encountered in divide\n",
      "  nmco_ad_heldout=ad.AnnData((nmco_val_allProt_np_finite-np.min(nmco_val_allProt_np_finite,axis=0,keepdims=True))/(np.max(nmco_val_allProt_np_finite,axis=0,keepdims=True)-np.min(nmco_val_allProt_np_finite,axis=0,keepdims=True)))\n"
     ]
    },
    {
     "name": "stdout",
     "output_type": "stream",
     "text": [
      "0\n",
      "1\n",
      "2\n",
      "3\n",
      "4\n",
      "5\n",
      "6\n",
      "7\n",
      "8\n",
      "9\n",
      "dict_keys(['cd16', 'cd3', 'cd4'])\n",
      "cd8\n",
      "tensor([3])\n"
     ]
    },
    {
     "name": "stderr",
     "output_type": "stream",
     "text": [
      "/tmp/ipykernel_1644638/3527635232.py:244: RuntimeWarning: invalid value encountered in divide\n",
      "  nmco_ad=ad.AnnData((nmco_all_finite-np.min(nmco_all_finite,axis=0,keepdims=True))/(np.max(nmco_all_finite,axis=0,keepdims=True)-np.min(nmco_all_finite,axis=0,keepdims=True)))\n"
     ]
    },
    {
     "name": "stdout",
     "output_type": "stream",
     "text": [
      "0\n",
      "1\n",
      "2\n",
      "3\n",
      "4\n",
      "5\n",
      "6\n",
      "7\n",
      "8\n",
      "9\n"
     ]
    },
    {
     "name": "stderr",
     "output_type": "stream",
     "text": [
      "/tmp/ipykernel_1644638/3527635232.py:369: RuntimeWarning: invalid value encountered in divide\n",
      "  nmco_ad_heldout=ad.AnnData((nmco_val_allProt_np_finite-np.min(nmco_val_allProt_np_finite,axis=0,keepdims=True))/(np.max(nmco_val_allProt_np_finite,axis=0,keepdims=True)-np.min(nmco_val_allProt_np_finite,axis=0,keepdims=True)))\n"
     ]
    },
    {
     "name": "stdout",
     "output_type": "stream",
     "text": [
      "0\n",
      "1\n",
      "2\n",
      "3\n",
      "4\n",
      "5\n",
      "6\n",
      "7\n",
      "8\n",
      "9\n",
      "dict_keys(['cd16', 'cd3', 'cd4', 'cd8'])\n",
      "gh2ax\n",
      "tensor([4])\n",
      "0\n",
      "1\n",
      "2\n",
      "3\n",
      "4\n",
      "5\n",
      "6\n",
      "7\n",
      "8\n",
      "9\n",
      "0\n",
      "1\n",
      "2\n",
      "3\n",
      "4\n",
      "5\n",
      "6\n",
      "7\n",
      "8\n",
      "9\n",
      "dict_keys(['cd16', 'cd3', 'cd4', 'cd8', 'gh2ax'])\n",
      "lamin\n",
      "tensor([5])\n"
     ]
    },
    {
     "name": "stderr",
     "output_type": "stream",
     "text": [
      "/tmp/ipykernel_1644638/3527635232.py:244: RuntimeWarning: invalid value encountered in divide\n",
      "  nmco_ad=ad.AnnData((nmco_all_finite-np.min(nmco_all_finite,axis=0,keepdims=True))/(np.max(nmco_all_finite,axis=0,keepdims=True)-np.min(nmco_all_finite,axis=0,keepdims=True)))\n"
     ]
    },
    {
     "name": "stdout",
     "output_type": "stream",
     "text": [
      "0\n",
      "1\n",
      "2\n",
      "3\n",
      "4\n",
      "5\n",
      "6\n",
      "7\n",
      "8\n",
      "9\n"
     ]
    },
    {
     "name": "stderr",
     "output_type": "stream",
     "text": [
      "/tmp/ipykernel_1644638/3527635232.py:369: RuntimeWarning: invalid value encountered in divide\n",
      "  nmco_ad_heldout=ad.AnnData((nmco_val_allProt_np_finite-np.min(nmco_val_allProt_np_finite,axis=0,keepdims=True))/(np.max(nmco_val_allProt_np_finite,axis=0,keepdims=True)-np.min(nmco_val_allProt_np_finite,axis=0,keepdims=True)))\n"
     ]
    },
    {
     "name": "stdout",
     "output_type": "stream",
     "text": [
      "0\n",
      "1\n",
      "2\n",
      "3\n",
      "4\n",
      "5\n",
      "6\n",
      "7\n",
      "8\n",
      "9\n",
      "dict_keys(['cd16', 'cd3', 'cd4', 'cd8', 'gh2ax', 'lamin'])\n",
      "8\n",
      "hold out: HV5\n",
      "hold out: HV1\n",
      "hold out: HV1\n",
      "hold out: HV5\n",
      "hold out: P72\n",
      "hold out: P41\n",
      "hold out: P72\n",
      "hold out: P41\n",
      "hold out: P38\n",
      "hold out: P48\n",
      "hold out: P48\n",
      "hold out: P38\n",
      "hold out: P52\n",
      "hold out: P84\n",
      "hold out: P52\n",
      "hold out: P84\n",
      "cd16\n",
      "tensor([0])\n",
      "0\n",
      "1\n",
      "2\n",
      "3\n",
      "4\n",
      "5\n",
      "6\n",
      "7\n",
      "8\n",
      "9\n",
      "0\n",
      "1\n",
      "2\n",
      "3\n",
      "4\n",
      "5\n",
      "6\n",
      "7\n",
      "8\n",
      "9\n",
      "dict_keys(['cd16'])\n",
      "cd3\n",
      "tensor([1])\n"
     ]
    },
    {
     "name": "stderr",
     "output_type": "stream",
     "text": [
      "/tmp/ipykernel_1644638/3527635232.py:244: RuntimeWarning: invalid value encountered in divide\n",
      "  nmco_ad=ad.AnnData((nmco_all_finite-np.min(nmco_all_finite,axis=0,keepdims=True))/(np.max(nmco_all_finite,axis=0,keepdims=True)-np.min(nmco_all_finite,axis=0,keepdims=True)))\n"
     ]
    },
    {
     "name": "stdout",
     "output_type": "stream",
     "text": [
      "0\n",
      "1\n",
      "2\n",
      "3\n",
      "4\n",
      "5\n",
      "6\n",
      "7\n",
      "8\n",
      "9\n"
     ]
    },
    {
     "name": "stderr",
     "output_type": "stream",
     "text": [
      "/tmp/ipykernel_1644638/3527635232.py:369: RuntimeWarning: invalid value encountered in divide\n",
      "  nmco_ad_heldout=ad.AnnData((nmco_val_allProt_np_finite-np.min(nmco_val_allProt_np_finite,axis=0,keepdims=True))/(np.max(nmco_val_allProt_np_finite,axis=0,keepdims=True)-np.min(nmco_val_allProt_np_finite,axis=0,keepdims=True)))\n"
     ]
    },
    {
     "name": "stdout",
     "output_type": "stream",
     "text": [
      "0\n",
      "1\n",
      "2\n",
      "3\n",
      "4\n",
      "5\n",
      "6\n",
      "7\n",
      "8\n",
      "9\n",
      "dict_keys(['cd16', 'cd3'])\n",
      "cd4\n",
      "tensor([2])\n"
     ]
    },
    {
     "name": "stderr",
     "output_type": "stream",
     "text": [
      "/tmp/ipykernel_1644638/3527635232.py:244: RuntimeWarning: invalid value encountered in divide\n",
      "  nmco_ad=ad.AnnData((nmco_all_finite-np.min(nmco_all_finite,axis=0,keepdims=True))/(np.max(nmco_all_finite,axis=0,keepdims=True)-np.min(nmco_all_finite,axis=0,keepdims=True)))\n"
     ]
    },
    {
     "name": "stdout",
     "output_type": "stream",
     "text": [
      "0\n",
      "1\n",
      "2\n",
      "3\n",
      "4\n",
      "5\n",
      "6\n",
      "7\n",
      "8\n",
      "9\n"
     ]
    },
    {
     "name": "stderr",
     "output_type": "stream",
     "text": [
      "/tmp/ipykernel_1644638/3527635232.py:369: RuntimeWarning: invalid value encountered in divide\n",
      "  nmco_ad_heldout=ad.AnnData((nmco_val_allProt_np_finite-np.min(nmco_val_allProt_np_finite,axis=0,keepdims=True))/(np.max(nmco_val_allProt_np_finite,axis=0,keepdims=True)-np.min(nmco_val_allProt_np_finite,axis=0,keepdims=True)))\n"
     ]
    },
    {
     "name": "stdout",
     "output_type": "stream",
     "text": [
      "0\n",
      "1\n",
      "2\n",
      "3\n",
      "4\n",
      "5\n",
      "6\n",
      "7\n",
      "8\n",
      "9\n",
      "dict_keys(['cd16', 'cd3', 'cd4'])\n",
      "cd8\n",
      "tensor([3])\n"
     ]
    },
    {
     "name": "stderr",
     "output_type": "stream",
     "text": [
      "/tmp/ipykernel_1644638/3527635232.py:244: RuntimeWarning: invalid value encountered in divide\n",
      "  nmco_ad=ad.AnnData((nmco_all_finite-np.min(nmco_all_finite,axis=0,keepdims=True))/(np.max(nmco_all_finite,axis=0,keepdims=True)-np.min(nmco_all_finite,axis=0,keepdims=True)))\n"
     ]
    },
    {
     "name": "stdout",
     "output_type": "stream",
     "text": [
      "0\n",
      "1\n",
      "2\n",
      "3\n",
      "4\n",
      "5\n",
      "6\n",
      "7\n",
      "8\n",
      "9\n"
     ]
    },
    {
     "name": "stderr",
     "output_type": "stream",
     "text": [
      "/tmp/ipykernel_1644638/3527635232.py:369: RuntimeWarning: invalid value encountered in divide\n",
      "  nmco_ad_heldout=ad.AnnData((nmco_val_allProt_np_finite-np.min(nmco_val_allProt_np_finite,axis=0,keepdims=True))/(np.max(nmco_val_allProt_np_finite,axis=0,keepdims=True)-np.min(nmco_val_allProt_np_finite,axis=0,keepdims=True)))\n"
     ]
    },
    {
     "name": "stdout",
     "output_type": "stream",
     "text": [
      "0\n",
      "1\n",
      "2\n",
      "3\n",
      "4\n",
      "5\n",
      "6\n",
      "7\n",
      "8\n",
      "9\n",
      "dict_keys(['cd16', 'cd3', 'cd4', 'cd8'])\n",
      "gh2ax\n",
      "tensor([4])\n",
      "0\n",
      "1\n",
      "2\n",
      "3\n",
      "4\n",
      "5\n",
      "6\n",
      "7\n",
      "8\n",
      "9\n",
      "0\n",
      "1\n",
      "2\n",
      "3\n",
      "4\n",
      "5\n",
      "6\n",
      "7\n",
      "8\n",
      "9\n",
      "dict_keys(['cd16', 'cd3', 'cd4', 'cd8', 'gh2ax'])\n",
      "lamin\n",
      "tensor([5])\n"
     ]
    },
    {
     "name": "stderr",
     "output_type": "stream",
     "text": [
      "/tmp/ipykernel_1644638/3527635232.py:244: RuntimeWarning: invalid value encountered in divide\n",
      "  nmco_ad=ad.AnnData((nmco_all_finite-np.min(nmco_all_finite,axis=0,keepdims=True))/(np.max(nmco_all_finite,axis=0,keepdims=True)-np.min(nmco_all_finite,axis=0,keepdims=True)))\n"
     ]
    },
    {
     "name": "stdout",
     "output_type": "stream",
     "text": [
      "0\n",
      "1\n",
      "2\n",
      "3\n",
      "4\n",
      "5\n",
      "6\n",
      "7\n",
      "8\n",
      "9\n"
     ]
    },
    {
     "name": "stderr",
     "output_type": "stream",
     "text": [
      "/tmp/ipykernel_1644638/3527635232.py:369: RuntimeWarning: invalid value encountered in divide\n",
      "  nmco_ad_heldout=ad.AnnData((nmco_val_allProt_np_finite-np.min(nmco_val_allProt_np_finite,axis=0,keepdims=True))/(np.max(nmco_val_allProt_np_finite,axis=0,keepdims=True)-np.min(nmco_val_allProt_np_finite,axis=0,keepdims=True)))\n"
     ]
    },
    {
     "name": "stdout",
     "output_type": "stream",
     "text": [
      "0\n",
      "1\n",
      "2\n",
      "3\n",
      "4\n",
      "5\n",
      "6\n",
      "7\n",
      "8\n",
      "9\n",
      "dict_keys(['cd16', 'cd3', 'cd4', 'cd8', 'gh2ax', 'lamin'])\n",
      "9\n",
      "hold out: HV2\n",
      "hold out: HV3\n",
      "hold out: HV3\n",
      "hold out: HV2\n",
      "hold out: P50\n",
      "hold out: P24\n",
      "hold out: P50\n",
      "hold out: P24\n",
      "hold out: P27\n",
      "hold out: P59\n",
      "hold out: P59\n",
      "hold out: P27\n",
      "hold out: P22\n",
      "hold out: P68\n",
      "hold out: P22\n",
      "hold out: P68\n",
      "cd16\n",
      "tensor([0])\n",
      "0\n",
      "1\n",
      "2\n",
      "3\n",
      "4\n",
      "5\n",
      "6\n",
      "7\n",
      "8\n",
      "9\n",
      "0\n",
      "1\n",
      "2\n",
      "3\n",
      "4\n",
      "5\n",
      "6\n",
      "7\n",
      "8\n",
      "9\n",
      "dict_keys(['cd16'])\n",
      "cd3\n",
      "tensor([1])\n"
     ]
    },
    {
     "name": "stderr",
     "output_type": "stream",
     "text": [
      "/tmp/ipykernel_1644638/3527635232.py:244: RuntimeWarning: invalid value encountered in divide\n",
      "  nmco_ad=ad.AnnData((nmco_all_finite-np.min(nmco_all_finite,axis=0,keepdims=True))/(np.max(nmco_all_finite,axis=0,keepdims=True)-np.min(nmco_all_finite,axis=0,keepdims=True)))\n"
     ]
    },
    {
     "name": "stdout",
     "output_type": "stream",
     "text": [
      "0\n",
      "1\n",
      "2\n",
      "3\n",
      "4\n",
      "5\n",
      "6\n",
      "7\n",
      "8\n",
      "9\n"
     ]
    },
    {
     "name": "stderr",
     "output_type": "stream",
     "text": [
      "/tmp/ipykernel_1644638/3527635232.py:369: RuntimeWarning: invalid value encountered in divide\n",
      "  nmco_ad_heldout=ad.AnnData((nmco_val_allProt_np_finite-np.min(nmco_val_allProt_np_finite,axis=0,keepdims=True))/(np.max(nmco_val_allProt_np_finite,axis=0,keepdims=True)-np.min(nmco_val_allProt_np_finite,axis=0,keepdims=True)))\n"
     ]
    },
    {
     "name": "stdout",
     "output_type": "stream",
     "text": [
      "0\n",
      "1\n",
      "2\n",
      "3\n",
      "4\n",
      "5\n",
      "6\n",
      "7\n",
      "8\n",
      "9\n",
      "dict_keys(['cd16', 'cd3'])\n",
      "cd4\n",
      "tensor([2])\n"
     ]
    },
    {
     "name": "stderr",
     "output_type": "stream",
     "text": [
      "/tmp/ipykernel_1644638/3527635232.py:244: RuntimeWarning: invalid value encountered in divide\n",
      "  nmco_ad=ad.AnnData((nmco_all_finite-np.min(nmco_all_finite,axis=0,keepdims=True))/(np.max(nmco_all_finite,axis=0,keepdims=True)-np.min(nmco_all_finite,axis=0,keepdims=True)))\n"
     ]
    },
    {
     "name": "stdout",
     "output_type": "stream",
     "text": [
      "0\n",
      "1\n",
      "2\n",
      "3\n",
      "4\n",
      "5\n",
      "6\n",
      "7\n",
      "8\n",
      "9\n"
     ]
    },
    {
     "name": "stderr",
     "output_type": "stream",
     "text": [
      "/tmp/ipykernel_1644638/3527635232.py:369: RuntimeWarning: invalid value encountered in divide\n",
      "  nmco_ad_heldout=ad.AnnData((nmco_val_allProt_np_finite-np.min(nmco_val_allProt_np_finite,axis=0,keepdims=True))/(np.max(nmco_val_allProt_np_finite,axis=0,keepdims=True)-np.min(nmco_val_allProt_np_finite,axis=0,keepdims=True)))\n"
     ]
    },
    {
     "name": "stdout",
     "output_type": "stream",
     "text": [
      "0\n",
      "1\n",
      "2\n",
      "3\n",
      "4\n",
      "5\n",
      "6\n",
      "7\n",
      "8\n",
      "9\n",
      "dict_keys(['cd16', 'cd3', 'cd4'])\n",
      "cd8\n",
      "tensor([3])\n"
     ]
    },
    {
     "name": "stderr",
     "output_type": "stream",
     "text": [
      "/tmp/ipykernel_1644638/3527635232.py:244: RuntimeWarning: invalid value encountered in divide\n",
      "  nmco_ad=ad.AnnData((nmco_all_finite-np.min(nmco_all_finite,axis=0,keepdims=True))/(np.max(nmco_all_finite,axis=0,keepdims=True)-np.min(nmco_all_finite,axis=0,keepdims=True)))\n"
     ]
    },
    {
     "name": "stdout",
     "output_type": "stream",
     "text": [
      "0\n",
      "1\n",
      "2\n",
      "3\n",
      "4\n",
      "5\n",
      "6\n",
      "7\n",
      "8\n",
      "9\n"
     ]
    },
    {
     "name": "stderr",
     "output_type": "stream",
     "text": [
      "/tmp/ipykernel_1644638/3527635232.py:369: RuntimeWarning: invalid value encountered in divide\n",
      "  nmco_ad_heldout=ad.AnnData((nmco_val_allProt_np_finite-np.min(nmco_val_allProt_np_finite,axis=0,keepdims=True))/(np.max(nmco_val_allProt_np_finite,axis=0,keepdims=True)-np.min(nmco_val_allProt_np_finite,axis=0,keepdims=True)))\n"
     ]
    },
    {
     "name": "stdout",
     "output_type": "stream",
     "text": [
      "0\n",
      "1\n",
      "2\n",
      "3\n",
      "4\n",
      "5\n",
      "6\n",
      "7\n",
      "8\n",
      "9\n",
      "dict_keys(['cd16', 'cd3', 'cd4', 'cd8'])\n",
      "gh2ax\n",
      "tensor([4])\n",
      "0\n",
      "1\n",
      "2\n",
      "3\n",
      "4\n",
      "5\n",
      "6\n",
      "7\n",
      "8\n",
      "9\n",
      "0\n",
      "1\n",
      "2\n",
      "3\n",
      "4\n",
      "5\n",
      "6\n",
      "7\n",
      "8\n",
      "9\n",
      "dict_keys(['cd16', 'cd3', 'cd4', 'cd8', 'gh2ax'])\n",
      "lamin\n",
      "tensor([5])\n"
     ]
    },
    {
     "name": "stderr",
     "output_type": "stream",
     "text": [
      "/tmp/ipykernel_1644638/3527635232.py:244: RuntimeWarning: invalid value encountered in divide\n",
      "  nmco_ad=ad.AnnData((nmco_all_finite-np.min(nmco_all_finite,axis=0,keepdims=True))/(np.max(nmco_all_finite,axis=0,keepdims=True)-np.min(nmco_all_finite,axis=0,keepdims=True)))\n"
     ]
    },
    {
     "name": "stdout",
     "output_type": "stream",
     "text": [
      "0\n",
      "1\n",
      "2\n",
      "3\n",
      "4\n",
      "5\n",
      "6\n",
      "7\n",
      "8\n",
      "9\n"
     ]
    },
    {
     "name": "stderr",
     "output_type": "stream",
     "text": [
      "/tmp/ipykernel_1644638/3527635232.py:369: RuntimeWarning: invalid value encountered in divide\n",
      "  nmco_ad_heldout=ad.AnnData((nmco_val_allProt_np_finite-np.min(nmco_val_allProt_np_finite,axis=0,keepdims=True))/(np.max(nmco_val_allProt_np_finite,axis=0,keepdims=True)-np.min(nmco_val_allProt_np_finite,axis=0,keepdims=True)))\n"
     ]
    },
    {
     "name": "stdout",
     "output_type": "stream",
     "text": [
      "0\n",
      "1\n",
      "2\n",
      "3\n",
      "4\n",
      "5\n",
      "6\n",
      "7\n",
      "8\n",
      "9\n",
      "dict_keys(['cd16', 'cd3', 'cd4', 'cd8', 'gh2ax', 'lamin'])\n",
      "10\n",
      "hold out: HV4\n",
      "hold out: HV7\n",
      "hold out: HV7\n",
      "hold out: HV4\n",
      "hold out: P44\n",
      "hold out: P56\n",
      "hold out: P56\n",
      "hold out: P44\n",
      "hold out: P70\n",
      "hold out: P37\n",
      "hold out: P37\n",
      "hold out: P70\n",
      "hold out: P16\n",
      "hold out: P47\n",
      "hold out: P47\n",
      "hold out: P16\n",
      "cd16\n",
      "tensor([0])\n",
      "0\n",
      "1\n",
      "2\n",
      "3\n",
      "4\n",
      "5\n",
      "6\n",
      "7\n",
      "8\n",
      "9\n",
      "0\n",
      "1\n",
      "2\n",
      "3\n",
      "4\n",
      "5\n",
      "6\n",
      "7\n",
      "8\n",
      "9\n",
      "dict_keys(['cd16'])\n",
      "cd3\n",
      "tensor([1])\n"
     ]
    },
    {
     "name": "stderr",
     "output_type": "stream",
     "text": [
      "/tmp/ipykernel_1644638/3527635232.py:244: RuntimeWarning: invalid value encountered in divide\n",
      "  nmco_ad=ad.AnnData((nmco_all_finite-np.min(nmco_all_finite,axis=0,keepdims=True))/(np.max(nmco_all_finite,axis=0,keepdims=True)-np.min(nmco_all_finite,axis=0,keepdims=True)))\n"
     ]
    },
    {
     "name": "stdout",
     "output_type": "stream",
     "text": [
      "0\n",
      "1\n",
      "2\n",
      "3\n",
      "4\n",
      "5\n",
      "6\n",
      "7\n",
      "8\n",
      "9\n"
     ]
    },
    {
     "name": "stderr",
     "output_type": "stream",
     "text": [
      "/tmp/ipykernel_1644638/3527635232.py:369: RuntimeWarning: invalid value encountered in divide\n",
      "  nmco_ad_heldout=ad.AnnData((nmco_val_allProt_np_finite-np.min(nmco_val_allProt_np_finite,axis=0,keepdims=True))/(np.max(nmco_val_allProt_np_finite,axis=0,keepdims=True)-np.min(nmco_val_allProt_np_finite,axis=0,keepdims=True)))\n"
     ]
    },
    {
     "name": "stdout",
     "output_type": "stream",
     "text": [
      "0\n",
      "1\n",
      "2\n",
      "3\n",
      "4\n",
      "5\n",
      "6\n",
      "7\n",
      "8\n",
      "9\n",
      "dict_keys(['cd16', 'cd3'])\n",
      "cd4\n",
      "tensor([2])\n"
     ]
    },
    {
     "name": "stderr",
     "output_type": "stream",
     "text": [
      "/tmp/ipykernel_1644638/3527635232.py:244: RuntimeWarning: invalid value encountered in divide\n",
      "  nmco_ad=ad.AnnData((nmco_all_finite-np.min(nmco_all_finite,axis=0,keepdims=True))/(np.max(nmco_all_finite,axis=0,keepdims=True)-np.min(nmco_all_finite,axis=0,keepdims=True)))\n"
     ]
    },
    {
     "name": "stdout",
     "output_type": "stream",
     "text": [
      "0\n",
      "1\n",
      "2\n",
      "3\n",
      "4\n",
      "5\n",
      "6\n",
      "7\n",
      "8\n",
      "9\n"
     ]
    },
    {
     "name": "stderr",
     "output_type": "stream",
     "text": [
      "/tmp/ipykernel_1644638/3527635232.py:369: RuntimeWarning: invalid value encountered in divide\n",
      "  nmco_ad_heldout=ad.AnnData((nmco_val_allProt_np_finite-np.min(nmco_val_allProt_np_finite,axis=0,keepdims=True))/(np.max(nmco_val_allProt_np_finite,axis=0,keepdims=True)-np.min(nmco_val_allProt_np_finite,axis=0,keepdims=True)))\n"
     ]
    },
    {
     "name": "stdout",
     "output_type": "stream",
     "text": [
      "0\n",
      "1\n",
      "2\n",
      "3\n",
      "4\n",
      "5\n",
      "6\n",
      "7\n",
      "8\n",
      "9\n",
      "dict_keys(['cd16', 'cd3', 'cd4'])\n",
      "cd8\n",
      "tensor([3])\n"
     ]
    },
    {
     "name": "stderr",
     "output_type": "stream",
     "text": [
      "/tmp/ipykernel_1644638/3527635232.py:244: RuntimeWarning: invalid value encountered in divide\n",
      "  nmco_ad=ad.AnnData((nmco_all_finite-np.min(nmco_all_finite,axis=0,keepdims=True))/(np.max(nmco_all_finite,axis=0,keepdims=True)-np.min(nmco_all_finite,axis=0,keepdims=True)))\n"
     ]
    },
    {
     "name": "stdout",
     "output_type": "stream",
     "text": [
      "0\n",
      "1\n",
      "2\n",
      "3\n",
      "4\n",
      "5\n",
      "6\n",
      "7\n",
      "8\n",
      "9\n"
     ]
    },
    {
     "name": "stderr",
     "output_type": "stream",
     "text": [
      "/tmp/ipykernel_1644638/3527635232.py:369: RuntimeWarning: invalid value encountered in divide\n",
      "  nmco_ad_heldout=ad.AnnData((nmco_val_allProt_np_finite-np.min(nmco_val_allProt_np_finite,axis=0,keepdims=True))/(np.max(nmco_val_allProt_np_finite,axis=0,keepdims=True)-np.min(nmco_val_allProt_np_finite,axis=0,keepdims=True)))\n"
     ]
    },
    {
     "name": "stdout",
     "output_type": "stream",
     "text": [
      "0\n",
      "1\n",
      "2\n",
      "3\n",
      "4\n",
      "5\n",
      "6\n",
      "7\n",
      "8\n",
      "9\n",
      "dict_keys(['cd16', 'cd3', 'cd4', 'cd8'])\n",
      "gh2ax\n",
      "tensor([4])\n",
      "0\n",
      "1\n",
      "2\n",
      "3\n",
      "4\n",
      "5\n",
      "6\n",
      "7\n",
      "8\n",
      "9\n",
      "0\n",
      "1\n",
      "2\n",
      "3\n",
      "4\n",
      "5\n",
      "6\n",
      "7\n",
      "8\n",
      "9\n",
      "dict_keys(['cd16', 'cd3', 'cd4', 'cd8', 'gh2ax'])\n",
      "lamin\n",
      "tensor([5])\n"
     ]
    },
    {
     "name": "stderr",
     "output_type": "stream",
     "text": [
      "/tmp/ipykernel_1644638/3527635232.py:244: RuntimeWarning: invalid value encountered in divide\n",
      "  nmco_ad=ad.AnnData((nmco_all_finite-np.min(nmco_all_finite,axis=0,keepdims=True))/(np.max(nmco_all_finite,axis=0,keepdims=True)-np.min(nmco_all_finite,axis=0,keepdims=True)))\n"
     ]
    },
    {
     "name": "stdout",
     "output_type": "stream",
     "text": [
      "0\n",
      "1\n",
      "2\n",
      "3\n",
      "4\n",
      "5\n",
      "6\n",
      "7\n",
      "8\n",
      "9\n"
     ]
    },
    {
     "name": "stderr",
     "output_type": "stream",
     "text": [
      "/tmp/ipykernel_1644638/3527635232.py:369: RuntimeWarning: invalid value encountered in divide\n",
      "  nmco_ad_heldout=ad.AnnData((nmco_val_allProt_np_finite-np.min(nmco_val_allProt_np_finite,axis=0,keepdims=True))/(np.max(nmco_val_allProt_np_finite,axis=0,keepdims=True)-np.min(nmco_val_allProt_np_finite,axis=0,keepdims=True)))\n"
     ]
    },
    {
     "name": "stdout",
     "output_type": "stream",
     "text": [
      "0\n",
      "1\n",
      "2\n",
      "3\n",
      "4\n",
      "5\n",
      "6\n",
      "7\n",
      "8\n",
      "9\n",
      "dict_keys(['cd16', 'cd3', 'cd4', 'cd8', 'gh2ax', 'lamin'])\n",
      "11\n",
      "hold out: HV8\n",
      "hold out: HV6\n",
      "hold out: HV8\n",
      "hold out: HV6\n",
      "hold out: P14\n",
      "hold out: P55\n",
      "hold out: P55\n",
      "hold out: P14\n",
      "hold out: P83\n",
      "hold out: P42\n",
      "hold out: P42\n",
      "hold out: P83\n",
      "hold out: P46\n",
      "hold out: P15\n",
      "hold out: P46\n",
      "hold out: P15\n",
      "cd16\n",
      "tensor([0])\n",
      "0\n",
      "1\n",
      "2\n",
      "3\n",
      "4\n",
      "5\n",
      "6\n",
      "7\n",
      "8\n",
      "9\n",
      "0\n",
      "1\n",
      "2\n",
      "3\n",
      "4\n",
      "5\n",
      "6\n",
      "7\n",
      "8\n",
      "9\n",
      "dict_keys(['cd16'])\n",
      "cd3\n",
      "tensor([1])\n"
     ]
    },
    {
     "name": "stderr",
     "output_type": "stream",
     "text": [
      "/tmp/ipykernel_1644638/3527635232.py:244: RuntimeWarning: invalid value encountered in divide\n",
      "  nmco_ad=ad.AnnData((nmco_all_finite-np.min(nmco_all_finite,axis=0,keepdims=True))/(np.max(nmco_all_finite,axis=0,keepdims=True)-np.min(nmco_all_finite,axis=0,keepdims=True)))\n"
     ]
    },
    {
     "name": "stdout",
     "output_type": "stream",
     "text": [
      "0\n",
      "1\n",
      "2\n",
      "3\n",
      "4\n",
      "5\n",
      "6\n",
      "7\n",
      "8\n",
      "9\n"
     ]
    },
    {
     "name": "stderr",
     "output_type": "stream",
     "text": [
      "/tmp/ipykernel_1644638/3527635232.py:369: RuntimeWarning: invalid value encountered in divide\n",
      "  nmco_ad_heldout=ad.AnnData((nmco_val_allProt_np_finite-np.min(nmco_val_allProt_np_finite,axis=0,keepdims=True))/(np.max(nmco_val_allProt_np_finite,axis=0,keepdims=True)-np.min(nmco_val_allProt_np_finite,axis=0,keepdims=True)))\n"
     ]
    },
    {
     "name": "stdout",
     "output_type": "stream",
     "text": [
      "0\n",
      "1\n",
      "2\n",
      "3\n",
      "4\n",
      "5\n",
      "6\n",
      "7\n",
      "8\n",
      "9\n",
      "dict_keys(['cd16', 'cd3'])\n",
      "cd4\n",
      "tensor([2])\n"
     ]
    },
    {
     "name": "stderr",
     "output_type": "stream",
     "text": [
      "/tmp/ipykernel_1644638/3527635232.py:244: RuntimeWarning: invalid value encountered in divide\n",
      "  nmco_ad=ad.AnnData((nmco_all_finite-np.min(nmco_all_finite,axis=0,keepdims=True))/(np.max(nmco_all_finite,axis=0,keepdims=True)-np.min(nmco_all_finite,axis=0,keepdims=True)))\n"
     ]
    },
    {
     "name": "stdout",
     "output_type": "stream",
     "text": [
      "0\n",
      "1\n",
      "2\n",
      "3\n",
      "4\n",
      "5\n",
      "6\n",
      "7\n",
      "8\n",
      "9\n"
     ]
    },
    {
     "name": "stderr",
     "output_type": "stream",
     "text": [
      "/tmp/ipykernel_1644638/3527635232.py:369: RuntimeWarning: invalid value encountered in divide\n",
      "  nmco_ad_heldout=ad.AnnData((nmco_val_allProt_np_finite-np.min(nmco_val_allProt_np_finite,axis=0,keepdims=True))/(np.max(nmco_val_allProt_np_finite,axis=0,keepdims=True)-np.min(nmco_val_allProt_np_finite,axis=0,keepdims=True)))\n"
     ]
    },
    {
     "name": "stdout",
     "output_type": "stream",
     "text": [
      "0\n",
      "1\n",
      "2\n",
      "3\n",
      "4\n",
      "5\n",
      "6\n",
      "7\n",
      "8\n",
      "9\n",
      "dict_keys(['cd16', 'cd3', 'cd4'])\n",
      "cd8\n",
      "tensor([3])\n"
     ]
    },
    {
     "name": "stderr",
     "output_type": "stream",
     "text": [
      "/tmp/ipykernel_1644638/3527635232.py:244: RuntimeWarning: invalid value encountered in divide\n",
      "  nmco_ad=ad.AnnData((nmco_all_finite-np.min(nmco_all_finite,axis=0,keepdims=True))/(np.max(nmco_all_finite,axis=0,keepdims=True)-np.min(nmco_all_finite,axis=0,keepdims=True)))\n"
     ]
    },
    {
     "name": "stdout",
     "output_type": "stream",
     "text": [
      "0\n",
      "1\n",
      "2\n",
      "3\n",
      "4\n",
      "5\n",
      "6\n",
      "7\n",
      "8\n",
      "9\n"
     ]
    },
    {
     "name": "stderr",
     "output_type": "stream",
     "text": [
      "/tmp/ipykernel_1644638/3527635232.py:369: RuntimeWarning: invalid value encountered in divide\n",
      "  nmco_ad_heldout=ad.AnnData((nmco_val_allProt_np_finite-np.min(nmco_val_allProt_np_finite,axis=0,keepdims=True))/(np.max(nmco_val_allProt_np_finite,axis=0,keepdims=True)-np.min(nmco_val_allProt_np_finite,axis=0,keepdims=True)))\n"
     ]
    },
    {
     "name": "stdout",
     "output_type": "stream",
     "text": [
      "0\n",
      "1\n",
      "2\n",
      "3\n",
      "4\n",
      "5\n",
      "6\n",
      "7\n",
      "8\n",
      "9\n",
      "dict_keys(['cd16', 'cd3', 'cd4', 'cd8'])\n",
      "gh2ax\n",
      "tensor([4])\n",
      "0\n",
      "1\n",
      "2\n",
      "3\n",
      "4\n",
      "5\n",
      "6\n",
      "7\n",
      "8\n",
      "9\n",
      "0\n",
      "1\n",
      "2\n",
      "3\n",
      "4\n",
      "5\n",
      "6\n",
      "7\n",
      "8\n",
      "9\n",
      "dict_keys(['cd16', 'cd3', 'cd4', 'cd8', 'gh2ax'])\n",
      "lamin\n",
      "tensor([5])\n"
     ]
    },
    {
     "name": "stderr",
     "output_type": "stream",
     "text": [
      "/tmp/ipykernel_1644638/3527635232.py:244: RuntimeWarning: invalid value encountered in divide\n",
      "  nmco_ad=ad.AnnData((nmco_all_finite-np.min(nmco_all_finite,axis=0,keepdims=True))/(np.max(nmco_all_finite,axis=0,keepdims=True)-np.min(nmco_all_finite,axis=0,keepdims=True)))\n"
     ]
    },
    {
     "name": "stdout",
     "output_type": "stream",
     "text": [
      "0\n",
      "1\n",
      "2\n",
      "3\n",
      "4\n",
      "5\n",
      "6\n",
      "7\n",
      "8\n",
      "9\n"
     ]
    },
    {
     "name": "stderr",
     "output_type": "stream",
     "text": [
      "/tmp/ipykernel_1644638/3527635232.py:369: RuntimeWarning: invalid value encountered in divide\n",
      "  nmco_ad_heldout=ad.AnnData((nmco_val_allProt_np_finite-np.min(nmco_val_allProt_np_finite,axis=0,keepdims=True))/(np.max(nmco_val_allProt_np_finite,axis=0,keepdims=True)-np.min(nmco_val_allProt_np_finite,axis=0,keepdims=True)))\n"
     ]
    },
    {
     "name": "stdout",
     "output_type": "stream",
     "text": [
      "0\n",
      "1\n",
      "2\n",
      "3\n",
      "4\n",
      "5\n",
      "6\n",
      "7\n",
      "8\n",
      "9\n",
      "dict_keys(['cd16', 'cd3', 'cd4', 'cd8', 'gh2ax', 'lamin'])\n"
     ]
    }
   ],
   "source": [
    "sourceDir='/data/xinyi/c2p/data/chromark'\n",
    "segDir=os.path.join(sourceDir,'nuclear_masks')\n",
    "imgDir=os.path.join(sourceDir,'raw_data')\n",
    "conditions=['controls','headneck','meningioma', 'glioma']\n",
    "\n",
    "outSize=128\n",
    "savename='pathCentered_'+str(outSize)\n",
    "\n",
    "for h in range(len(holdOutSamples_samples)):\n",
    "    print(h)\n",
    "    holdOutSamples=holdOutSamples_samples[h]\n",
    "\n",
    "    imgsC_all_val={}\n",
    "    imgsP_all_val={}\n",
    "    imgNames_all_val={}\n",
    "    nmco_all_val={}\n",
    "    pID_all_val={}\n",
    "    conditions_all_val={}\n",
    "    for condition_i in conditions:\n",
    "#         print(condition_i)\n",
    "        segDir_i=os.path.join(segDir,condition_i)\n",
    "        imgDir_i=os.path.join(imgDir,condition_i)\n",
    "        for stain in os.listdir(segDir_i):\n",
    "#             print(stain)\n",
    "            segDir_i_stain=os.path.join(segDir_i,stain)\n",
    "            imgDir_i_stain=os.path.join(imgDir_i,stain)\n",
    "\n",
    "            segPID2name={}\n",
    "            for pID_dir in os.listdir(segDir_i_stain):\n",
    "                pID=pID_dir.split('_')\n",
    "                segPID2name[pID[0]]=pID_dir\n",
    "            imgPID2name={}\n",
    "            for pID_dir in os.listdir(imgDir_i_stain):\n",
    "                pID=pID_dir.split('_')\n",
    "                imgPID2name[pID[0]]=pID_dir\n",
    "            for pID in segPID2name.keys():\n",
    "                if condition_i=='meningioma' and stain=='dapi_gh2ax_lamin_cd3' and pID=='P33': #skipping incorrect images\n",
    "                    continue\n",
    "                if pID in holdOutSamples:\n",
    "                    print('hold out: '+pID)\n",
    "                    continue\n",
    "#                 print(pID)\n",
    "                if pID not in imgPID2name:\n",
    "#                     print('img not found '+pID)\n",
    "                    continue\n",
    "                imgDir_i_stain_p=os.path.join(imgDir_i_stain,imgPID2name[pID])\n",
    "                segDir_i_stain_p=os.path.join(segDir_i_stain,segPID2name[pID])\n",
    "\n",
    "                with open(os.path.join(imgDir_i_stain_p,savename+'_imgNames'), 'rb') as output:\n",
    "                    imgNames=pickle.load(output)\n",
    "                with open(os.path.join(imgDir_i_stain_p,savename+'_img'), 'rb') as output:\n",
    "                    img=pickle.load(output)\n",
    "                with open(os.path.join(imgDir_i_stain_p,'nmco_allfeatures_protein'), 'rb') as output:\n",
    "                    nmco_p=pickle.load(output) #excluding label column\n",
    "\n",
    "                stain_list=stain.split('_')\n",
    "                nImgPerStain=int(img.shape[0]/(len(stain_list)-1))\n",
    "                for sother in range(1,len(stain_list)):\n",
    "                    \n",
    "                    if stain_list[sother] not in imgsP_all_val.keys():\n",
    "                        pID_all_val[stain_list[sother]]=np.repeat(pID,img.shape[0])\n",
    "                        imgsC_all_val[stain_list[sother]]=img[:,[0]]\n",
    "                        imgNames_all_val[stain_list[sother]]=imgNames\n",
    "                        nmco_all_val[stain_list[sother]]=nmco_p[stain_list[sother]]\n",
    "                        imgsP_all_val[stain_list[sother]]=img[:,[sother]]\n",
    "                        conditions_all_val[stain_list[sother]]=np.repeat(condition_i,img.shape[0])\n",
    "                    else:\n",
    "                        pID_all_val[stain_list[sother]]=np.concatenate((pID_all_val[stain_list[sother]],np.repeat(pID,img.shape[0])))\n",
    "                        imgsC_all_val[stain_list[sother]]=np.concatenate((imgsC_all_val[stain_list[sother]],img[:,[0]]),axis=0)\n",
    "                        imgNames_all_val[stain_list[sother]]=np.concatenate((imgNames_all_val[stain_list[sother]],imgNames))\n",
    "                        nmco_all_val[stain_list[sother]]=np.concatenate((nmco_all_val[stain_list[sother]],nmco_p[stain_list[sother]]),axis=0)\n",
    "                        imgsP_all_val[stain_list[sother]]=np.concatenate((imgsP_all_val[stain_list[sother]],img[:,[sother]]),axis=0)\n",
    "                        conditions_all_val[stain_list[sother]]=np.concatenate((conditions_all_val[stain_list[sother]],np.repeat(condition_i,img.shape[0])))\n",
    "    \n",
    "    imgsC_val_allProt={}\n",
    "    imgsP_val_allProt={}\n",
    "    imgNames_val_allProt={}\n",
    "    nmco_val_allProt={}\n",
    "    pID_val_allProt={}\n",
    "    conditions_val_allProt={}\n",
    "    for condition_i in conditions:\n",
    "#         print(condition_i)\n",
    "        segDir_i=os.path.join(segDir,condition_i)\n",
    "        imgDir_i=os.path.join(imgDir,condition_i)\n",
    "        for stain in os.listdir(segDir_i):\n",
    "#             print(stain)\n",
    "            segDir_i_stain=os.path.join(segDir_i,stain)\n",
    "            imgDir_i_stain=os.path.join(imgDir_i,stain)\n",
    "\n",
    "            segPID2name={}\n",
    "            for pID_dir in os.listdir(segDir_i_stain):\n",
    "                pID=pID_dir.split('_')\n",
    "                segPID2name[pID[0]]=pID_dir\n",
    "            imgPID2name={}\n",
    "            for pID_dir in os.listdir(imgDir_i_stain):\n",
    "                pID=pID_dir.split('_')\n",
    "                imgPID2name[pID[0]]=pID_dir\n",
    "            for pID in segPID2name.keys():\n",
    "                if condition_i=='meningioma' and stain=='dapi_gh2ax_lamin_cd3' and pID=='P33': #skipping incorrect images\n",
    "                    continue\n",
    "                if pID not in holdOutSamples:\n",
    "                    continue\n",
    "                if pID not in imgPID2name:\n",
    "#                     print('img not found '+pID)\n",
    "                    continue\n",
    "                imgDir_i_stain_p=os.path.join(imgDir_i_stain,imgPID2name[pID])\n",
    "                segDir_i_stain_p=os.path.join(segDir_i_stain,segPID2name[pID])\n",
    "\n",
    "                with open(os.path.join(imgDir_i_stain_p,savename+'_imgNames'), 'rb') as output:\n",
    "                    imgNames=pickle.load(output)\n",
    "                with open(os.path.join(imgDir_i_stain_p,savename+'_img'), 'rb') as output:\n",
    "                    img=pickle.load(output)\n",
    "                with open(os.path.join(imgDir_i_stain_p,'nmco_allfeatures_protein'), 'rb') as output:\n",
    "                    nmco=pickle.load(output)\n",
    "\n",
    "                stain_list=stain.split('_')\n",
    "                for s in range(1,len(stain_list)):\n",
    "                    if stain_list[s] not in imgsP_val_allProt.keys():\n",
    "                        pID_val_allProt[stain_list[s]]=np.repeat(pID,img.shape[0])\n",
    "                        imgsC_val_allProt[stain_list[s]]=img[:,[0]]\n",
    "                        imgNames_val_allProt[stain_list[s]]=imgNames\n",
    "                        nmco_val_allProt[stain_list[s]]=nmco[stain_list[s]]\n",
    "                        imgsP_val_allProt[stain_list[s]]=img[:,[s]]\n",
    "                        conditions_val_allProt[stain_list[s]]=np.repeat(condition_i,img.shape[0])\n",
    "                    else:\n",
    "                        pID_val_allProt[stain_list[s]]=np.concatenate((pID_val_allProt[stain_list[s]],np.repeat(pID,img.shape[0])))\n",
    "                        imgsC_val_allProt[stain_list[s]]=np.concatenate((imgsC_val_allProt[stain_list[s]],img[:,[0]]),axis=0)\n",
    "                        imgNames_val_allProt[stain_list[s]]=np.concatenate((imgNames_val_allProt[stain_list[s]],imgNames))\n",
    "                        nmco_val_allProt[stain_list[s]]=np.concatenate((nmco_val_allProt[stain_list[s]],nmco[stain_list[s]]),axis=0)\n",
    "                        imgsP_val_allProt[stain_list[s]]=np.concatenate((imgsP_val_allProt[stain_list[s]],img[:,[s]]),axis=0)\n",
    "                        conditions_val_allProt[stain_list[s]]=np.concatenate((conditions_val_allProt[stain_list[s]],np.repeat(condition_i,img.shape[0])))\n",
    "\n",
    "    deShared_centered_2bins[h]={}\n",
    "    deShared_centered_2bins_heldout[h]={}\n",
    "    deD_centered_2bins[h]={}\n",
    "    deD_centered_2bins_heldout[h]={}\n",
    "    for p in pnames:\n",
    "        print(p)\n",
    "        plotsavepath_de_h=os.path.join(plotsavepath_lord,p,str(h))\n",
    "        if not os.path.exists(plotsavepath_de_h):\n",
    "            os.mkdir(plotsavepath_de_h)\n",
    "            \n",
    "        \n",
    "        nmco_all_finite=np.copy(nmco_all_val[p])\n",
    "        nmco_all_finite[np.logical_not(np.isfinite(nmco_all_val[p]))]=0\n",
    "        nmco_all_finite=nmco_all_finite[:,np.sum(np.isfinite(nmco_all_val[p]),axis=0)>0]\n",
    "        nmco_val_allProt_np_finite=np.copy(nmco_val_allProt[p][:,np.sum(np.isfinite(nmco_all_val[p]),axis=0)>0])\n",
    "        nmco_val_allProt_np_finite[np.logical_not(np.isfinite(nmco_val_allProt_np_finite))]=0\n",
    "        \n",
    "        ###compute PCA###\n",
    "        #training samples\n",
    "        plabels=torch.tensor(np.repeat(pnames.tolist().index(p),imgsP_all_val[p].shape[0])).long()\n",
    "        print(torch.unique(plabels))\n",
    "        valIdx=np.arange(imgsP_all_val[p].shape[0])\n",
    "        latent_train_shared_dna=np.zeros((imgsP_all_val[p].shape[0],sharedSizes[0]))\n",
    "        latent_train_d_dna=np.zeros((imgsP_all_val[p].shape[0],dSpecificSize))\n",
    "        nvalBatches=int(np.ceil(valIdx.shape[0]/batchsize))\n",
    "        with torch.no_grad():\n",
    "            for i in range(nvalBatches):\n",
    "                valIdx_i=valIdx[i*batchsize:min((i+1)*batchsize,valIdx.shape[0])]\n",
    "                valtarget_p=torch.tensor(imgsP_all_val[p][valIdx_i]).cuda().float()\n",
    "                valInput_ID=plabels[valIdx_i].cuda()\n",
    "                valIdx_i=torch.tensor(valIdx_i)\n",
    "\n",
    "                reconShared_dna_l,recon_dna_l= modelcnn_protein(valtarget_p,valInput_ID)\n",
    "\n",
    "                latent_train_shared_dna[valIdx_i]=reconShared_dna_l.cpu().numpy()\n",
    "                latent_train_d_dna[valIdx_i]=recon_dna_l.cpu().numpy()\n",
    "\n",
    "        pca_train_shared_dna=PCA()\n",
    "        pca_train_d_dna=PCA()\n",
    "        pca_train_shared_dna.fit(latent_train_shared_dna)\n",
    "        pca_train_d_dna.fit(latent_train_d_dna)\n",
    "\n",
    "        ###bin training cells###\n",
    "        nPC=10\n",
    "        nSteps=11 \n",
    "        percentiles=(np.arange(nSteps-1)+1)*100/nSteps\n",
    "        nCellsPerSample=30\n",
    "        allIdx=np.arange(imgsP_all_val[p].shape[0])\n",
    "\n",
    "        latent_shared_pca=pca_train_shared_dna.transform(latent_train_shared_dna)[:,:nPC]\n",
    "        latent_shared_pca_percentile=np.percentile(latent_shared_pca,percentiles,axis=0)\n",
    "        latent_shared_pca_max=np.max(latent_shared_pca,axis=0)\n",
    "        latent_shared_pca_min=np.min(latent_shared_pca,axis=0)\n",
    "        latent_d_pca=pca_train_d_dna.transform(latent_train_d_dna)[:,:nPC]\n",
    "        latent_d_pca_percentile=np.percentile(latent_d_pca,percentiles,axis=0)\n",
    "        latent_d_pca_max=np.max(latent_d_pca,axis=0)\n",
    "        latent_d_pca_min=np.min(latent_d_pca,axis=0)\n",
    "        dist2origin_shared=np.square(latent_shared_pca)\n",
    "        dist2origin_d=np.square(latent_d_pca)\n",
    "\n",
    "        latent_shared_pca_binID=np.zeros((nPC,latent_shared_pca.shape[0]))-1\n",
    "        centerIdx_shared_all=[None]*nPC\n",
    "        latent_d_pca_binID=np.zeros((nPC,latent_d_pca.shape[0]))-1\n",
    "        centerIdx_d_all=[None]*nPC\n",
    "        for pc_i in range(nPC):\n",
    "\n",
    "            #idx of cells at the center of other pcs\n",
    "            dist2origin_shared_i=np.sum(dist2origin_shared[:,:pc_i],axis=1)+np.sum(dist2origin_shared[:,pc_i+1:],axis=1)\n",
    "            thresh_shared_i=np.percentile(dist2origin_shared_i,15)\n",
    "            dist2origin_d_i=np.sum(dist2origin_d[:,:pc_i],axis=1)+np.sum(dist2origin_d[:,pc_i+1:],axis=1)\n",
    "            thresh_d_i=np.percentile(dist2origin_d_i,15)\n",
    "            centerIdx_shared_all[pc_i]=dist2origin_shared_i<thresh_shared_i\n",
    "            centerIdx_d_all[pc_i]=dist2origin_d_i<thresh_d_i\n",
    "        #     print(np.sum(centerIdx_shared))\n",
    "        #     print(np.sum(centerIdx_d))\n",
    "        #     print('\\n')\n",
    "\n",
    "            for sidx in range(nSteps):\n",
    "                if sidx==0:\n",
    "                    min_shared_s=latent_shared_pca_min[pc_i]\n",
    "                    min_d_s=latent_d_pca_min[pc_i]\n",
    "                else:\n",
    "                    min_shared_s=latent_shared_pca_percentile[sidx-1,pc_i]\n",
    "                    min_d_s=latent_d_pca_percentile[sidx-1,pc_i]\n",
    "                if sidx==nSteps-1:\n",
    "                    max_shared_s=latent_shared_pca_max[pc_i]\n",
    "                    max_d_s=latent_d_pca_max[pc_i]\n",
    "                else:\n",
    "                    max_shared_s=latent_shared_pca_percentile[sidx,pc_i]\n",
    "                    max_d_s=latent_d_pca_percentile[sidx,pc_i]\n",
    "\n",
    "                latent_shared_pca_binID[pc_i,np.logical_and(latent_shared_pca[:,pc_i]>min_shared_s,latent_shared_pca[:,pc_i]<=max_shared_s)]=sidx\n",
    "                latent_d_pca_binID[pc_i,np.logical_and(latent_d_pca[:,pc_i]>min_d_s,latent_d_pca[:,pc_i]<=max_d_s)]=sidx\n",
    "\n",
    "\n",
    "        with open(os.path.join(sourceDir,'nmco_allfeatures_names_'+p), 'rb') as output:\n",
    "            nmco_names=pickle.load(output)\n",
    "        nmco_names_finite=nmco_names[np.sum(np.isfinite(nmco_all_val[p]),axis=0)>0]\n",
    "\n",
    "        ###DE of training###\n",
    "        groupID_shared=np.zeros_like(latent_shared_pca_binID).astype(str)\n",
    "        groupID_shared[latent_shared_pca_binID<2]=-1\n",
    "        groupID_shared[latent_shared_pca_binID>8]=1\n",
    "        groupID_shared[latent_shared_pca_binID==5]='c'\n",
    "        groupID_d=np.zeros_like(latent_d_pca_binID).astype(str)\n",
    "        groupID_d[latent_d_pca_binID<2]=-1\n",
    "        groupID_d[latent_d_pca_binID>8]=1\n",
    "        groupID_d[latent_d_pca_binID==5]='c'\n",
    "\n",
    "        deRes_shared_centered=[None]*nPC\n",
    "        deRes_d_centered=[None]*nPC\n",
    "        nmco_ad=ad.AnnData((nmco_all_finite-np.min(nmco_all_finite,axis=0,keepdims=True))/(np.max(nmco_all_finite,axis=0,keepdims=True)-np.min(nmco_all_finite,axis=0,keepdims=True)))\n",
    "\n",
    "        for pc_i in range(nPC):\n",
    "            print(pc_i)\n",
    "            nmco_ad.obs[str(pc_i)+'percentileGroups_shared']=groupID_shared[pc_i].astype(str)\n",
    "            nmco_ad.obs[str(pc_i)+'percentileGroups_d']=groupID_d[pc_i].astype(str)\n",
    "            nmco_ad_subShared=nmco_ad[centerIdx_shared_all[pc_i]].copy()\n",
    "            nmco_ad_subD=nmco_ad[centerIdx_d_all[pc_i]].copy()\n",
    "\n",
    "            if 'c' in np.unique(nmco_ad_subShared.obs[str(pc_i)+'percentileGroups_shared']):\n",
    "                scanpy.tl.rank_genes_groups(nmco_ad_subShared, str(pc_i)+'percentileGroups_shared', method='t-test',groups=np.intersect1d(np.unique(nmco_ad_subShared.obs[str(pc_i)+'percentileGroups_shared']),['-1','1','c']).tolist())\n",
    "                deRes_shared_centered[pc_i]={}\n",
    "                deRes_shared_centered[pc_i]['0']=scanpy.get.rank_genes_groups_df(nmco_ad_subShared,'c')\n",
    "\n",
    "            if 'c' in np.unique(nmco_ad_subD.obs[str(pc_i)+'percentileGroups_d']):\n",
    "                scanpy.tl.rank_genes_groups(nmco_ad_subD, str(pc_i)+'percentileGroups_d', method='t-test',groups=np.intersect1d(np.unique(nmco_ad_subD.obs[str(pc_i)+'percentileGroups_d']),['-1','1','c']).tolist())\n",
    "                deRes_d_centered[pc_i]={}\n",
    "                deRes_d_centered[pc_i]['0']=scanpy.get.rank_genes_groups_df(nmco_ad_subD,'c')\n",
    "\n",
    "            if '1' in np.unique(nmco_ad_subShared.obs[str(pc_i)+'percentileGroups_shared']) and '-1' in np.unique(nmco_ad_subShared.obs[str(pc_i)+'percentileGroups_shared']):\n",
    "                scanpy.tl.rank_genes_groups(nmco_ad_subShared, str(pc_i)+'percentileGroups_shared', method='t-test',groups=['-1','1'])\n",
    "                deRes_shared_centered[pc_i]['1']=scanpy.get.rank_genes_groups_df(nmco_ad_subShared,'1')\n",
    "                deRes_shared_centered[pc_i]['-1']=scanpy.get.rank_genes_groups_df(nmco_ad_subShared,'-1')\n",
    "\n",
    "            if '1' in np.unique(nmco_ad_subD.obs[str(pc_i)+'percentileGroups_d']) and '-1' in np.unique(nmco_ad_subD.obs[str(pc_i)+'percentileGroups_d']):\n",
    "                scanpy.tl.rank_genes_groups(nmco_ad_subD, str(pc_i)+'percentileGroups_d', method='t-test',groups=['-1','1'])\n",
    "                deRes_d_centered[pc_i]['1']=scanpy.get.rank_genes_groups_df(nmco_ad_subD,'1')\n",
    "                deRes_d_centered[pc_i]['-1']=scanpy.get.rank_genes_groups_df(nmco_ad_subD,'-1')\n",
    "\n",
    "        deShared_centered_2bins[h][p]=deRes_shared_centered\n",
    "        deD_centered_2bins[h][p]=deRes_d_centered\n",
    "\n",
    "\n",
    "        ######## held-out PCA #####\n",
    "        plabels=torch.tensor(np.repeat(pnames.tolist().index(p),imgsP_val_allProt[p].shape[0])).long()\n",
    "        valIdx=np.arange(imgsP_val_allProt[p].shape[0])\n",
    "        latent_heldout_shared_dna=np.zeros((imgsP_val_allProt[p].shape[0],sharedSizes[0]))\n",
    "        latent_heldout_d_dna=np.zeros((imgsP_val_allProt[p].shape[0],dSpecificSize))\n",
    "        nvalBatches=int(np.ceil(valIdx.shape[0]/batchsize))\n",
    "        with torch.no_grad():\n",
    "            for i in range(nvalBatches):\n",
    "                valIdx_i=valIdx[i*batchsize:min((i+1)*batchsize,valIdx.shape[0])]\n",
    "                valtarget_p=torch.tensor(imgsP_val_allProt[p][valIdx_i]).cuda().float()\n",
    "                valInput_ID=plabels[valIdx_i].cuda()\n",
    "                valIdx_i=torch.tensor(valIdx_i)\n",
    "\n",
    "                reconShared_dna_l,recon_dna_l= modelcnn_protein(valtarget_p,valInput_ID)\n",
    "\n",
    "                latent_heldout_shared_dna[valIdx_i]=reconShared_dna_l.cpu().numpy()\n",
    "                latent_heldout_d_dna[valIdx_i]=recon_dna_l.cpu().numpy()\n",
    "\n",
    "        latent_shared_pca_heldout=pca_train_shared_dna.transform(latent_heldout_shared_dna)\n",
    "        plt.scatter(latent_shared_pca[:,0],latent_shared_pca[:,1],s=0.1,c='blue')\n",
    "        plt.scatter(latent_shared_pca_heldout[:,0],latent_shared_pca_heldout[:,1],s=0.1,c='red')\n",
    "        plt.savefig(os.path.join(plotsavepath_de_h,'pca_shared_heldout.pdf'))\n",
    "        plt.close()\n",
    "\n",
    "        latent_d_pca_heldout=pca_train_d_dna.transform(latent_heldout_d_dna)\n",
    "        plt.scatter(latent_d_pca[:,0],latent_d_pca[:,1],s=0.1,c='blue')\n",
    "        plt.scatter(latent_d_pca_heldout[:,0],latent_d_pca_heldout[:,1],s=0.1,c='red')\n",
    "        plt.savefig(os.path.join(plotsavepath_de_h,'pca_d_heldout.pdf'))\n",
    "        plt.close()\n",
    "\n",
    "        nPC=10\n",
    "        nSteps=11 \n",
    "        percentiles=(np.arange(nSteps-1)+1)*100/nSteps\n",
    "        nCellsPerSample=30\n",
    "\n",
    "        latent_shared_pca_heldout=pca_train_shared_dna.transform(latent_heldout_shared_dna)[:,:nPC]\n",
    "        latent_d_pca_heldout=pca_train_d_dna.transform(latent_heldout_d_dna)[:,:nPC]\n",
    "        dist2origin_shared=np.square(latent_shared_pca) #use training distance thresh\n",
    "        dist2origin_d=np.square(latent_d_pca)#use training distance thresh\n",
    "        dist2origin_shared_heldout=np.square(latent_shared_pca_heldout) \n",
    "        dist2origin_d_heldout=np.square(latent_d_pca_heldout)\n",
    "\n",
    "        latent_shared_pca_heldout_binID=np.zeros((nPC,latent_shared_pca_heldout.shape[0]))-1\n",
    "        centerIdx_shared_all=[None]*nPC\n",
    "        latent_d_pca_heldout_binID=np.zeros((nPC,latent_d_pca_heldout.shape[0]))-1\n",
    "        centerIdx_d_all=[None]*nPC\n",
    "        for pc_i in range(nPC):\n",
    "\n",
    "            #idx of cells at the center of other pcs\n",
    "            dist2origin_shared_i=np.sum(dist2origin_shared[:,:pc_i],axis=1)+np.sum(dist2origin_shared[:,pc_i+1:],axis=1)\n",
    "            thresh_shared_i=np.percentile(dist2origin_shared_i,15)\n",
    "            dist2origin_d_i=np.sum(dist2origin_d[:,:pc_i],axis=1)+np.sum(dist2origin_d[:,pc_i+1:],axis=1)\n",
    "            thresh_d_i=np.percentile(dist2origin_d_i,15)\n",
    "\n",
    "            dist2origin_shared_i_heldout=np.sum(dist2origin_shared_heldout[:,:pc_i],axis=1)+np.sum(dist2origin_shared_heldout[:,pc_i+1:],axis=1)\n",
    "            dist2origin_d_i_heldout=np.sum(dist2origin_d_heldout[:,:pc_i],axis=1)+np.sum(dist2origin_d_heldout[:,pc_i+1:],axis=1)\n",
    "            centerIdx_shared_all[pc_i]=dist2origin_shared_i_heldout<thresh_shared_i\n",
    "            centerIdx_d_all[pc_i]=dist2origin_d_i_heldout<thresh_d_i\n",
    "\n",
    "            for sidx in range(nSteps):\n",
    "                if sidx==0:\n",
    "                    min_shared_s=latent_shared_pca_min[pc_i]\n",
    "                    min_d_s=latent_d_pca_min[pc_i]\n",
    "                else:\n",
    "                    min_shared_s=latent_shared_pca_percentile[sidx-1,pc_i]\n",
    "                    min_d_s=latent_d_pca_percentile[sidx-1,pc_i]\n",
    "                if sidx==nSteps-1:\n",
    "                    max_shared_s=latent_shared_pca_max[pc_i]\n",
    "                    max_d_s=latent_d_pca_max[pc_i]\n",
    "                else:\n",
    "                    max_shared_s=latent_shared_pca_percentile[sidx,pc_i]\n",
    "                    max_d_s=latent_d_pca_percentile[sidx,pc_i]\n",
    "\n",
    "\n",
    "\n",
    "                latent_shared_pca_heldout_binID[pc_i,np.logical_and(latent_shared_pca_heldout[:,pc_i]>min_shared_s,latent_shared_pca_heldout[:,pc_i]<=max_shared_s)]=sidx\n",
    "                latent_d_pca_heldout_binID[pc_i,np.logical_and(latent_d_pca_heldout[:,pc_i]>min_d_s,latent_d_pca_heldout[:,pc_i]<=max_d_s)]=sidx\n",
    "\n",
    "        groupID_shared_heldout=np.zeros_like(latent_shared_pca_heldout_binID).astype(str)\n",
    "        groupID_shared_heldout[latent_shared_pca_heldout_binID<2]=-1\n",
    "        groupID_shared_heldout[latent_shared_pca_heldout_binID>8]=1\n",
    "        groupID_shared_heldout[latent_shared_pca_heldout_binID==5]='c'\n",
    "        # groupID_shared_heldout[np.logical_and(latent_shared_pca_heldout_binID>3,latent_shared_pca_heldout_binID<7)]='c'\n",
    "        groupID_d_heldout=np.zeros_like(latent_d_pca_heldout_binID).astype(str)\n",
    "        groupID_d_heldout[latent_d_pca_heldout_binID<2]=-1\n",
    "        groupID_d_heldout[latent_d_pca_heldout_binID>8]=1\n",
    "        groupID_d_heldout[latent_d_pca_heldout_binID==5]='c'\n",
    "        # groupID_d_heldout[np.logical_and(latent_d_pca_heldout_binID>3,latent_d_pca_heldout_binID<7)]='c'\n",
    "\n",
    "        ####DE heldout###\n",
    "        deRes_shared_centered_heldout=[None]*nPC\n",
    "        deRes_d_centered_heldout=[None]*nPC\n",
    "        nmco_ad_heldout=ad.AnnData((nmco_val_allProt_np_finite-np.min(nmco_val_allProt_np_finite,axis=0,keepdims=True))/(np.max(nmco_val_allProt_np_finite,axis=0,keepdims=True)-np.min(nmco_val_allProt_np_finite,axis=0,keepdims=True)))\n",
    "\n",
    "        for pc_i in range(nPC):\n",
    "            print(pc_i)\n",
    "            nmco_ad_heldout.obs[str(pc_i)+'percentileGroups_shared']=groupID_shared_heldout[pc_i].astype(str)\n",
    "            nmco_ad_heldout.obs[str(pc_i)+'percentileGroups_d']=groupID_d_heldout[pc_i].astype(str)\n",
    "            nmco_ad_heldout_subShared=nmco_ad_heldout[centerIdx_shared_all[pc_i]].copy()\n",
    "            nmco_ad_heldout_subD=nmco_ad_heldout[centerIdx_d_all[pc_i]].copy()\n",
    "\n",
    "            if 'c' in np.unique(nmco_ad_heldout_subShared.obs[str(pc_i)+'percentileGroups_shared']):\n",
    "                scanpy.tl.rank_genes_groups(nmco_ad_heldout_subShared, str(pc_i)+'percentileGroups_shared', method='t-test',groups=np.intersect1d(np.unique(nmco_ad_heldout_subShared.obs[str(pc_i)+'percentileGroups_shared']),['-1','1','c']).tolist())\n",
    "                deRes_shared_centered_heldout[pc_i]={}\n",
    "                deRes_shared_centered_heldout[pc_i]['0']=scanpy.get.rank_genes_groups_df(nmco_ad_heldout_subShared,'c')\n",
    "\n",
    "            if 'c' in np.unique(nmco_ad_heldout_subD.obs[str(pc_i)+'percentileGroups_d']):\n",
    "                scanpy.tl.rank_genes_groups(nmco_ad_heldout_subD, str(pc_i)+'percentileGroups_d', method='t-test',groups=np.intersect1d(np.unique(nmco_ad_heldout_subD.obs[str(pc_i)+'percentileGroups_d']),['-1','1','c']).tolist())\n",
    "                deRes_d_centered_heldout[pc_i]={}\n",
    "                deRes_d_centered_heldout[pc_i]['0']=scanpy.get.rank_genes_groups_df(nmco_ad_heldout_subD,'c')\n",
    "\n",
    "            if '1' in np.unique(nmco_ad_heldout_subShared.obs[str(pc_i)+'percentileGroups_shared']) and '-1' in np.unique(nmco_ad_heldout_subShared.obs[str(pc_i)+'percentileGroups_shared']):\n",
    "                scanpy.tl.rank_genes_groups(nmco_ad_heldout_subShared, str(pc_i)+'percentileGroups_shared', method='t-test',groups=['-1','1'])\n",
    "                deRes_shared_centered_heldout[pc_i]['1']=scanpy.get.rank_genes_groups_df(nmco_ad_heldout_subShared,'1')\n",
    "                deRes_shared_centered_heldout[pc_i]['-1']=scanpy.get.rank_genes_groups_df(nmco_ad_heldout_subShared,'-1')\n",
    "\n",
    "            if '1' in np.unique(nmco_ad_heldout_subD.obs[str(pc_i)+'percentileGroups_d']) and '-1' in np.unique(nmco_ad_heldout_subD.obs[str(pc_i)+'percentileGroups_d']):\n",
    "                scanpy.tl.rank_genes_groups(nmco_ad_heldout_subD, str(pc_i)+'percentileGroups_d', method='t-test',groups=['-1','1'])\n",
    "                deRes_d_centered_heldout[pc_i]['1']=scanpy.get.rank_genes_groups_df(nmco_ad_heldout_subD,'1')\n",
    "                deRes_d_centered_heldout[pc_i]['-1']=scanpy.get.rank_genes_groups_df(nmco_ad_heldout_subD,'-1')\n",
    "        deShared_centered_2bins_heldout[h][p]=deRes_shared_centered_heldout\n",
    "        deD_centered_2bins_heldout[h][p]=deRes_d_centered_heldout\n",
    "        print(deShared_centered_2bins_heldout[h].keys())\n",
    "        \n",
    "    "
   ]
  },
  {
   "cell_type": "code",
   "execution_count": 49,
   "id": "06d3aa97",
   "metadata": {},
   "outputs": [],
   "source": [
    "plotsavepath_de=os.path.join(plotsavepath_p_protein,'de')\n",
    "if not os.path.exists(plotsavepath_de):\n",
    "    os.mkdir(plotsavepath_de)\n",
    "with open(os.path.join(plotsavepath_de,'de_shared_all_centered_2bins'), 'wb') as output:\n",
    "    pickle.dump(deShared_centered_2bins,output,pickle.HIGHEST_PROTOCOL)\n",
    "with open(os.path.join(plotsavepath_de,'de_d_all_centered_2bins'), 'wb') as output:\n",
    "    pickle.dump(deD_centered_2bins,output,pickle.HIGHEST_PROTOCOL)\n",
    "    \n",
    "with open(os.path.join(plotsavepath_de,'de_shared_all_centered_2bins_heldout'), 'wb') as output:\n",
    "    pickle.dump(deShared_centered_2bins_heldout,output,pickle.HIGHEST_PROTOCOL)\n",
    "with open(os.path.join(plotsavepath_de,'de_d_all_centered_2bins_heldout'), 'wb') as output:\n",
    "    pickle.dump(deD_centered_2bins_heldout,output,pickle.HIGHEST_PROTOCOL)\n"
   ]
  }
 ],
 "metadata": {
  "kernelspec": {
   "display_name": "Python 3 (ipykernel)",
   "language": "python",
   "name": "python3"
  },
  "language_info": {
   "codemirror_mode": {
    "name": "ipython",
    "version": 3
   },
   "file_extension": ".py",
   "mimetype": "text/x-python",
   "name": "python",
   "nbconvert_exporter": "python",
   "pygments_lexer": "ipython3",
   "version": "3.10.8"
  }
 },
 "nbformat": 4,
 "nbformat_minor": 5
}
